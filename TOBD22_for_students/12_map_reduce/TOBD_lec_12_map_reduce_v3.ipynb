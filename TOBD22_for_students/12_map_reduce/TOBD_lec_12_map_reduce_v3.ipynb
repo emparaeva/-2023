{
 "cells": [
  {
   "cell_type": "markdown",
   "metadata": {},
   "source": [
    "# Лекция 12: Map-Reduce\n",
    "\n",
    "__Автор: Сергей Вячеславович Макрушин, 2022 г.__\n",
    "\n",
    "e-mail: s-makrushin@yandex.ru\n",
    "\n",
    "v 0.3 11.12.2022"
   ]
  },
  {
   "cell_type": "markdown",
   "metadata": {},
   "source": [
    "## Разделы: <a class=\"anchor\" id=\"разделы\"></a>\n",
    "* [Map / Filter / Reduce](#map_reduce)\n",
    "* [Dask Bag](#bag)\n",
    "    * [Знакомство с Dask Bag](#bag_intro)\n",
    "    * [Создание Dask Bag и введение в API](#bag_create)\n",
    "    * [API Dask.Bag](#bag_map)\n",
    "    * [Функции маппинга для Dask Bag](#bag_api)    \n",
    "    * [Функции преобразования строк в Dask Bag](#bag_str)    \n",
    "    * [Функции фильтрации в Dask Bag](#bag_filter)\n",
    "    * [Функции преобразующие Dask Bag](#bag_proc)\n",
    "    * [Функции ггруппировки, свертки и агрегации в Dask Bag](#bag_shuffle)\n",
    "* [Пример обработки данных с помощью Dask Bag](#bag_example)\n",
    "\n",
    "-\n",
    "\n",
    "* [к оглавлению](#разделы)"
   ]
  },
  {
   "cell_type": "code",
   "execution_count": 133,
   "metadata": {},
   "outputs": [
    {
     "data": {
      "text/html": [
       "﻿<style>\r\n",
       "\r\n",
       "\r\n",
       "b.n {\r\n",
       "    font-weight: normal;        \r\n",
       "}\r\n",
       "\r\n",
       "b.grbg {\r\n",
       "    background-color: #a0a0a0;      \r\n",
       "}\r\n",
       "\r\n",
       "b.r {\r\n",
       "    color: #ff0000;    \r\n",
       "}\r\n",
       "\r\n",
       "\r\n",
       "b.b {    \r\n",
       "    color: #0000ff;    \r\n",
       "}\r\n",
       "\r\n",
       "b.g {\r\n",
       "    color: #00ff00;    \r\n",
       "}\r\n",
       "\r\n",
       "\r\n",
       "// add your CSS styling here\r\n",
       "\r\n",
       "list-style: none;\r\n",
       "\r\n",
       "ul.s {\r\n",
       "//    list-style-type: none;\r\n",
       "    list-style: none;\r\n",
       "//    background-color: #ff0000;  \r\n",
       "//    color: #ffff00;\r\n",
       "//  padding-left: 1.2em;\r\n",
       "//  text-indent: -1.2em;\r\n",
       "}\r\n",
       "\r\n",
       "li.t {\r\n",
       "    list-style: none;\r\n",
       "//  padding-left: 1.2em;\r\n",
       "//  text-indent: -1.2em;    \r\n",
       "}\r\n",
       "\r\n",
       "\r\n",
       "*.r {\r\n",
       "    color: #ff0000;    \r\n",
       "}\r\n",
       "\r\n",
       "li.t:before {\r\n",
       "    content: \"\\21D2\";    \r\n",
       "//    content: \"►\";\r\n",
       "//    padding-left: -1.2em;    \r\n",
       "    text-indent: -1.2em;    \r\n",
       "    display: block;\r\n",
       "    float: left;\r\n",
       "    \r\n",
       "    \r\n",
       "//    width: 1.2em;\r\n",
       "//    color: #ff0000;\r\n",
       "}\r\n",
       "\r\n",
       "i.m:before {\r\n",
       "    font-style: normal;    \r\n",
       "    content: \"\\21D2\";  \r\n",
       "}\r\n",
       "i.m {\r\n",
       "    font-style: normal; \r\n",
       "}    \r\n",
       "\r\n",
       "/*--------------------*/\r\n",
       "/* em {\r\n",
       "    font-style: normal; \r\n",
       "} */\r\n",
       "\r\n",
       "\r\n",
       "em.bl {\r\n",
       "    font-style: normal;     \r\n",
       "    font-weight: bold;        \r\n",
       "}\r\n",
       "\r\n",
       "/* em.grbg {\r\n",
       "    font-style: normal;         \r\n",
       "    background-color: #a0a0a0;      \r\n",
       "} */\r\n",
       "\r\n",
       "em.cr {\r\n",
       "    font-style: normal;         \r\n",
       "    color: #ff0000;    \r\n",
       "}\r\n",
       "\r\n",
       "em.cb {    \r\n",
       "    font-style: normal;         \r\n",
       "    color: #0000ff;    \r\n",
       "}\r\n",
       "\r\n",
       "em.cg {\r\n",
       "    font-style: normal;         \r\n",
       "    color: #00ff00;    \r\n",
       "}\r\n",
       "\r\n",
       "/*--------------------*/\r\n",
       "\r\n",
       "em.qs {\r\n",
       "    font-style: normal; \r\n",
       "}\r\n",
       "\r\n",
       "em.qs::before {\r\n",
       "    font-weight: bold;    \r\n",
       "    color: #ff0000;    \r\n",
       "    content: \"Q:\";  \r\n",
       "}\r\n",
       "\r\n",
       "em.an {\r\n",
       "    font-style: normal; \r\n",
       "}\r\n",
       "\r\n",
       "em.an:before {\r\n",
       "    font-weight: bold;    \r\n",
       "    color: #0000ff;    \r\n",
       "    content: \"A:\";  \r\n",
       "}\r\n",
       "    \r\n",
       "em.nt {\r\n",
       "    font-style: normal; \r\n",
       "}\r\n",
       "\r\n",
       "em.nt:before {\r\n",
       "    font-weight: bold;    \r\n",
       "    color: #0000ff;    \r\n",
       "    content: \"Note:\";  \r\n",
       "}    \r\n",
       "    \r\n",
       "em.ex {\r\n",
       "    font-style: normal; \r\n",
       "}\r\n",
       "\r\n",
       "em.ex:before {\r\n",
       "    font-weight: bold;    \r\n",
       "    color: #00ff00;    \r\n",
       "    content: \"Ex:\";  \r\n",
       "} \r\n",
       "    \r\n",
       "em.df {\r\n",
       "    font-style: normal; \r\n",
       "}\r\n",
       "\r\n",
       "em.df:before {\r\n",
       "    font-weight: bold;    \r\n",
       "    color: #0000ff;    \r\n",
       "    content: \"Def:\";  \r\n",
       "}    \r\n",
       "\r\n",
       "em.pl {\r\n",
       "    font-style: normal; \r\n",
       "}\r\n",
       "\r\n",
       "em.pl:before {\r\n",
       "    font-weight: bold;    \r\n",
       "    color: #0000ff;    \r\n",
       "    content: \"+\";  \r\n",
       "}    \r\n",
       "\r\n",
       "em.mn {\r\n",
       "    font-style: normal; \r\n",
       "}\r\n",
       "\r\n",
       "em.mn:before {\r\n",
       "    font-weight: bold;    \r\n",
       "    color: #0000ff;    \r\n",
       "    content: \"-\";  \r\n",
       "}        \r\n",
       "\r\n",
       "em.plmn {\r\n",
       "    font-style: normal; \r\n",
       "}\r\n",
       "\r\n",
       "em.plmn:before {\r\n",
       "    font-weight: bold;    \r\n",
       "    color: #0000ff;    \r\n",
       "    content: \"\\00B1\";\\\\\"&plusmn;\";  \r\n",
       "}\r\n",
       "    \r\n",
       "em.hn {\r\n",
       "    font-style: normal; \r\n",
       "}\r\n",
       "\r\n",
       "em.hn:before {\r\n",
       "    font-weight: bold;    \r\n",
       "    color: #0000ff;    \r\n",
       "    content: \"\\21D2\";\\\\\"&rArr;\";  \r\n",
       "}     \r\n",
       "    \r\n",
       "\r\n",
       "#cssTableCenter td, th \r\n",
       "{\r\n",
       "    text-align: center; \r\n",
       "    vertical-align: middle;\r\n",
       "}\r\n",
       "\r\n",
       "</style>"
      ],
      "text/plain": [
       "<IPython.core.display.HTML object>"
      ]
     },
     "execution_count": 133,
     "metadata": {},
     "output_type": "execute_result"
    }
   ],
   "source": [
    "# загружаем стиль для оформления презентации\n",
    "from IPython.display import HTML\n",
    "from urllib.request import urlopen\n",
    "html = urlopen(\"file:./lec_v2.css\")\n",
    "HTML(html.read().decode('utf-8'))"
   ]
  },
  {
   "cell_type": "markdown",
   "metadata": {},
   "source": [
    "## Map / Filter / Reduce <a class=\"anchor\" id=\"map_reduce\"></a>\n",
    "-\n",
    "* [к оглавлению](#разделы)"
   ]
  },
  {
   "cell_type": "markdown",
   "metadata": {},
   "source": [
    "<center>         \n",
    "    <img src=\"./img/MFR_emj.png\" alt=\"Иллюстрация концепции Map / Filter / Reduce\" style=\"width: 500px;\"/>\n",
    "    <b>Иллюстрация концепции Map / Filter / Reduce</b>\n",
    "</center>"
   ]
  },
  {
   "cell_type": "markdown",
   "metadata": {},
   "source": [
    "### Map"
   ]
  },
  {
   "cell_type": "markdown",
   "metadata": {},
   "source": [
    "<center>         \n",
    "    <img src=\"./img/map_.jpg\" alt=\"Работа функции map()\" style=\"width: 700px;\"/>\n",
    "    <b>Работа функции map()</b>\n",
    "</center>\n",
    "\n",
    "Встроенная функция `map() `позволяет применить функцию к каждому элементу последовательности\n",
    "* Функция имеет следующий формат: `mар(<Функция>, <Последовательность1>[, ... , <ПоследовательностьN>])`\n",
    "\n",
    "* Функция возвращает объект, nоддерживающий итерацию, а не сnисок."
   ]
  },
  {
   "cell_type": "markdown",
   "metadata": {},
   "source": [
    "#### Map: пример 1"
   ]
  },
  {
   "cell_type": "code",
   "execution_count": 153,
   "metadata": {},
   "outputs": [],
   "source": [
    "squared = lambda x: x**2"
   ]
  },
  {
   "cell_type": "code",
   "execution_count": 154,
   "metadata": {},
   "outputs": [
    {
     "data": {
      "text/plain": [
       "[0, 1, 2, 3, 4, 5, 6, 7, 8, 9]"
      ]
     },
     "execution_count": 154,
     "metadata": {},
     "output_type": "execute_result"
    }
   ],
   "source": [
    "list(range(10))"
   ]
  },
  {
   "cell_type": "code",
   "execution_count": 157,
   "metadata": {
    "scrolled": true
   },
   "outputs": [
    {
     "data": {
      "text/plain": [
       "<map at 0x16005d2f6a0>"
      ]
     },
     "execution_count": 157,
     "metadata": {},
     "output_type": "execute_result"
    }
   ],
   "source": [
    "m1 = map(squared, range(10)) # второй аргумент - итерируемый объект!\n",
    "m1 # map реализует принцип ленивых вычислений"
   ]
  },
  {
   "cell_type": "code",
   "execution_count": 158,
   "metadata": {},
   "outputs": [],
   "source": [
    "# for e in m1:\n",
    "#     print(e)"
   ]
  },
  {
   "cell_type": "code",
   "execution_count": 159,
   "metadata": {},
   "outputs": [
    {
     "data": {
      "text/plain": [
       "[0, 1, 4, 9, 16, 25, 36, 49, 64, 81]"
      ]
     },
     "execution_count": 159,
     "metadata": {},
     "output_type": "execute_result"
    }
   ],
   "source": [
    "list(m1)"
   ]
  },
  {
   "cell_type": "markdown",
   "metadata": {},
   "source": [
    "#### Map: пример 2"
   ]
  },
  {
   "cell_type": "code",
   "execution_count": 160,
   "metadata": {
    "scrolled": true
   },
   "outputs": [
    {
     "data": {
      "text/plain": [
       "[(0, 0),\n",
       " (1, 10),\n",
       " (2, 20),\n",
       " (3, 30),\n",
       " (4, 40),\n",
       " (5, 50),\n",
       " (6, 60),\n",
       " (7, 70),\n",
       " (8, 80),\n",
       " (9, 90)]"
      ]
     },
     "execution_count": 160,
     "metadata": {},
     "output_type": "execute_result"
    }
   ],
   "source": [
    "ls0 = list(zip(range(10), range(0, 100, 10)))\n",
    "ls0"
   ]
  },
  {
   "cell_type": "code",
   "execution_count": 161,
   "metadata": {},
   "outputs": [],
   "source": [
    "import operator as op"
   ]
  },
  {
   "cell_type": "code",
   "execution_count": 162,
   "metadata": {},
   "outputs": [
    {
     "data": {
      "text/plain": [
       "5"
      ]
     },
     "execution_count": 162,
     "metadata": {},
     "output_type": "execute_result"
    }
   ],
   "source": [
    "op.add(2, 3)"
   ]
  },
  {
   "cell_type": "code",
   "execution_count": 163,
   "metadata": {},
   "outputs": [
    {
     "ename": "TypeError",
     "evalue": "add expected 2 arguments, got 1",
     "output_type": "error",
     "traceback": [
      "\u001b[1;31m---------------------------------------------------------------------------\u001b[0m",
      "\u001b[1;31mTypeError\u001b[0m                                 Traceback (most recent call last)",
      "Input \u001b[1;32mIn [163]\u001b[0m, in \u001b[0;36m<cell line: 1>\u001b[1;34m()\u001b[0m\n\u001b[1;32m----> 1\u001b[0m \u001b[43mop\u001b[49m\u001b[38;5;241;43m.\u001b[39;49m\u001b[43madd\u001b[49m\u001b[43m(\u001b[49m\u001b[43m(\u001b[49m\u001b[38;5;241;43m2\u001b[39;49m\u001b[43m,\u001b[49m\u001b[43m \u001b[49m\u001b[38;5;241;43m3\u001b[39;49m\u001b[43m)\u001b[49m\u001b[43m)\u001b[49m\n",
      "\u001b[1;31mTypeError\u001b[0m: add expected 2 arguments, got 1"
     ]
    }
   ],
   "source": [
    "op.add((2, 3))"
   ]
  },
  {
   "cell_type": "code",
   "execution_count": 164,
   "metadata": {},
   "outputs": [
    {
     "data": {
      "text/plain": [
       "5"
      ]
     },
     "execution_count": 164,
     "metadata": {},
     "output_type": "execute_result"
    }
   ],
   "source": [
    "op.add(*(2, 3))"
   ]
  },
  {
   "cell_type": "markdown",
   "metadata": {},
   "source": [
    "применение функции, принимающей несколько параметров:"
   ]
  },
  {
   "cell_type": "code",
   "execution_count": 165,
   "metadata": {
    "scrolled": false
   },
   "outputs": [
    {
     "ename": "TypeError",
     "evalue": "add expected 2 arguments, got 1",
     "output_type": "error",
     "traceback": [
      "\u001b[1;31m---------------------------------------------------------------------------\u001b[0m",
      "\u001b[1;31mTypeError\u001b[0m                                 Traceback (most recent call last)",
      "Input \u001b[1;32mIn [165]\u001b[0m, in \u001b[0;36m<cell line: 1>\u001b[1;34m()\u001b[0m\n\u001b[1;32m----> 1\u001b[0m \u001b[38;5;28;43mlist\u001b[39;49m\u001b[43m(\u001b[49m\u001b[38;5;28;43mmap\u001b[39;49m\u001b[43m(\u001b[49m\u001b[43mop\u001b[49m\u001b[38;5;241;43m.\u001b[39;49m\u001b[43madd\u001b[49m\u001b[43m,\u001b[49m\u001b[43m \u001b[49m\u001b[43mls0\u001b[49m\u001b[43m)\u001b[49m\u001b[43m)\u001b[49m\n",
      "\u001b[1;31mTypeError\u001b[0m: add expected 2 arguments, got 1"
     ]
    }
   ],
   "source": [
    "list(map(op.add, ls0)) # ошибка, неверное количество параметров!"
   ]
  },
  {
   "cell_type": "code",
   "execution_count": 166,
   "metadata": {},
   "outputs": [],
   "source": [
    "# 1й способ:\n",
    "def my_add(par):\n",
    "    return op.add(*par)"
   ]
  },
  {
   "cell_type": "code",
   "execution_count": 167,
   "metadata": {},
   "outputs": [
    {
     "data": {
      "text/plain": [
       "[0, 11, 22, 33, 44, 55, 66, 77, 88, 99]"
      ]
     },
     "execution_count": 167,
     "metadata": {},
     "output_type": "execute_result"
    }
   ],
   "source": [
    "list(map(my_add, ls0)) "
   ]
  },
  {
   "cell_type": "code",
   "execution_count": 79,
   "metadata": {},
   "outputs": [],
   "source": [
    "# 2й способ:\n",
    "\n",
    "from itertools import starmap\n",
    "# starmap вычисляет значение функции для аргументов сгруппированных в итерируемом объекте (втром параметре)"
   ]
  },
  {
   "cell_type": "code",
   "execution_count": 168,
   "metadata": {},
   "outputs": [
    {
     "data": {
      "text/plain": [
       "[0, 11, 22, 33, 44, 55, 66, 77, 88, 99]"
      ]
     },
     "execution_count": 168,
     "metadata": {},
     "output_type": "execute_result"
    }
   ],
   "source": [
    "list(starmap(op.add, ls0))"
   ]
  },
  {
   "cell_type": "markdown",
   "metadata": {},
   "source": [
    "#### Map: пример 3"
   ]
  },
  {
   "cell_type": "markdown",
   "metadata": {},
   "source": [
    "<center>         \n",
    "    <img src=\"./img/map2_.jpg\" alt=\"Работа функции map() с несколькими итерируемыми объектами\" style=\"width: 700px;\"/>\n",
    "    <b>Работа функции map() с несколькими итерируемыми объектами</b>\n",
    "</center>\n",
    "\n",
    "Функции map() можно nередать несколько nоследовательностей. В этом случае в функцию \n",
    "обратного вызова будут nередаваться сразу несколько элементов, расnоложенных в nоследовательностях на одинаковом смещении. "
   ]
  },
  {
   "cell_type": "code",
   "execution_count": 169,
   "metadata": {},
   "outputs": [],
   "source": [
    "ls1 = list(range(10))\n",
    "ls2 = list(range(0, 100, 10))\n",
    "ls3 = list(range(0, 1000, 100))"
   ]
  },
  {
   "cell_type": "code",
   "execution_count": 170,
   "metadata": {},
   "outputs": [
    {
     "data": {
      "text/plain": [
       "([0, 1, 2, 3, 4, 5, 6, 7, 8, 9],\n",
       " [0, 10, 20, 30, 40, 50, 60, 70, 80, 90],\n",
       " [0, 100, 200, 300, 400, 500, 600, 700, 800, 900])"
      ]
     },
     "execution_count": 170,
     "metadata": {},
     "output_type": "execute_result"
    }
   ],
   "source": [
    "ls1, ls2, ls3"
   ]
  },
  {
   "cell_type": "code",
   "execution_count": 171,
   "metadata": {},
   "outputs": [
    {
     "data": {
      "text/plain": [
       "[0, 11, 22, 33, 44, 55, 66, 77, 88, 99]"
      ]
     },
     "execution_count": 171,
     "metadata": {},
     "output_type": "execute_result"
    }
   ],
   "source": [
    "list(map(op.add, ls1, ls2))"
   ]
  },
  {
   "cell_type": "code",
   "execution_count": 172,
   "metadata": {},
   "outputs": [
    {
     "data": {
      "text/plain": [
       "[0, 10101, 20202, 30303, 40404, 50505, 60606, 70707, 80808, 90909]"
      ]
     },
     "execution_count": 172,
     "metadata": {},
     "output_type": "execute_result"
    }
   ],
   "source": [
    "list(map(lambda x, y, z: x+10*y+100*z, ls1, ls2, ls3))"
   ]
  },
  {
   "cell_type": "markdown",
   "metadata": {},
   "source": [
    "### Filter"
   ]
  },
  {
   "cell_type": "markdown",
   "metadata": {},
   "source": [
    "<center>         \n",
    "    <img src=\"./img/filter_.jpg\" alt=\"Работа функции filter()\" style=\"width: 700px;\"/>\n",
    "    <b>Работа функции filter()</b>\n",
    "</center>\n",
    "\n",
    "Функция `filter()` nозволяет выnолнить nроверку элементов nоследовательности. \n",
    "* Формат функции: `filtеr(<Функция>, <Последовательность>)`\n",
    "* Если в nервом nараметре вместо названия функции указать значение `None`, то каждый элемент nоследонательности будет nроверен на соответствие булевскому значению True.\n",
    "* Если элемент в логическом контексте возвращает значение False, то он не будет добавлен в возвращаемый результат. \n",
    "* Функция возвращает объект, nоддерживающий итерацию, а не сnисок."
   ]
  },
  {
   "cell_type": "code",
   "execution_count": 173,
   "metadata": {},
   "outputs": [],
   "source": [
    "import random\n",
    "random.seed(42)"
   ]
  },
  {
   "cell_type": "code",
   "execution_count": 174,
   "metadata": {},
   "outputs": [
    {
     "data": {
      "text/plain": [
       "[63,\n",
       " -72,\n",
       " -94,\n",
       " 89,\n",
       " -30,\n",
       " -38,\n",
       " -43,\n",
       " -65,\n",
       " 88,\n",
       " -74,\n",
       " 73,\n",
       " 89,\n",
       " 39,\n",
       " -78,\n",
       " 51,\n",
       " 8,\n",
       " -92,\n",
       " -93,\n",
       " -77,\n",
       " -45]"
      ]
     },
     "execution_count": 174,
     "metadata": {},
     "output_type": "execute_result"
    }
   ],
   "source": [
    "lr1 = [random.randint(-100, 100) for i in range(20)]\n",
    "lr1"
   ]
  },
  {
   "cell_type": "code",
   "execution_count": 175,
   "metadata": {},
   "outputs": [
    {
     "data": {
      "text/plain": [
       "[63, -72, -30, 39, -78, 51, -93, -45]"
      ]
     },
     "execution_count": 175,
     "metadata": {},
     "output_type": "execute_result"
    }
   ],
   "source": [
    "list(filter(lambda x: x%3 == 0, lr1))"
   ]
  },
  {
   "cell_type": "code",
   "execution_count": 176,
   "metadata": {},
   "outputs": [
    {
     "data": {
      "text/plain": [
       "[63, -72, -30, 39, -78, 51, -93, -45]"
      ]
     },
     "execution_count": 176,
     "metadata": {},
     "output_type": "execute_result"
    }
   ],
   "source": [
    "# аналог генератор списков:\n",
    "[i for i in lr1 if i%3==0]"
   ]
  },
  {
   "cell_type": "code",
   "execution_count": 177,
   "metadata": {},
   "outputs": [
    {
     "data": {
      "text/plain": [
       "[-1, 1, 1, -1, 1, -1, 1, 1, 1, 1, 0, -1, 0, 1, 0, -1, -1, 1, 0, 0]"
      ]
     },
     "execution_count": 177,
     "metadata": {},
     "output_type": "execute_result"
    }
   ],
   "source": [
    "lr2 = [random.randint(-1, 1) for i in range(20)]\n",
    "lr2"
   ]
  },
  {
   "cell_type": "code",
   "execution_count": 178,
   "metadata": {
    "scrolled": true
   },
   "outputs": [
    {
     "data": {
      "text/plain": [
       "[-1, 1, 1, -1, 1, -1, 1, 1, 1, 1, -1, 1, -1, -1, 1]"
      ]
     },
     "execution_count": 178,
     "metadata": {},
     "output_type": "execute_result"
    }
   ],
   "source": [
    "# первый параметр None имеет особую семантику:\n",
    "list(filter(None, lr2))"
   ]
  },
  {
   "cell_type": "code",
   "execution_count": 179,
   "metadata": {},
   "outputs": [
    {
     "data": {
      "text/plain": [
       "<filter at 0x160060e7640>"
      ]
     },
     "execution_count": 179,
     "metadata": {},
     "output_type": "execute_result"
    }
   ],
   "source": [
    "filter(lambda x: x%3 == 0, lr1)"
   ]
  },
  {
   "cell_type": "code",
   "execution_count": 180,
   "metadata": {},
   "outputs": [
    {
     "data": {
      "text/plain": [
       "<map at 0x160078b7640>"
      ]
     },
     "execution_count": 180,
     "metadata": {},
     "output_type": "execute_result"
    }
   ],
   "source": [
    "map(op.abs, filter(lambda x: x%3 == 0, lr1))"
   ]
  },
  {
   "cell_type": "code",
   "execution_count": 181,
   "metadata": {},
   "outputs": [
    {
     "data": {
      "text/plain": [
       "[63, 72, 30, 39, 78, 51, 93, 45]"
      ]
     },
     "execution_count": 181,
     "metadata": {},
     "output_type": "execute_result"
    }
   ],
   "source": [
    "# последовательное примененеие преобразований:\n",
    "list(map(op.abs, filter(lambda x: x%3 == 0, lr1)))"
   ]
  },
  {
   "cell_type": "code",
   "execution_count": 182,
   "metadata": {},
   "outputs": [
    {
     "name": "stdout",
     "output_type": "stream",
     "text": [
      "3.59 µs ± 754 ns per loop (mean ± std. dev. of 7 runs, 1,000,000 loops each)\n"
     ]
    }
   ],
   "source": [
    "%%timeit\n",
    "[i for i in lr1 if i%3==0]"
   ]
  },
  {
   "cell_type": "code",
   "execution_count": 183,
   "metadata": {},
   "outputs": [
    {
     "name": "stdout",
     "output_type": "stream",
     "text": [
      "4.22 µs ± 473 ns per loop (mean ± std. dev. of 7 runs, 100,000 loops each)\n"
     ]
    }
   ],
   "source": [
    "%%timeit\n",
    "list(filter(lambda x: x%3 == 0, lr1))"
   ]
  },
  {
   "cell_type": "markdown",
   "metadata": {},
   "source": [
    "### Reduce"
   ]
  },
  {
   "cell_type": "code",
   "execution_count": 184,
   "metadata": {},
   "outputs": [],
   "source": [
    "import functools"
   ]
  },
  {
   "cell_type": "code",
   "execution_count": 185,
   "metadata": {},
   "outputs": [],
   "source": [
    "from functools import reduce"
   ]
  },
  {
   "cell_type": "markdown",
   "metadata": {},
   "source": [
    "`functools.reduce(funct, iterable[, initializer])`\n",
    "\n",
    "Вычисляет функцию от двух элементов последовательно для элементов последовательности слева направо таким образом, что результатом вычисления становится единственное значение, которое становится первым аргументом для следующей итерации применения `funct`. "
   ]
  },
  {
   "cell_type": "code",
   "execution_count": 186,
   "metadata": {},
   "outputs": [
    {
     "data": {
      "text/plain": [
       "15"
      ]
     },
     "execution_count": 186,
     "metadata": {},
     "output_type": "execute_result"
    }
   ],
   "source": [
    "# Пример: \n",
    "reduce(lambda x, y: x + y, [1, 2, 3, 4, 5]) # вычисляется как ((((1+2)+3)+4)+5)"
   ]
  },
  {
   "cell_type": "markdown",
   "metadata": {},
   "source": [
    "Левый аргумент функции `funct` (аргумента `reduce`) - это аккумулированное значение, правый аргумент - очередное значение из списка.\n",
    "\n",
    "Если передан необязательный аргумент `initializer`, то он используется в качестве левого аргумента при первом применении \n",
    "функции (исходного аккумулированного значения).\n",
    "\n",
    "Если `initializer` не перередан, а последовательность имеет только одно значение, то возвращается это значенние.\n",
    "\n",
    "<center>         \n",
    "    <img src=\"./img/reduce_.jpg\" alt=\"Работа функции reduce()\" style=\"width: 700px;\"/>\n",
    "    <b>Работа функции reduce()</b>\n",
    "</center>"
   ]
  },
  {
   "cell_type": "code",
   "execution_count": 187,
   "metadata": {},
   "outputs": [
    {
     "data": {
      "text/plain": [
       "[10, 11, 12, 13, 14, 15, 16, 17, 18, 19]"
      ]
     },
     "execution_count": 187,
     "metadata": {},
     "output_type": "execute_result"
    }
   ],
   "source": [
    "ls4 = list(range(10, 20))\n",
    "ls4"
   ]
  },
  {
   "cell_type": "code",
   "execution_count": 188,
   "metadata": {},
   "outputs": [
    {
     "data": {
      "text/plain": [
       "145"
      ]
     },
     "execution_count": 188,
     "metadata": {},
     "output_type": "execute_result"
    }
   ],
   "source": [
    "reduce(op.add, ls4)"
   ]
  },
  {
   "cell_type": "code",
   "execution_count": 189,
   "metadata": {},
   "outputs": [
    {
     "data": {
      "text/plain": [
       "145"
      ]
     },
     "execution_count": 189,
     "metadata": {},
     "output_type": "execute_result"
    }
   ],
   "source": [
    "reduce(op.add, range(10, 20))"
   ]
  },
  {
   "cell_type": "code",
   "execution_count": 190,
   "metadata": {},
   "outputs": [],
   "source": [
    "def add_verbose(x, y):\n",
    "    print(f\"add(x={x}, y={y}) -> {x+y}\")\n",
    "    return x + y"
   ]
  },
  {
   "cell_type": "code",
   "execution_count": 192,
   "metadata": {},
   "outputs": [
    {
     "name": "stdout",
     "output_type": "stream",
     "text": [
      "add(x=10, y=11) -> 21\n",
      "add(x=21, y=12) -> 33\n",
      "add(x=33, y=13) -> 46\n",
      "add(x=46, y=14) -> 60\n",
      "add(x=60, y=15) -> 75\n",
      "add(x=75, y=16) -> 91\n",
      "add(x=91, y=17) -> 108\n",
      "add(x=108, y=18) -> 126\n",
      "add(x=126, y=19) -> 145\n"
     ]
    },
    {
     "data": {
      "text/plain": [
       "145"
      ]
     },
     "execution_count": 192,
     "metadata": {},
     "output_type": "execute_result"
    }
   ],
   "source": [
    "reduce(add_verbose, ls4)"
   ]
  },
  {
   "cell_type": "code",
   "execution_count": 193,
   "metadata": {},
   "outputs": [
    {
     "name": "stdout",
     "output_type": "stream",
     "text": [
      "add(x=1000, y=10) -> 1010\n",
      "add(x=1010, y=11) -> 1021\n",
      "add(x=1021, y=12) -> 1033\n",
      "add(x=1033, y=13) -> 1046\n",
      "add(x=1046, y=14) -> 1060\n",
      "add(x=1060, y=15) -> 1075\n",
      "add(x=1075, y=16) -> 1091\n",
      "add(x=1091, y=17) -> 1108\n",
      "add(x=1108, y=18) -> 1126\n",
      "add(x=1126, y=19) -> 1145\n"
     ]
    },
    {
     "data": {
      "text/plain": [
       "1145"
      ]
     },
     "execution_count": 193,
     "metadata": {},
     "output_type": "execute_result"
    }
   ],
   "source": [
    "reduce(add_verbose, ls4, 1000)"
   ]
  },
  {
   "cell_type": "code",
   "execution_count": 194,
   "metadata": {},
   "outputs": [
    {
     "data": {
      "text/plain": [
       "['This', 'is', 'a', 'test.']"
      ]
     },
     "execution_count": 194,
     "metadata": {},
     "output_type": "execute_result"
    }
   ],
   "source": [
    "st = \"This is a test.\".split()\n",
    "st"
   ]
  },
  {
   "cell_type": "code",
   "execution_count": 195,
   "metadata": {},
   "outputs": [],
   "source": [
    "def f2(n, s):\n",
    "    print(f'n: {n}, s: {s}, len(s): {len(s)}')\n",
    "    return n + len(s)"
   ]
  },
  {
   "cell_type": "code",
   "execution_count": 196,
   "metadata": {},
   "outputs": [
    {
     "name": "stdout",
     "output_type": "stream",
     "text": [
      "n: This, s: is, len(s): 2\n"
     ]
    },
    {
     "ename": "TypeError",
     "evalue": "can only concatenate str (not \"int\") to str",
     "output_type": "error",
     "traceback": [
      "\u001b[1;31m---------------------------------------------------------------------------\u001b[0m",
      "\u001b[1;31mTypeError\u001b[0m                                 Traceback (most recent call last)",
      "Input \u001b[1;32mIn [196]\u001b[0m, in \u001b[0;36m<cell line: 2>\u001b[1;34m()\u001b[0m\n\u001b[0;32m      1\u001b[0m \u001b[38;5;66;03m# Ошибка:\u001b[39;00m\n\u001b[1;32m----> 2\u001b[0m \u001b[43mreduce\u001b[49m\u001b[43m(\u001b[49m\u001b[43mf2\u001b[49m\u001b[43m,\u001b[49m\u001b[43m \u001b[49m\u001b[43m[\u001b[49m\u001b[38;5;124;43m'\u001b[39;49m\u001b[38;5;124;43mThis\u001b[39;49m\u001b[38;5;124;43m'\u001b[39;49m\u001b[43m,\u001b[49m\u001b[43m \u001b[49m\u001b[38;5;124;43m'\u001b[39;49m\u001b[38;5;124;43mis\u001b[39;49m\u001b[38;5;124;43m'\u001b[39;49m\u001b[43m,\u001b[49m\u001b[43m \u001b[49m\u001b[38;5;124;43m'\u001b[39;49m\u001b[38;5;124;43ma\u001b[39;49m\u001b[38;5;124;43m'\u001b[39;49m\u001b[43m,\u001b[49m\u001b[43m \u001b[49m\u001b[38;5;124;43m'\u001b[39;49m\u001b[38;5;124;43mtest.\u001b[39;49m\u001b[38;5;124;43m'\u001b[39;49m\u001b[43m]\u001b[49m\u001b[43m)\u001b[49m\n",
      "Input \u001b[1;32mIn [195]\u001b[0m, in \u001b[0;36mf2\u001b[1;34m(n, s)\u001b[0m\n\u001b[0;32m      1\u001b[0m \u001b[38;5;28;01mdef\u001b[39;00m \u001b[38;5;21mf2\u001b[39m(n, s):\n\u001b[0;32m      2\u001b[0m     \u001b[38;5;28mprint\u001b[39m(\u001b[38;5;124mf\u001b[39m\u001b[38;5;124m'\u001b[39m\u001b[38;5;124mn: \u001b[39m\u001b[38;5;132;01m{\u001b[39;00mn\u001b[38;5;132;01m}\u001b[39;00m\u001b[38;5;124m, s: \u001b[39m\u001b[38;5;132;01m{\u001b[39;00ms\u001b[38;5;132;01m}\u001b[39;00m\u001b[38;5;124m, len(s): \u001b[39m\u001b[38;5;132;01m{\u001b[39;00m\u001b[38;5;28mlen\u001b[39m(s)\u001b[38;5;132;01m}\u001b[39;00m\u001b[38;5;124m'\u001b[39m)\n\u001b[1;32m----> 3\u001b[0m     \u001b[38;5;28;01mreturn\u001b[39;00m \u001b[43mn\u001b[49m\u001b[43m \u001b[49m\u001b[38;5;241;43m+\u001b[39;49m\u001b[43m \u001b[49m\u001b[38;5;28;43mlen\u001b[39;49m\u001b[43m(\u001b[49m\u001b[43ms\u001b[49m\u001b[43m)\u001b[49m\n",
      "\u001b[1;31mTypeError\u001b[0m: can only concatenate str (not \"int\") to str"
     ]
    }
   ],
   "source": [
    "# Ошибка:\n",
    "reduce(f2, ['This', 'is', 'a', 'test.']) "
   ]
  },
  {
   "cell_type": "code",
   "execution_count": 97,
   "metadata": {
    "scrolled": false
   },
   "outputs": [
    {
     "name": "stdout",
     "output_type": "stream",
     "text": [
      "n: 0, s: This, len(s): 4\n",
      "n: 4, s: is, len(s): 2\n",
      "n: 6, s: a, len(s): 1\n",
      "n: 7, s: test., len(s): 5\n"
     ]
    },
    {
     "data": {
      "text/plain": [
       "12"
      ]
     },
     "execution_count": 97,
     "metadata": {},
     "output_type": "execute_result"
    }
   ],
   "source": [
    "reduce(f2, ['This', 'is', 'a', 'test.'], 0) "
   ]
  },
  {
   "cell_type": "code",
   "execution_count": 197,
   "metadata": {
    "scrolled": false
   },
   "outputs": [
    {
     "data": {
      "text/plain": [
       "12"
      ]
     },
     "execution_count": 197,
     "metadata": {},
     "output_type": "execute_result"
    }
   ],
   "source": [
    "reduce(lambda n, s: n + len(s), \"This is a test.\".split(), 0) "
   ]
  },
  {
   "cell_type": "code",
   "execution_count": 198,
   "metadata": {
    "scrolled": true
   },
   "outputs": [
    {
     "data": {
      "text/plain": [
       "['T', 'h', 'i', 's', 'i', 's', 'a', 't', 'e', 's', 't', '.']"
      ]
     },
     "execution_count": 198,
     "metadata": {},
     "output_type": "execute_result"
    }
   ],
   "source": [
    "reduce(lambda n, s: n + list(s), \"This is a test.\".split(), []) "
   ]
  },
  {
   "cell_type": "markdown",
   "metadata": {},
   "source": [
    "## Dask Bag <a class=\"anchor\" id=\"bag\"></a> \n",
    "-\n",
    "* [к оглавлению](#bag)"
   ]
  },
  {
   "cell_type": "markdown",
   "metadata": {},
   "source": [
    "### Знакомство с Dask Bag <a class=\"anchor\" id=\"bag_intro\"></a> \n",
    "-\n",
    "* [к оглавлению](#разделы)"
   ]
  },
  {
   "cell_type": "markdown",
   "metadata": {},
   "source": [
    "__Структура данных Bag__\n",
    "\n",
    "<em class=\"df\"></em> __Мультимножество (bag, multiset)__ в математике - обобщение понятия множества, допускающее включение одного и того же элемента по нескольку раз. Число элементов в мультимножестве, с учётом повторяющихся элементов, называется его размером или мощностью.\n",
    "\n",
    "* `list`: упорядоченная коллекция, допускающая повторы элементв.\n",
    "    * Пример: `[1, 2, 3, 2]`\n",
    "* `set`: неупорядоченная коллекция, не допускающая повторы элементов.\n",
    "    * Пример: `{3, 1, 2}` (эквиваленто `{1, 2, 3}`, данный вариант `{1, 2, 2, 3}` автоматически перобразуется к `{1, 2, 3}`)\n",
    "* `bag`: неупорядоченная коллекция, допускающая повторы элементов. \n",
    "    * Пример: `bag(1, 2, 2, 3)` (эквивалентно `bag(2, 1, 2, 3)`)\n",
    "\n",
    "Таким образом, bag можно рассматривать как __список, не гарантирующий порядка элементов__."
   ]
  },
  {
   "cell_type": "markdown",
   "metadata": {},
   "source": [
    "__Dask.Bag__\n",
    "\n",
    "`Dask.Bag` реализует такие операции, как `map`, `filter`, `fold` (аналог `reduce`) и `groupby` над коллекциями объектов Python. \n",
    "\n",
    "Реализация `Dask.Bag` основана на координации множества списков или итераторов, каждый из которых представляет собой сегмент (partition) большой коллекции. Данная реализация обеспечивает: \n",
    "* параллельное выполнение операций \n",
    "* потребность в небольшом объеме памяти за счет использования итераторов Python и __ленивых вычислений__. Это обеспечивает возможность обработки данных больших чем объем оперативной памяти, даже при использовании всего одного сегмента.\n",
    "\n",
    "\n",
    "<em class=\"df\"></em> __Ленивые вычисления__ (lazy evaluation, или отложенные вычисления) — стратегия вычислений, согласно которой вычисления откладываются до тех пор, пока не понадобится их результат.\n",
    "\n",
    "Аналоги:\n",
    "* `Dask.Bag` можно считать параллельной реализацией пакета `PyToolz` \n",
    "* Или ориентированной на Python версией `PySpark RDD` (интерфейса для работы в Python с ключевой структурой данных Spark - RDD)."
   ]
  },
  {
   "cell_type": "markdown",
   "metadata": {},
   "source": [
    "__Типичное использование Dask.Bag__\n",
    "\n",
    "`Dask.Bag` хорошо подходит для распараллеливания __простой обработки неструктурированных или полу-структурированных данных__, таких как:\n",
    "* текстовые данные\n",
    "* файлы логирования\n",
    "* записи в формате JSON\n",
    "* специальных oбектов Python и т.д. \n",
    "\n",
    "\n",
    "* Если выполнение задачи возможно при помощи `Dask.DataFrame` или `Dask.Array`, то __стоит выбрать этии варианты__, так как основной объем вычислений будет выполняться за счет __быстрых библиотек написанных на компилируемых языках__, тогда как `Dask.Bag` использует только код на Python. \n",
    "* __Приемуществами__ `Dask.Bag` является:\n",
    "    * возможность использовать __любые пользовательские функции__ написанные на Python\n",
    "    * существенно __меньшие требования__ к наличию __строгой структуры__ у обрабатываемых данных."
   ]
  },
  {
   "cell_type": "markdown",
   "metadata": {},
   "source": [
    "__Специфика реализации__\n",
    "\n",
    "По умолчанию, `Dask.Bag` использует для исполнения __планировщик__ `dask.multiprocessing`.\n",
    "* <em class=\"pl\"></em> Это позволяет __обойти проблему GIL__ и полноценно использовать несколько процессорных ядер для объектов реализованных на чситом Python.\n",
    "* <em class=\"mn\"></em> Минусом этого подходя является наличие больших накладных расходов при обмене данных между исполнителями, что важно для производительности вычислений, требующих интенсивного обмена данными. Это редко бывает проблемой, так как типичный поток задач для `Dask.Bag` подразумевает:\n",
    "    * или __черезвычайно параллельные вычисления__ \n",
    "    * или обмен небольшим объемом данных в процессе __свертки__ (англ. folding, также известна как reduce, accumulate).\n",
    "\n",
    "<em class=\"df\"></em> __Чрезвычайная параллельность__ (embarrassingly parallel) - тип задач в системах параллельных вычислений, для которых не требуется прилагать больших усилий при разделении на несколько отдельных параллельных задач (распараллеливании).\n",
    "* Чаще всего __не существует зависимости (или связи) между  параллельными задачами__, то есть их результаты не влияют друг на друга.\n",
    "* Чрезвычайно параллельные задачи __практически не требуют согласования__ между результатами выполнения отдельных этапов, что отличает их от задач распределённых вычислений, которые требуют связи промежуточных результатов.\n",
    "* Такие задачи __легки для исполнения массово паралельных системах__ (кластерах с очень большим количеством вычислительных узлов)."
   ]
  },
  {
   "cell_type": "markdown",
   "metadata": {},
   "source": [
    "__Модель вычислений MapReduce для обработки больших данных__\n",
    "\n",
    "<br/>\n",
    "<center>         \n",
    "    <img src=\"./img/MSR.png\" alt=\"Распространенность использования Dask\" style=\"width: 600px;\"/>\n",
    "    <b>Принцип работы MapReduce</b>\n",
    "</center>\n",
    "\n",
    "__MapReduce__ — модель распределённых вычислений, представленная компанией Google, используемая для параллельных вычислений над очень большими (до нескольких петабайт) наборами данных. Для этого используется большое количества соединенных сетью компьютеров (называемых __«ноды»__), вместе образующих __кластер__.\n",
    "\n",
    "\n",
    "Фреймворк MapReduce обычно включает три шага обработки данных:\n",
    "* На шаге __Map__ (назван по аналогии с функцией высшего порядка `map()`) выполняется предварительная обработка входных данных - главный узел кластера (master node) получает этот список, делит его на части и передает рабочим узлам (worker node). Далее каждый рабочий узел применяет функцию Map к локальным данным и записывает результат в формате «ключ-значение» во временное хранилище.\n",
    "* На шаге __Shuffle__ выполняется \"перемешивание\" рабочие узлы перераспределяют данные на основе выходных ключей (создаваемых функцией map()), так чтобы все данные, относящиеся к одному ключу лежали на одном рабочем узле.\n",
    "* На шаге __Reduce__ выполняется параллельная обработка каждым рабочим узлом каждой группы данных по порядку следования ключей и «склейка» результатов на главном узле. \n",
    "* Далее главный узел получает промежуточные ответы от рабочих узлов и передаёт их на свободные узлы для выполнения следующего шага. Получившийся после прохождения всех необходимых шагов результат – это и есть решение исходной задачи.\n",
    "\n",
    "<center>         \n",
    "    <img src=\"./img/MSR2.png\" alt=\"Распространенность использования Dask\" style=\"width: 800px;\"/>\n",
    "    <b>Принцип работы MapReduce</b>\n",
    "</center>\n",
    "\n",
    "Преимущество MapReduce заключается в том, что он позволяет распределенно производить операции предварительной обработки и свертки.\n",
    "\n",
    "В модели вычислений MapReduce шаг __\"перемешивания\" (shuffle)__, отвечающий за __группировку данных__, требует __интенсивного обмена данными__ между исполнителями.\n",
    "* Например, шаг __группировки (перемешивания)__ выполняется при выполнении операции `Dask.Bag` `groupby`.\n",
    "* __Операция группировки очень ресурсоемкая__ и эффективнее выполняется при помощи `Dask.DataFrame` или `Dask.Array`. Поэтму предпочтительнее использовать `Dask.Bag` для подготовки и структурирования данных, а для выполнения более сложных операций преобразовывать их в `Dask.DataFrame`."
   ]
  },
  {
   "cell_type": "markdown",
   "metadata": {},
   "source": [
    "__Ограничения Dask.Bag__\n",
    "\n",
    "Dask.Bag позволяет выполнять любую функцию на Python, эта универсальность имеет свою цену. Dask.Bag имеет следующие ограничения:\n",
    "* По умолчанию обработка Dask.Bag __выполняется планировщиком, на базе multiprocessing__, что создает ряд ограничений.\n",
    "* Bag яляется __неизменяемой структурой данных__, таким образом нет возможности изменить единичный элемент Dask.Bag не выполнив операцию преобразования для всей структуры данных.\n",
    "* Операции над Bag __медленнее__, чем операции над __Array/DataFrame__ по тем же причинам, по которым операции на Python медленнее чем аналогичные операции в NumPy и Pandas.\n",
    "* Операция __Bag.groupby выполняется медленно__, по возможности нужно использовать вместо нее Bag.foldby или преобразовывать данные в структуру DataFrame."
   ]
  },
  {
   "cell_type": "markdown",
   "metadata": {},
   "source": [
    "### Создание Dask Bag <a class=\"anchor\" id=\"bag_create\"></a> \n",
    "-\n",
    "* [к оглавлению](#разделы)"
   ]
  },
  {
   "cell_type": "markdown",
   "metadata": {},
   "source": [
    "`Bag` можно создать из последовательности (итерируемого объекта) Python, из файла (файлов) и т.п. Данные в `Bag` разбиваются на сегменты (блоки), каждый из которых содержит множество элементов исходного набора данных."
   ]
  },
  {
   "cell_type": "code",
   "execution_count": 199,
   "metadata": {},
   "outputs": [],
   "source": [
    "import dask.bag as db"
   ]
  },
  {
   "cell_type": "code",
   "execution_count": 200,
   "metadata": {},
   "outputs": [
    {
     "data": {
      "text/plain": [
       "(1, 2, 3)"
      ]
     },
     "execution_count": 200,
     "metadata": {},
     "output_type": "execute_result"
    }
   ],
   "source": [
    "# набор данных (list - итерируемый объект Python) из целых чисел\n",
    "b = db.from_sequence([1, 2, 3, 4, 5, 6, 7, 8, 9, 10], npartitions=2) # разбиваем последовательность на 2 сегмента\n",
    "b.take(3) # выводит 3 элемента из Bag"
   ]
  },
  {
   "cell_type": "code",
   "execution_count": 202,
   "metadata": {},
   "outputs": [
    {
     "data": {
      "text/plain": [
       "dask.bag<from_sequence, npartitions=10>"
      ]
     },
     "execution_count": 202,
     "metadata": {},
     "output_type": "execute_result"
    }
   ],
   "source": [
    "b = db.from_sequence([1, 2, 3, 4, 5, 6, 7, 8, 9, 10])\n",
    "b"
   ]
  },
  {
   "cell_type": "markdown",
   "metadata": {},
   "source": [
    "Через параметр `npartitions` можно управлять разбиением данных на сегменты (partitions). По умолчанию Dask пытается разбить данные на количество сегментов, близкое к 100."
   ]
  },
  {
   "cell_type": "markdown",
   "metadata": {},
   "source": [
    "Функция `read_text` может принимать на вход файл или последовательность файлов:\n",
    "\n",
    "```python\n",
    ">>> b = db.read_text('myfile.txt')\n",
    ">>> b = db.read_text(['myfile.1.txt', 'myfile.2.txt', ...])\n",
    ">>> b = db.read_text('myfile.*.txt')\n",
    "```\n",
    "\n",
    "* Функция умеет использовать стандартные форматы архивов, такие как gzip, bz2, xz (могут быть подключены и другие форматы).\n",
    "\n",
    "* Элементами в созданном Bag будут строки переданных текстовых файлов. По умолчанию каждый сегмент Bag будет относится к одному файлу (при помощи параметров files_per_partition и blocksize можно управлять разбиением на сегменты). \n",
    "\n",
    "* __Не загружайте данные предназначенные для Bag предварительно__, используйте для этого только функции Bag. Это позволит избежать нераспараллеленного участка работ и загрузки всего массива данных в память. Если для используемого формата данных нет стандартного загрузчика - исползуйте следующий подход:\n",
    "\n",
    "```python\n",
    ">>> # load_from_filename - пользовательская функция загрузки данных\n",
    ">>> b = db.from_sequence(['1.dat', '2.dat', ...]).map(load_from_filename)\n",
    "```"
   ]
  },
  {
   "cell_type": "code",
   "execution_count": 5,
   "metadata": {},
   "outputs": [],
   "source": [
    "# Генерация данных (нужно создать папку ./data)\n",
    "# скрипты для генерации (в т.ч. prep.py лежат в текущей папке)\n",
    "%run prep.py -d accounts"
   ]
  },
  {
   "cell_type": "code",
   "execution_count": 203,
   "metadata": {},
   "outputs": [
    {
     "data": {
      "text/plain": [
       "('{\"id\": 0, \"name\": \"Frank\", \"transactions\": [{\"transaction-id\": 1341, \"amount\": 289}, {\"transaction-id\": 3824, \"amount\": 240}, {\"transaction-id\": 5168, \"amount\": 235}, {\"transaction-id\": 7303, \"amount\": 250}, {\"transaction-id\": 7580, \"amount\": 283}, {\"transaction-id\": 9440, \"amount\": 169}, {\"transaction-id\": 9660, \"amount\": 127}, {\"transaction-id\": 10265, \"amount\": 247}, {\"transaction-id\": 10680, \"amount\": 171}, {\"transaction-id\": 10864, \"amount\": 142}, {\"transaction-id\": 11473, \"amount\": 183}, {\"transaction-id\": 12037, \"amount\": 203}, {\"transaction-id\": 12272, \"amount\": 206}, {\"transaction-id\": 12767, \"amount\": 156}, {\"transaction-id\": 13008, \"amount\": 195}, {\"transaction-id\": 13233, \"amount\": 162}, {\"transaction-id\": 13614, \"amount\": 197}, {\"transaction-id\": 14379, \"amount\": 240}, {\"transaction-id\": 15409, \"amount\": 313}, {\"transaction-id\": 16717, \"amount\": 162}, {\"transaction-id\": 16873, \"amount\": 221}, {\"transaction-id\": 19635, \"amount\": 162}, {\"transaction-id\": 21944, \"amount\": 180}, {\"transaction-id\": 23245, \"amount\": 231}, {\"transaction-id\": 23376, \"amount\": 192}, {\"transaction-id\": 24006, \"amount\": 120}, {\"transaction-id\": 25476, \"amount\": 207}, {\"transaction-id\": 26189, \"amount\": 287}, {\"transaction-id\": 29792, \"amount\": 106}, {\"transaction-id\": 31466, \"amount\": 93}, {\"transaction-id\": 32378, \"amount\": 189}, {\"transaction-id\": 34276, \"amount\": 175}, {\"transaction-id\": 34402, \"amount\": 130}, {\"transaction-id\": 34508, \"amount\": 167}, {\"transaction-id\": 34562, \"amount\": 130}, {\"transaction-id\": 34659, \"amount\": 267}, {\"transaction-id\": 34762, \"amount\": 158}, {\"transaction-id\": 35969, \"amount\": 242}, {\"transaction-id\": 36103, \"amount\": 244}, {\"transaction-id\": 36621, \"amount\": 171}, {\"transaction-id\": 37329, \"amount\": 196}, {\"transaction-id\": 38860, \"amount\": 182}, {\"transaction-id\": 39947, \"amount\": 204}, {\"transaction-id\": 40805, \"amount\": 153}, {\"transaction-id\": 41174, \"amount\": 235}, {\"transaction-id\": 41195, \"amount\": 196}, {\"transaction-id\": 42806, \"amount\": 200}, {\"transaction-id\": 43416, \"amount\": 171}, {\"transaction-id\": 43833, \"amount\": 190}, {\"transaction-id\": 44464, \"amount\": 151}, {\"transaction-id\": 45132, \"amount\": 106}, {\"transaction-id\": 46622, \"amount\": 298}, {\"transaction-id\": 47571, \"amount\": 199}, {\"transaction-id\": 48538, \"amount\": 172}, {\"transaction-id\": 49155, \"amount\": 170}, {\"transaction-id\": 49905, \"amount\": 274}, {\"transaction-id\": 50917, \"amount\": 185}, {\"transaction-id\": 52656, \"amount\": 238}, {\"transaction-id\": 53907, \"amount\": 163}, {\"transaction-id\": 55619, \"amount\": 207}, {\"transaction-id\": 56438, \"amount\": 142}, {\"transaction-id\": 56951, \"amount\": 197}, {\"transaction-id\": 57636, \"amount\": 206}, {\"transaction-id\": 59536, \"amount\": 220}, {\"transaction-id\": 60576, \"amount\": 220}, {\"transaction-id\": 60880, \"amount\": 189}, {\"transaction-id\": 61330, \"amount\": 190}, {\"transaction-id\": 61758, \"amount\": 240}, {\"transaction-id\": 61791, \"amount\": 188}, {\"transaction-id\": 62117, \"amount\": 193}, {\"transaction-id\": 63123, \"amount\": 195}, {\"transaction-id\": 63205, \"amount\": 184}, {\"transaction-id\": 63682, \"amount\": 263}, {\"transaction-id\": 64177, \"amount\": 262}, {\"transaction-id\": 67605, \"amount\": 183}, {\"transaction-id\": 67882, \"amount\": 165}, {\"transaction-id\": 70677, \"amount\": 85}, {\"transaction-id\": 71090, \"amount\": 184}, {\"transaction-id\": 71718, \"amount\": 208}, {\"transaction-id\": 72208, \"amount\": 251}, {\"transaction-id\": 72304, \"amount\": 185}, {\"transaction-id\": 74031, \"amount\": 233}, {\"transaction-id\": 74199, \"amount\": 216}, {\"transaction-id\": 74998, \"amount\": 202}, {\"transaction-id\": 75345, \"amount\": 131}, {\"transaction-id\": 75460, \"amount\": 149}, {\"transaction-id\": 76127, \"amount\": 235}, {\"transaction-id\": 76931, \"amount\": 297}, {\"transaction-id\": 78429, \"amount\": 232}, {\"transaction-id\": 78814, \"amount\": 249}, {\"transaction-id\": 79586, \"amount\": 197}, {\"transaction-id\": 80230, \"amount\": 152}, {\"transaction-id\": 80574, \"amount\": 224}, {\"transaction-id\": 80847, \"amount\": 240}, {\"transaction-id\": 82135, \"amount\": 137}, {\"transaction-id\": 82162, \"amount\": 188}, {\"transaction-id\": 84770, \"amount\": 193}, {\"transaction-id\": 85069, \"amount\": 192}, {\"transaction-id\": 86558, \"amount\": 97}, {\"transaction-id\": 89373, \"amount\": 261}, {\"transaction-id\": 89650, \"amount\": 209}, {\"transaction-id\": 89690, \"amount\": 212}, {\"transaction-id\": 91685, \"amount\": 246}, {\"transaction-id\": 94793, \"amount\": 312}, {\"transaction-id\": 95739, \"amount\": 180}, {\"transaction-id\": 95949, \"amount\": 133}, {\"transaction-id\": 96507, \"amount\": 209}, {\"transaction-id\": 97980, \"amount\": 173}, {\"transaction-id\": 99999, \"amount\": 293}]}\\n',)"
      ]
     },
     "execution_count": 203,
     "metadata": {},
     "output_type": "execute_result"
    }
   ],
   "source": [
    "# данные загружаются из набора заархивированных файлов формата JSON\n",
    "# элементами Bag будут строки файлов, сегментация будет проведена по файлам\n",
    "data_path = './data'\n",
    "import os\n",
    "b = db.read_text(os.path.join(data_path, 'accounts.*.json.gz'))\n",
    "b.take(1)"
   ]
  },
  {
   "cell_type": "code",
   "execution_count": 204,
   "metadata": {
    "scrolled": true
   },
   "outputs": [
    {
     "data": {
      "text/plain": [
       "50"
      ]
     },
     "execution_count": 204,
     "metadata": {},
     "output_type": "execute_result"
    }
   ],
   "source": [
    "b.npartitions"
   ]
  },
  {
   "cell_type": "markdown",
   "metadata": {},
   "source": [
    "### API Dask.Bag <a class=\"anchor\" id=\"bag_api\"></a> \n",
    "-\n",
    "* [к оглавлению](#разделы)"
   ]
  },
  {
   "cell_type": "markdown",
   "metadata": {},
   "source": [
    "Объекты Bag поддерживают стандартное API, аналогичное имеющемуся в стандартной библиотеке Python и библиотеках toolz или pyspark. В частности, имеются функции, отвечающие за:\n",
    "* __мэппинг__ (map и т.п.)\n",
    "* __фильтрацию и группировку__ (filter, groupby и т.п.)\n",
    "* __свертку__ (reduce и т.п.).\n",
    "\n",
    "Документация по API Dask.Bag : https://docs.dask.org/en/latest/bag-api.html "
   ]
  },
  {
   "cell_type": "code",
   "execution_count": 205,
   "metadata": {},
   "outputs": [
    {
     "data": {
      "text/plain": [
       "dask.bag<lambda, npartitions=4>"
      ]
     },
     "execution_count": 205,
     "metadata": {},
     "output_type": "execute_result"
    }
   ],
   "source": [
    "def is_even(n):\n",
    "    return n % 2 == 0\n",
    "\n",
    "b = db.from_sequence([1, 2, 3, 4, 5, 6, 7, 8, 9, 10, 11, 12], npartitions=4)\n",
    "c = b.filter(is_even).map(lambda x: x ** 2)\n",
    "c"
   ]
  },
  {
   "cell_type": "markdown",
   "metadata": {},
   "source": [
    "* Операции над объектом Bag, создают новые объекты Bag, таким образом формируются задачи для отоложенных вычислений. \n",
    "* Для старта вычислений необходимо вызвать для объекта Bag функцию `compute()`.\n",
    "    * Результат `compute()` для объектов Bag будет представлен в виде списка (или единичного значения при операциях свертки).\n",
    "    * Получение итератора по bag приводит к выполнению `compute()`. Таким образмом `list(bag)` автоматически стартует вычисления."
   ]
  },
  {
   "cell_type": "code",
   "execution_count": 206,
   "metadata": {},
   "outputs": [
    {
     "data": {
      "image/png": "[encoded data removed]",
      "text/plain": [
       "<IPython.core.display.Image object>"
      ]
     },
     "execution_count": 206,
     "metadata": {},
     "output_type": "execute_result"
    }
   ],
   "source": [
    "c.visualize()"
   ]
  },
  {
   "cell_type": "code",
   "execution_count": 207,
   "metadata": {},
   "outputs": [
    {
     "data": {
      "text/plain": [
       "[4, 16, 36, 64, 100, 144]"
      ]
     },
     "execution_count": 207,
     "metadata": {},
     "output_type": "execute_result"
    }
   ],
   "source": [
    "# вызов compute() синхронный: возрват из функции происхоит только после получения всех результатов\n",
    "c.compute()"
   ]
  },
  {
   "cell_type": "code",
   "execution_count": 208,
   "metadata": {},
   "outputs": [
    {
     "data": {
      "text/plain": [
       "[4, 16, 36, 64, 100, 144]"
      ]
     },
     "execution_count": 208,
     "metadata": {},
     "output_type": "execute_result"
    }
   ],
   "source": [
    "list(b.filter(is_even).map(lambda x: x ** 2))"
   ]
  },
  {
   "cell_type": "markdown",
   "metadata": {},
   "source": [
    "Для того чтобы стартовать промежуточные вычсиления, которые приведут к созданию объекта Dask (например Bag), хранящегося в памяти (например загрузки данных из файла и их предварительной обработки) вместо `compute()` нужно вызывать функцию `persist()`. С полученным объектом Bag можно выполнять последующие операции исходя из того что предварительные операции уже выполнены и результаты уже хранятся в оперативной памяти. "
   ]
  },
  {
   "cell_type": "code",
   "execution_count": 209,
   "metadata": {},
   "outputs": [],
   "source": [
    "b = db.from_sequence([1, 2, 3, 4, 5, 6, 7, 8, 9, 10, 11, 12], npartitions=4)\n",
    "c = b.filter(is_even).map(lambda x: x ** 2)\n",
    "p = c.persist()"
   ]
  },
  {
   "cell_type": "code",
   "execution_count": 210,
   "metadata": {},
   "outputs": [
    {
     "data": {
      "text/plain": [
       "dask.bag<lambda, npartitions=4>"
      ]
     },
     "execution_count": 210,
     "metadata": {},
     "output_type": "execute_result"
    }
   ],
   "source": [
    "p"
   ]
  },
  {
   "cell_type": "code",
   "execution_count": 211,
   "metadata": {},
   "outputs": [],
   "source": [
    "m1 = p.map(lambda x: x / 3)"
   ]
  },
  {
   "cell_type": "code",
   "execution_count": 212,
   "metadata": {},
   "outputs": [
    {
     "data": {
      "text/plain": [
       "dask.bag<lambda, npartitions=4>"
      ]
     },
     "execution_count": 212,
     "metadata": {},
     "output_type": "execute_result"
    }
   ],
   "source": [
    "m1"
   ]
  },
  {
   "cell_type": "code",
   "execution_count": 213,
   "metadata": {
    "scrolled": false
   },
   "outputs": [
    {
     "data": {
      "text/plain": [
       "[1.3333333333333333,\n",
       " 5.333333333333333,\n",
       " 12.0,\n",
       " 21.333333333333332,\n",
       " 33.333333333333336,\n",
       " 48.0]"
      ]
     },
     "execution_count": 213,
     "metadata": {},
     "output_type": "execute_result"
    }
   ],
   "source": [
    "list(m1)"
   ]
  },
  {
   "cell_type": "markdown",
   "metadata": {},
   "source": [
    "Если после обработки с помощью Bag получены хорошо структурированные данные, то продолжить их обработку может быть эффективнее при помощи Dask DataFrame (аналог Pandas DataFrame). Ряд операций для DataFrame реализованы существенно эффективнее, да и обычные функции, за счет вызовов откомпелированного кода Pandas, выполняются намного быстрее."
   ]
  },
  {
   "cell_type": "code",
   "execution_count": 214,
   "metadata": {},
   "outputs": [
    {
     "data": {
      "text/html": [
       "<div><strong>Dask DataFrame Structure:</strong></div>\n",
       "<div>\n",
       "<style scoped>\n",
       "    .dataframe tbody tr th:only-of-type {\n",
       "        vertical-align: middle;\n",
       "    }\n",
       "\n",
       "    .dataframe tbody tr th {\n",
       "        vertical-align: top;\n",
       "    }\n",
       "\n",
       "    .dataframe thead th {\n",
       "        text-align: right;\n",
       "    }\n",
       "</style>\n",
       "<table border=\"1\" class=\"dataframe\">\n",
       "  <thead>\n",
       "    <tr style=\"text-align: right;\">\n",
       "      <th></th>\n",
       "      <th>name</th>\n",
       "      <th>balance</th>\n",
       "    </tr>\n",
       "    <tr>\n",
       "      <th>npartitions=2</th>\n",
       "      <th></th>\n",
       "      <th></th>\n",
       "    </tr>\n",
       "  </thead>\n",
       "  <tbody>\n",
       "    <tr>\n",
       "      <th></th>\n",
       "      <td>object</td>\n",
       "      <td>int64</td>\n",
       "    </tr>\n",
       "    <tr>\n",
       "      <th></th>\n",
       "      <td>...</td>\n",
       "      <td>...</td>\n",
       "    </tr>\n",
       "    <tr>\n",
       "      <th></th>\n",
       "      <td>...</td>\n",
       "      <td>...</td>\n",
       "    </tr>\n",
       "  </tbody>\n",
       "</table>\n",
       "</div>\n",
       "<div>Dask Name: to_dataframe, 4 tasks</div>"
      ],
      "text/plain": [
       "Dask DataFrame Structure:\n",
       "                 name balance\n",
       "npartitions=2                \n",
       "               object   int64\n",
       "                  ...     ...\n",
       "                  ...     ...\n",
       "Dask Name: to_dataframe, 4 tasks"
      ]
     },
     "execution_count": 214,
     "metadata": {},
     "output_type": "execute_result"
    }
   ],
   "source": [
    "b = db.from_sequence([{'name': 'Alice',   'balance': 100}, \n",
    "                      {'name': 'Bob',     'balance': 200},\n",
    "                      {'name': 'Charlie', 'balance': 300}], npartitions=2)\n",
    "# преобразование в Dask DataFrame:\n",
    "df = b.to_dataframe()\n",
    "df"
   ]
  },
  {
   "cell_type": "markdown",
   "metadata": {},
   "source": [
    "## Функции маппинга для Dask Bag <a class=\"anchor\" id=\"bag_map\"></a> \n",
    "-\n",
    "* [к оглавлению](#разделы)"
   ]
  },
  {
   "cell_type": "markdown",
   "metadata": {},
   "source": [
    "__Функции маппинга__\n",
    "\n",
    "Функции маппинга для DaskBag:\n",
    "\n",
    "| Функция | Краткое описание |\n",
    "|------|------|\n",
    "|Bag.map(func, \\*args, \\*\\*kwargs) | Apply a function elementwise across one or more bags|\n",
    "|Bag.map_partitions(func, \\*args, \\*\\*kwargs) | Apply a function to every partition across one or more bags|\n",
    "|Bag.starmap(func, \\*\\*kwargs) | Apply a function using argument tuples from the given bag|\n",
    "|Bag.pluck(key[, default]) | Select item from all tuples/dicts in collection|"
   ]
  },
  {
   "cell_type": "code",
   "execution_count": 215,
   "metadata": {},
   "outputs": [],
   "source": [
    "import operator as op"
   ]
  },
  {
   "cell_type": "markdown",
   "metadata": {},
   "source": [
    "Примеры использования функции `map`"
   ]
  },
  {
   "cell_type": "code",
   "execution_count": 216,
   "metadata": {},
   "outputs": [
    {
     "data": {
      "text/plain": [
       "[1, 2, 3, 4, 5, 6]"
      ]
     },
     "execution_count": 216,
     "metadata": {},
     "output_type": "execute_result"
    }
   ],
   "source": [
    "b1 = db.from_sequence(range(6), npartitions=2)\n",
    "b1.map(lambda x: x + 1).compute()"
   ]
  },
  {
   "cell_type": "code",
   "execution_count": 217,
   "metadata": {},
   "outputs": [
    {
     "data": {
      "text/plain": [
       "[6, 8, 10, 12, 14, 16]"
      ]
     },
     "execution_count": 217,
     "metadata": {},
     "output_type": "execute_result"
    }
   ],
   "source": [
    "b2 = db.from_sequence(range(6, 12), npartitions=2)\n",
    "# после func в map могут передваться другие объекты Bag для выполнения мэппинга с несколькими мультимножествами\n",
    "# все объекты Bag, участвующие в мэппинге должны быть одинаково сегментированны\n",
    "b1.map(op.add, b2).compute()"
   ]
  },
  {
   "cell_type": "code",
   "execution_count": 218,
   "metadata": {},
   "outputs": [
    {
     "data": {
      "text/plain": [
       "[2.0,\n",
       " 3.6666666666666665,\n",
       " 8.333333333333334,\n",
       " 4.0,\n",
       " 5.666666666666667,\n",
       " 10.333333333333334]"
      ]
     },
     "execution_count": 218,
     "metadata": {},
     "output_type": "execute_result"
    }
   ],
   "source": [
    "b3 = db.from_sequence([0, 3, 15]*2, npartitions=2)\n",
    "# использование 3х Bag'ов в map:\n",
    "b1.map(lambda *x: sum(x)/len(x), b2, b3).compute()"
   ]
  },
  {
   "cell_type": "code",
   "execution_count": 219,
   "metadata": {
    "scrolled": true
   },
   "outputs": [
    {
     "data": {
      "text/plain": [
       "[0, 1, 8, 27, 64, 125]"
      ]
     },
     "execution_count": 219,
     "metadata": {},
     "output_type": "execute_result"
    }
   ],
   "source": [
    "# Дополнительные аргументы (позиционные и именованные) для func могут передваться через *args, **kwargs\n",
    "# Аргументы будут транслироваться для всех вызовов func. \n",
    "# Дополнительные аргументы должны следовать после объектов типа Bag.\n",
    "b1.map(op.pow, 3).compute()"
   ]
  },
  {
   "cell_type": "code",
   "execution_count": 230,
   "metadata": {},
   "outputs": [
    {
     "data": {
      "text/plain": [
       "[0, 1, 8, 27, 64, 125]"
      ]
     },
     "execution_count": 230,
     "metadata": {},
     "output_type": "execute_result"
    }
   ],
   "source": [
    "# менее удобный способ решения задачи:\n",
    "b1.map(lambda x: op.pow(x, 3)).compute()"
   ]
  },
  {
   "cell_type": "markdown",
   "metadata": {},
   "source": [
    "Примеры использования функции `starmap`"
   ]
  },
  {
   "cell_type": "code",
   "execution_count": 222,
   "metadata": {
    "scrolled": true
   },
   "outputs": [
    {
     "data": {
      "text/plain": [
       "[3, 7, 11, 15, 19]"
      ]
     },
     "execution_count": 222,
     "metadata": {},
     "output_type": "execute_result"
    }
   ],
   "source": [
    "# starmap применяет func к картежам аргументов из преданного на вход объекта bag\n",
    "b = db.from_sequence([(1, 2), (3, 4), (5, 6), (7, 8), (9, 10)], npartitions=2)\n",
    "b.starmap(op.add).compute()"
   ]
  },
  {
   "cell_type": "markdown",
   "metadata": {},
   "source": [
    "Примеры использования функции `pluck`"
   ]
  },
  {
   "cell_type": "code",
   "execution_count": 223,
   "metadata": {},
   "outputs": [],
   "source": [
    "# pluck выбирает значение по ключу (индексу) из коллекции (словаря, списка, кортежа)\n",
    "\n",
    "b = db.from_sequence([{'name': 'Alice', 'credits': [1, 2, 3]},\n",
    "                      {'name': 'Bob',   'credits': [10, 20]},\n",
    "                      {'name': 'Rob'}])"
   ]
  },
  {
   "cell_type": "code",
   "execution_count": 224,
   "metadata": {},
   "outputs": [
    {
     "data": {
      "text/plain": [
       "['Alice', 'Bob', 'Rob']"
      ]
     },
     "execution_count": 224,
     "metadata": {},
     "output_type": "execute_result"
    }
   ],
   "source": [
    "b.map(lambda x: x['name']).compute()"
   ]
  },
  {
   "cell_type": "code",
   "execution_count": 225,
   "metadata": {},
   "outputs": [
    {
     "data": {
      "text/plain": [
       "['Alice', 'Bob', 'Rob']"
      ]
     },
     "execution_count": 225,
     "metadata": {},
     "output_type": "execute_result"
    }
   ],
   "source": [
    "b.pluck('name').compute()"
   ]
  },
  {
   "cell_type": "code",
   "execution_count": 226,
   "metadata": {},
   "outputs": [
    {
     "data": {
      "text/plain": [
       "[[1, 2, 3], [10, 20], [-1]]"
      ]
     },
     "execution_count": 226,
     "metadata": {},
     "output_type": "execute_result"
    }
   ],
   "source": [
    "# использование значения по умолчанию:\n",
    "b.pluck('credits', default=[-1]).compute()"
   ]
  },
  {
   "cell_type": "code",
   "execution_count": 227,
   "metadata": {},
   "outputs": [],
   "source": [
    "# работа с bag из списков:\n",
    "b = db.from_sequence([[1, 2, 3], [10, 20], [11, 7]])"
   ]
  },
  {
   "cell_type": "code",
   "execution_count": 228,
   "metadata": {},
   "outputs": [
    {
     "data": {
      "text/plain": [
       "[2, 20, 7]"
      ]
     },
     "execution_count": 228,
     "metadata": {},
     "output_type": "execute_result"
    }
   ],
   "source": [
    "b.map(lambda x: x[1]).compute()"
   ]
  },
  {
   "cell_type": "code",
   "execution_count": 229,
   "metadata": {},
   "outputs": [
    {
     "data": {
      "text/plain": [
       "[2, 20, 7]"
      ]
     },
     "execution_count": 229,
     "metadata": {},
     "output_type": "execute_result"
    }
   ],
   "source": [
    "b.pluck(1).compute()"
   ]
  },
  {
   "cell_type": "markdown",
   "metadata": {},
   "source": [
    "## Функции преобразования строк в Dask Bag <a class=\"anchor\" id=\"bag_str\"></a> \n",
    "-\n",
    "* [к оглавлению](#разделы)"
   ]
  },
  {
   "cell_type": "markdown",
   "metadata": {},
   "source": [
    "__Преобразование строк__\n",
    "\n",
    "Одиним из целвых объектов для обработки с помощью Dask Bag являются строки, поэтому для работы с ними поддержвается специализированный набор функций.\n",
    "Преобразование строк для Dask Bag можно выполнять с использованием функций из пространства имен `str`.\n",
    "\n",
    "Обработку строк, находящихся в объектах Bag, можно осуществлять используя пространство имен `str`, которое напрямую привязано к объектам Bag. Таким образом мэппинг функций из str можно производить напрямую, не исопльзуя функцию `map`."
   ]
  },
  {
   "cell_type": "code",
   "execution_count": 231,
   "metadata": {},
   "outputs": [],
   "source": [
    "b = db.from_sequence(['Alice Smith', 'Bob Jones', 'Charlie Smith'])"
   ]
  },
  {
   "cell_type": "code",
   "execution_count": 232,
   "metadata": {},
   "outputs": [
    {
     "data": {
      "text/plain": [
       "['alice smith', 'bob jones', 'charlie smith']"
      ]
     },
     "execution_count": 232,
     "metadata": {},
     "output_type": "execute_result"
    }
   ],
   "source": [
    "b.map(lambda x: x.lower()).compute()"
   ]
  },
  {
   "cell_type": "markdown",
   "metadata": {},
   "source": [
    "Через `str` доступно большинство методов, применемых к объекам str в Python."
   ]
  },
  {
   "cell_type": "code",
   "execution_count": 233,
   "metadata": {},
   "outputs": [
    {
     "name": "stdout",
     "output_type": "stream",
     "text": [
      "['alice smith', 'bob jones', 'charlie smith']\n",
      "[['Alice', 'Smith'], ['Bob', 'Jones'], ['Charlie', 'Smith']]\n"
     ]
    }
   ],
   "source": [
    "# вызовы методов строки:\n",
    "\n",
    "print(b.str.lower().compute())\n",
    "\n",
    "print(b.str.split(' ').compute())"
   ]
  },
  {
   "cell_type": "code",
   "execution_count": 234,
   "metadata": {},
   "outputs": [
    {
     "name": "stdout",
     "output_type": "stream",
     "text": [
      "['Alice Smith', 'Charlie Smith']\n"
     ]
    }
   ],
   "source": [
    "# не стандратная функция match, позволяющая выполнять match аналогичный re:\n",
    "\n",
    "print(b.str.match('*Smith').compute())"
   ]
  },
  {
   "cell_type": "markdown",
   "metadata": {},
   "source": [
    "## Функции фильтрации в Dask Bag <a class=\"anchor\" id=\"bag_filter\"></a> \n",
    "-\n",
    "* [к оглавлению](#разделы)"
   ]
  },
  {
   "cell_type": "markdown",
   "metadata": {},
   "source": [
    "__Функции фильтрации__\n",
    "\n",
    "| Функция | Краткое описание|\n",
    "|------|------|\n",
    "|Bag.filter(predicate) | Filter elements in collection by a predicate function|\n",
    "|Bag.random_sample(prob[, random_state]) | Return elements from bag with probability of prob|\n",
    "|Bag.remove(predicate) | Remove elements in collection that match predicate|"
   ]
  },
  {
   "cell_type": "markdown",
   "metadata": {},
   "source": [
    "Примеры использования функции `filter`"
   ]
  },
  {
   "cell_type": "code",
   "execution_count": 235,
   "metadata": {
    "scrolled": true
   },
   "outputs": [
    {
     "data": {
      "text/plain": [
       "[0, 2, 4]"
      ]
     },
     "execution_count": 235,
     "metadata": {},
     "output_type": "execute_result"
    }
   ],
   "source": [
    "b = db.from_sequence(range(5))\n",
    "list(b.filter(lambda x: x % 2 == 0))  "
   ]
  },
  {
   "cell_type": "markdown",
   "metadata": {},
   "source": [
    "Примеры использования функции `random_sample`"
   ]
  },
  {
   "cell_type": "code",
   "execution_count": 239,
   "metadata": {
    "scrolled": true
   },
   "outputs": [
    {
     "data": {
      "text/plain": [
       "[18, 27, 30, 38]"
      ]
     },
     "execution_count": 239,
     "metadata": {},
     "output_type": "execute_result"
    }
   ],
   "source": [
    "b = db.from_sequence(range(50), npartitions=4)\n",
    "list(b.random_sample(0.1))"
   ]
  },
  {
   "cell_type": "markdown",
   "metadata": {},
   "source": [
    "Примеры использования функции `remove`"
   ]
  },
  {
   "cell_type": "code",
   "execution_count": 240,
   "metadata": {
    "scrolled": true
   },
   "outputs": [
    {
     "data": {
      "text/plain": [
       "[1, 3]"
      ]
     },
     "execution_count": 240,
     "metadata": {},
     "output_type": "execute_result"
    }
   ],
   "source": [
    "b = db.from_sequence(range(5))\n",
    "# удаляет все элементы для которых выполняется предикат\n",
    "list(b.remove(lambda x: x % 2 == 0))"
   ]
  },
  {
   "cell_type": "markdown",
   "metadata": {},
   "source": [
    "## Функции преобразующие Dask Bag <a class=\"anchor\" id=\"bag_proc\"></a> \n",
    "-\n",
    "* [к оглавлению](#разделы)"
   ]
  },
  {
   "cell_type": "markdown",
   "metadata": {},
   "source": [
    "__Функции, преобразующие Bag__\n",
    "\n",
    "| Функция | Краткое описание|\n",
    "|------|------|\n",
    "|concat(bags) | Concatenate many bags together, unioning all elements|\n",
    "|zip(\\*bags) | Partition-wise bag zip|\n",
    "|||\n",
    "|Bag.join(other, on_self[, on_other]) | Joins collection with another collection|\n",
    "|Bag.product(other) | Cartesian product between two bags|\n",
    "|Bag.flatten() | Concatenate nested lists into one long list|\n",
    "|Bag.repartition(npartitions) | Coalesce bag into fewer partitions|"
   ]
  },
  {
   "cell_type": "markdown",
   "metadata": {},
   "source": [
    "Примеры использования функции `concat`"
   ]
  },
  {
   "cell_type": "code",
   "execution_count": 241,
   "metadata": {
    "scrolled": true
   },
   "outputs": [
    {
     "name": "stdout",
     "output_type": "stream",
     "text": [
      "a.npartitions: 3, b.npartitions: 3\n",
      "c.npartitions: 6\n"
     ]
    },
    {
     "data": {
      "text/plain": [
       "[1, 2, 3, 4, 5, 6]"
      ]
     },
     "execution_count": 241,
     "metadata": {},
     "output_type": "execute_result"
    }
   ],
   "source": [
    "a = db.from_sequence([1, 2, 3])\n",
    "b = db.from_sequence([4, 5, 6])\n",
    "print(f'a.npartitions: {a.npartitions}, b.npartitions: {b.npartitions}')\n",
    "c = db.concat([a, b])\n",
    "print(f'c.npartitions: {c.npartitions}')\n",
    "list(c)"
   ]
  },
  {
   "cell_type": "markdown",
   "metadata": {},
   "source": [
    "Примеры использования функции `zip`"
   ]
  },
  {
   "cell_type": "code",
   "execution_count": 242,
   "metadata": {},
   "outputs": [
    {
     "data": {
      "text/plain": [
       "[(0, 1),\n",
       " (2, 3),\n",
       " (4, 5),\n",
       " (6, 7),\n",
       " (8, 9),\n",
       " (10, 11),\n",
       " (12, 13),\n",
       " (14, 15),\n",
       " (16, 17),\n",
       " (18, 19)]"
      ]
     },
     "execution_count": 242,
     "metadata": {},
     "output_type": "execute_result"
    }
   ],
   "source": [
    "# переданные мультимножества должны иметь одинаковое количество сегментов, \n",
    "# а количество элементов в сегментах должно совпадать\n",
    "evens = db.from_sequence(range(0, 20, 2), partition_size=4)\n",
    "odds = db.from_sequence(range(1, 20, 2), partition_size=4)\n",
    "pairs = db.zip(evens, odds)\n",
    "list(pairs)"
   ]
  },
  {
   "cell_type": "code",
   "execution_count": 243,
   "metadata": {},
   "outputs": [
    {
     "data": {
      "text/plain": [
       "(3, 3)"
      ]
     },
     "execution_count": 243,
     "metadata": {},
     "output_type": "execute_result"
    }
   ],
   "source": [
    "evens.npartitions, pairs.npartitions"
   ]
  },
  {
   "cell_type": "markdown",
   "metadata": {},
   "source": [
    "Примеры использования функции `join`"
   ]
  },
  {
   "cell_type": "code",
   "execution_count": 244,
   "metadata": {},
   "outputs": [
    {
     "data": {
      "text/plain": [
       "4"
      ]
     },
     "execution_count": 244,
     "metadata": {},
     "output_type": "execute_result"
    }
   ],
   "source": [
    "names_l = ['Alice', 'Bob', 'Charlie', 'Robert']\n",
    "people = db.from_sequence(names_l)\n",
    "fruit_l = ['Apple', 'Apricot', 'Banana', 'Fig', 'Tangerine']\n",
    "\n",
    "people.npartitions"
   ]
  },
  {
   "cell_type": "code",
   "execution_count": 245,
   "metadata": {},
   "outputs": [
    {
     "data": {
      "text/plain": [
       "[('Apple', 'Alice'),\n",
       " ('Fig', 'Bob'),\n",
       " ('Apricot', 'Charlie'),\n",
       " ('Banana', 'Robert')]"
      ]
     },
     "execution_count": 245,
     "metadata": {},
     "output_type": "execute_result"
    }
   ],
   "source": [
    "# bag.join выполняет соединение со значениями  из итерируемого контейнера \n",
    "# по условию равенства результатов возвращаемых функцией on_self\n",
    "\n",
    "# соединение слов равной длины:\n",
    "list(people.join(fruit_l, len)) "
   ]
  },
  {
   "cell_type": "code",
   "execution_count": 246,
   "metadata": {},
   "outputs": [
    {
     "data": {
      "text/plain": [
       "[('Apple', 'Alice'), ('Apricot', 'Alice'), ('Banana', 'Bob')]"
      ]
     },
     "execution_count": 246,
     "metadata": {},
     "output_type": "execute_result"
    }
   ],
   "source": [
    "# соединение слов, начинающихся на одинаковую букву:\n",
    "list(people.join(fruit_l, lambda x: x[0])) "
   ]
  },
  {
   "cell_type": "code",
   "execution_count": 248,
   "metadata": {},
   "outputs": [
    {
     "data": {
      "text/plain": [
       "[('Banana', 'Bob'), ('Tangerine', 'Robert')]"
      ]
     },
     "execution_count": 248,
     "metadata": {},
     "output_type": "execute_result"
    }
   ],
   "source": [
    "# соединение слов, которые в people заканичваются на букву с которой начинаются слова в fruit:\n",
    "list(people.join(fruit_l, lambda x: x[-1], lambda x: x[0].lower())) "
   ]
  },
  {
   "cell_type": "markdown",
   "metadata": {},
   "source": [
    "Примеры использования функции `product`"
   ]
  },
  {
   "cell_type": "code",
   "execution_count": 249,
   "metadata": {
    "scrolled": true
   },
   "outputs": [
    {
     "name": "stdout",
     "output_type": "stream",
     "text": [
      "people.npartitions: 4\n"
     ]
    },
    {
     "data": {
      "text/plain": [
       "[('Alice', 'Apple'),\n",
       " ('Alice', 'Apricot'),\n",
       " ('Alice', 'Banana'),\n",
       " ('Bob', 'Apple'),\n",
       " ('Bob', 'Apricot'),\n",
       " ('Bob', 'Banana'),\n",
       " ('Charlie', 'Apple'),\n",
       " ('Charlie', 'Apricot'),\n",
       " ('Charlie', 'Banana'),\n",
       " ('Robert', 'Apple'),\n",
       " ('Robert', 'Apricot'),\n",
       " ('Robert', 'Banana')]"
      ]
     },
     "execution_count": 249,
     "metadata": {},
     "output_type": "execute_result"
    }
   ],
   "source": [
    "fruit = db.from_sequence(fruit_l[:3])\n",
    "# возвращает bag содержащий все пары (в виде картежей) элементов исходных мультимножеств \n",
    "# элементы в картежах упорядочены согласно порядку в операции исходных мультимножест \n",
    "pp = people.product(fruit)\n",
    "print(f'people.npartitions: {people.npartitions}')\n",
    "list(pp)"
   ]
  },
  {
   "cell_type": "code",
   "execution_count": 250,
   "metadata": {},
   "outputs": [
    {
     "data": {
      "text/plain": [
       "12"
      ]
     },
     "execution_count": 250,
     "metadata": {},
     "output_type": "execute_result"
    }
   ],
   "source": [
    "pp.npartitions"
   ]
  },
  {
   "cell_type": "markdown",
   "metadata": {},
   "source": [
    "Примеры использования функции `flatten`"
   ]
  },
  {
   "cell_type": "code",
   "execution_count": 251,
   "metadata": {},
   "outputs": [
    {
     "data": {
      "text/plain": [
       "[['A', 'l', 'i', 'c', 'e'],\n",
       " ['B', 'o', 'b'],\n",
       " ['C', 'h', 'a', 'r', 'l', 'i', 'e'],\n",
       " ['R', 'o', 'b', 'e', 'r', 't']]"
      ]
     },
     "execution_count": 251,
     "metadata": {},
     "output_type": "execute_result"
    }
   ],
   "source": [
    "people.map(list).compute()"
   ]
  },
  {
   "cell_type": "code",
   "execution_count": 252,
   "metadata": {},
   "outputs": [
    {
     "data": {
      "text/plain": [
       "4"
      ]
     },
     "execution_count": 252,
     "metadata": {},
     "output_type": "execute_result"
    }
   ],
   "source": [
    "people.npartitions"
   ]
  },
  {
   "cell_type": "code",
   "execution_count": 253,
   "metadata": {},
   "outputs": [
    {
     "name": "stdout",
     "output_type": "stream",
     "text": [
      "4\n",
      "['A', 'l', 'i', 'c', 'e', 'B', 'o', 'b', 'C', 'h', 'a', 'r', 'l', 'i', 'e', 'R', 'o', 'b', 'e', 'r', 't']\n"
     ]
    }
   ],
   "source": [
    "# конкатенирует вложнные списки в плоское (без вложенных контейнеров) мультимножество\n",
    "people_flat = people.map(list).flatten()\n",
    "print(people_flat.npartitions)\n",
    "print(list(people_flat))"
   ]
  },
  {
   "cell_type": "markdown",
   "metadata": {},
   "source": [
    "## Функции группировки, свертки и агрегации в Dask Bag <a class=\"anchor\" id=\"bag_shuffle\"></a> \n",
    "-\n",
    "* [к оглавлению](#разделы)"
   ]
  },
  {
   "cell_type": "markdown",
   "metadata": {},
   "source": [
    "__Функции группировки (shuffle)__\n",
    "\n",
    "| Функция | Краткое описание|\n",
    "|------|------|\n",
    "|Bag.groupby(grouper[, method, npartitions, …]) | Group collection by key function|\n",
    "|Bag.distinct() | Distinct elements of collection|\n",
    "|Bag.frequencies([split_every, sort]) | Count number of occurrences of each distinct element|\\"
   ]
  },
  {
   "cell_type": "markdown",
   "metadata": {},
   "source": [
    "Примеры использования функции `groupby`"
   ]
  },
  {
   "cell_type": "code",
   "execution_count": 254,
   "metadata": {},
   "outputs": [
    {
     "data": {
      "text/plain": [
       "[(False, [1, 3, 5, 7, 9, 11]), (True, [0, 2, 4, 6, 8, 10])]"
      ]
     },
     "execution_count": 254,
     "metadata": {},
     "output_type": "execute_result"
    }
   ],
   "source": [
    "b = db.from_sequence(range(12), npartitions=4)\n",
    "# группирует значения из bag по результатам функции key\n",
    "# очень ресурсоемкая операция, по возможности нужно заменять функцие foldby, совмещающей группировку со сверткой\n",
    "list(b.groupby(lambda x: x % 2 == 0))  "
   ]
  },
  {
   "cell_type": "code",
   "execution_count": 255,
   "metadata": {},
   "outputs": [
    {
     "data": {
      "image/png": "[encoded data removed]",
      "text/plain": [
       "<IPython.core.display.Image object>"
      ]
     },
     "execution_count": 255,
     "metadata": {},
     "output_type": "execute_result"
    }
   ],
   "source": [
    "b = db.from_sequence(range(12), npartitions=4)\n",
    "# группирует значения из bag по результатам функции key\n",
    "# очень ресурсоемкая операция, по возможности нужно заменять функцие foldby, совмещающей группировку со сверткой\n",
    "c = b.groupby(lambda x: x % 2 == 0)\n",
    "# как это работает:\n",
    "c.visualize()"
   ]
  },
  {
   "cell_type": "code",
   "execution_count": 256,
   "metadata": {},
   "outputs": [
    {
     "data": {
      "text/plain": [
       "[(False, [1, 3, 5, 7, 9, 11]), (True, [0, 2, 4, 6, 8, 10])]"
      ]
     },
     "execution_count": 256,
     "metadata": {},
     "output_type": "execute_result"
    }
   ],
   "source": [
    "c.compute()"
   ]
  },
  {
   "cell_type": "markdown",
   "metadata": {},
   "source": [
    "Примеры использования функции `distinct`"
   ]
  },
  {
   "cell_type": "code",
   "execution_count": 257,
   "metadata": {
    "scrolled": true
   },
   "outputs": [
    {
     "data": {
      "text/plain": [
       "['Alice', 'Bob']"
      ]
     },
     "execution_count": 257,
     "metadata": {},
     "output_type": "execute_result"
    }
   ],
   "source": [
    "b = db.from_sequence(['Alice', 'Bob', 'Alice'])\n",
    "# возвращает уникальные значения из bag, не гарантирует упорядоченности\n",
    "list(b.distinct())"
   ]
  },
  {
   "cell_type": "code",
   "execution_count": 260,
   "metadata": {},
   "outputs": [
    {
     "name": "stdout",
     "output_type": "stream",
     "text": [
      "Исходные данные: ['Alice', 'Bob', 'Charlie', 'Robert']\n"
     ]
    },
    {
     "data": {
      "text/plain": [
       "['a', 'l', 'i', 'c', 'e', 'b', 'o', 'h', 'r', 't']"
      ]
     },
     "execution_count": 260,
     "metadata": {},
     "output_type": "execute_result"
    }
   ],
   "source": [
    "print('Исходные данные:', names_l)\n",
    "# получение bag с символами в нижнем регистре из строк в исходном списке:\n",
    "symbols = db.from_sequence(names_l).str.lower().map(list).flatten()\n",
    "list(symbols.distinct())"
   ]
  },
  {
   "cell_type": "code",
   "execution_count": 261,
   "metadata": {},
   "outputs": [
    {
     "data": {
      "image/png": "[encoded data removed]",
      "text/plain": [
       "<IPython.core.display.Image object>"
      ]
     },
     "execution_count": 261,
     "metadata": {},
     "output_type": "execute_result"
    }
   ],
   "source": [
    "# как это работает:\n",
    "db.from_sequence(names_l).str.lower().map(list).flatten().distinct().visualize()"
   ]
  },
  {
   "cell_type": "markdown",
   "metadata": {},
   "source": [
    "Примеры использования функции `frequencies`"
   ]
  },
  {
   "cell_type": "code",
   "execution_count": 262,
   "metadata": {},
   "outputs": [
    {
     "name": "stdout",
     "output_type": "stream",
     "text": [
      "Исходные данные: ['Alice', 'Bob', 'Charlie', 'Robert']\n"
     ]
    },
    {
     "data": {
      "text/plain": [
       "[('a', 2),\n",
       " ('l', 2),\n",
       " ('i', 2),\n",
       " ('c', 2),\n",
       " ('e', 3),\n",
       " ('b', 3),\n",
       " ('o', 2),\n",
       " ('h', 1),\n",
       " ('r', 3),\n",
       " ('t', 1)]"
      ]
     },
     "execution_count": 262,
     "metadata": {},
     "output_type": "execute_result"
    }
   ],
   "source": [
    "print('Исходные данные:', names_l)\n",
    "# получение bag с символами в нижнем регистре из строк в исходном списке:\n",
    "symbols = db.from_sequence(names_l).str.lower().map(list).flatten()\n",
    "# подсчитывает частоты для элементов bag\n",
    "list(symbols.frequencies())"
   ]
  },
  {
   "cell_type": "markdown",
   "metadata": {},
   "source": [
    "__Функции свертки__\n",
    "\n",
    "| Функция | Краткое описание |\n",
    "|------|------|\n",
    "|Bag.fold(binop[, combine, initial, split_every]) | Parallelizable reduction|\n",
    "|Bag.foldby(key, binop[, initial, combine, …]) | Combined reduction and groupby|\n",
    "|Bag.reduction(perpartition, aggregate[, …]) | Reduce collection with reduction operators|\n",
    "\n",
    "\n"
   ]
  },
  {
   "cell_type": "markdown",
   "metadata": {},
   "source": [
    "Работа функции `fold`:\n",
    "\n",
    "`Bag.fold(binop, combine=None, initial='__no__default__', split_every=None, out_type=<class 'dask.bag.core.Item'>)`\n",
    "* Fold похож на встроенную функцию reduce, за исключением того, что работает параллельно. \n",
    "* Fold использует две бинарные операторные функции: \n",
    "    * первую (`binop`) для выполнения свертки в каждого сегменте\n",
    "    * вторую (`combine`) для объединения результатов, полученных в каждом сегменте.\n",
    "    \n",
    "```python\n",
    "# принципиальная логика работы Bag.fold:\n",
    "intermediates = [reduce(binop, part) for part in partitions]  \n",
    "final = reduce(combine, intermediates)  \n",
    "```\n",
    "    \n",
    "* Если передана только одна функция, то она используется для обеих функций binop и combine.\n",
    "* Пераметр initial используется как и в обычном `reduce()`"
   ]
  },
  {
   "cell_type": "markdown",
   "metadata": {},
   "source": [
    "Примеры использования функции `fold`"
   ]
  },
  {
   "cell_type": "code",
   "execution_count": 263,
   "metadata": {
    "scrolled": true
   },
   "outputs": [
    {
     "data": {
      "text/plain": [
       "66"
      ]
     },
     "execution_count": 263,
     "metadata": {},
     "output_type": "execute_result"
    }
   ],
   "source": [
    "b = db.from_sequence(range(12), npartitions=4)\n",
    "# fold - параллельная версия reduce, binop - бинарный оператор, используемый для свертки\n",
    "b.fold(op.add).compute()"
   ]
  },
  {
   "cell_type": "code",
   "execution_count": 264,
   "metadata": {},
   "outputs": [
    {
     "data": {
      "image/png": "[encoded data removed]",
      "text/plain": [
       "<IPython.core.display.Image object>"
      ]
     },
     "execution_count": 264,
     "metadata": {},
     "output_type": "execute_result"
    }
   ],
   "source": [
    "# как это работает:\n",
    "db.from_sequence(range(12), npartitions=4).fold(op.add).visualize()"
   ]
  },
  {
   "cell_type": "code",
   "execution_count": 267,
   "metadata": {},
   "outputs": [],
   "source": [
    "text = db.from_sequence('Fold is like the builtin function reduce except that it works in parallel'.split(), npartitions=4)\n",
    "# bag со списками букв, содержащихся в словах\n",
    "text = text.map(list)\n",
    "# list(text)"
   ]
  },
  {
   "cell_type": "code",
   "execution_count": 268,
   "metadata": {
    "scrolled": true
   },
   "outputs": [
    {
     "name": "stdout",
     "output_type": "stream",
     "text": [
      "{'h', 'a', 'k', 'b', 'o', 'r', 'i', 'd', 'n', 'p', 'x', 'f', 's', 'u', 'e', 'c', 'l', 'w', 't', 'F'}\n"
     ]
    }
   ],
   "source": [
    "def add_to_set(acc, x):\n",
    "    return acc | set(x)\n",
    "\n",
    "# fold может использовать две функции свертки на разных этапах операции\n",
    "# первый параметр: функция для свертки на уровене сегмента; второй - для свертки результататов, полученных в сегментах\n",
    "# возвращает множество всех букв, встречающихся в тексте:\n",
    "print(text.fold(add_to_set, set.union, initial=set()).compute())"
   ]
  },
  {
   "cell_type": "markdown",
   "metadata": {},
   "source": [
    "Примеры использования функции `foldby`"
   ]
  },
  {
   "cell_type": "markdown",
   "metadata": {},
   "source": [
    "`foldby` комбинирует свертку и группировку и выполняет эту операцию намного эффективнее последовательного применения `groupby` и `reduce`.\n",
    "\n",
    "Последовательный аналог задачи, решаемой функцией `foldby`:\n",
    "```python\n",
    "def reduction(group):                               \n",
    "    return reduce(binop, group, init) \n",
    "\n",
    "b.groupby(key).map(lambda k, v: (k, reduction(v)))\n",
    "```"
   ]
  },
  {
   "cell_type": "code",
   "execution_count": 269,
   "metadata": {},
   "outputs": [
    {
     "data": {
      "text/plain": [
       "[(0, 19800), (1, 19900), (2, 20000), (3, 20100)]"
      ]
     },
     "execution_count": 269,
     "metadata": {},
     "output_type": "execute_result"
    }
   ],
   "source": [
    "b = db.from_sequence(range(400), npartitions=4)\n",
    "excess_4 = lambda x: x % 4\n",
    "# параметр key - опеределение ключа для группировки, binop - функция для проведения свертки\n",
    "# сумма числе с соответствующими остатками при делении на 4:\n",
    "list(b.foldby(excess_4, op.add))"
   ]
  },
  {
   "cell_type": "code",
   "execution_count": 270,
   "metadata": {},
   "outputs": [
    {
     "data": {
      "image/png": "[encoded data removed]",
      "text/plain": [
       "<IPython.core.display.Image object>"
      ]
     },
     "execution_count": 270,
     "metadata": {},
     "output_type": "execute_result"
    }
   ],
   "source": [
    "# как это работает:\n",
    "db.from_sequence(range(400), npartitions=4).foldby(excess_4, op.add).visualize()"
   ]
  },
  {
   "cell_type": "code",
   "execution_count": 271,
   "metadata": {},
   "outputs": [
    {
     "data": {
      "text/plain": [
       "[(0, 19800), (1, 19900), (2, 20000), (3, 20100)]"
      ]
     },
     "execution_count": 271,
     "metadata": {},
     "output_type": "execute_result"
    }
   ],
   "source": [
    "c = db.from_sequence(range(400), npartitions=4).groupby(excess_4).starmap(lambda k, v: (k, sum(v)))\n",
    "c.compute()"
   ]
  },
  {
   "cell_type": "code",
   "execution_count": 272,
   "metadata": {},
   "outputs": [
    {
     "data": {
      "image/png": "[encoded data removed]",
      "text/plain": [
       "<IPython.core.display.Image object>"
      ]
     },
     "execution_count": 272,
     "metadata": {},
     "output_type": "execute_result"
    }
   ],
   "source": [
    "# как это работает:\n",
    "db.from_sequence(range(40), npartitions=4).groupby(excess_4).starmap(lambda k, v: (k, sum(v))).visualize()"
   ]
  },
  {
   "cell_type": "markdown",
   "metadata": {},
   "source": [
    "__Функции выполняющие агрегацию (свертку с заданными функциями)__\n",
    "\n",
    "| Функция | Краткое описание |\n",
    "|------|------|\n",
    "|Bag.all([split_every]) | Are all elements truthy?|\n",
    "|Bag.any([split_every]) | Are any of the elements truthy?|\n",
    "|Bag.count([split_every]) | Count the number of elements|\n",
    "|Bag.max([split_every]) | Maximum element|\n",
    "|Bag.mean() | Arithmetic mean|\n",
    "|Bag.min([split_every]) | Minimum element|\n",
    "|Bag.std([ddof]) | Standard deviation|\n",
    "|Bag.var([ddof])| Variance|\n",
    "|Bag.sum([split_every]) | Sum all elements|\n",
    "\n",
    "Свертка возвращающая несколько значений \n",
    "\n",
    "| Функция | Краткое описание |\n",
    "|------|------|\n",
    "|Bag.take(k[, npartitions, compute, warn])|Take the first k elements|\n",
    "|Bag.topk(k[, key, split_every]) | K largest elements in collection|\n"
   ]
  },
  {
   "cell_type": "markdown",
   "metadata": {},
   "source": [
    "Примеры использования функции `sum`"
   ]
  },
  {
   "cell_type": "code",
   "execution_count": 273,
   "metadata": {},
   "outputs": [
    {
     "data": {
      "text/plain": [
       "66"
      ]
     },
     "execution_count": 273,
     "metadata": {},
     "output_type": "execute_result"
    }
   ],
   "source": [
    "b = db.from_sequence(range(12), npartitions=4)\n",
    "b.sum().compute()"
   ]
  },
  {
   "cell_type": "code",
   "execution_count": 274,
   "metadata": {},
   "outputs": [
    {
     "data": {
      "image/png": "[encoded data removed]",
      "text/plain": [
       "<IPython.core.display.Image object>"
      ]
     },
     "execution_count": 274,
     "metadata": {},
     "output_type": "execute_result"
    }
   ],
   "source": [
    "# как это работает:\n",
    "db.from_sequence(range(12), npartitions=4).sum().visualize()"
   ]
  },
  {
   "cell_type": "markdown",
   "metadata": {},
   "source": [
    "Примеры использования функции `take`"
   ]
  },
  {
   "cell_type": "code",
   "execution_count": 277,
   "metadata": {},
   "outputs": [
    {
     "data": {
      "text/plain": [
       "('fold', 'is', 'like')"
      ]
     },
     "execution_count": 277,
     "metadata": {},
     "output_type": "execute_result"
    }
   ],
   "source": [
    "text = db.from_sequence('Fold is like the builtin function reduce except that it works in parallel'.split(), npartitions=2)\n",
    "# возвращает первые k элементов bag\n",
    "# по умолчанию значение параметра compute True, т.е. автоматически выполняются отложенные вычисления\n",
    "# по умолчанию работает только с первым сегментом bag\n",
    "text.str.lower().take(3)"
   ]
  },
  {
   "cell_type": "markdown",
   "metadata": {},
   "source": [
    "Примеры использования функции `topk`"
   ]
  },
  {
   "cell_type": "code",
   "execution_count": 278,
   "metadata": {},
   "outputs": [
    {
     "data": {
      "text/plain": [
       "['works', 'the', 'that']"
      ]
     },
     "execution_count": 278,
     "metadata": {},
     "output_type": "execute_result"
    }
   ],
   "source": [
    "text = db.from_sequence('Fold is like the builtin function reduce except that it works in parallel'.split())\n",
    "# k наибольших значений bag\n",
    "# в некоторых задачах использование функции может заменить сортировку (не реализованную для Dask Bag)\n",
    "list(text.str.lower().topk(3))"
   ]
  },
  {
   "cell_type": "code",
   "execution_count": 279,
   "metadata": {},
   "outputs": [
    {
     "data": {
      "text/plain": [
       "['function', 'parallel', 'builtin']"
      ]
     },
     "execution_count": 279,
     "metadata": {},
     "output_type": "execute_result"
    }
   ],
   "source": [
    "text = db.from_sequence('Fold is like the builtin function reduce except that it works in parallel'.split())\n",
    "\n",
    "# функция key определяет пользовательский ключ для сортировки\n",
    "list(text.topk(3, key=len))"
   ]
  },
  {
   "cell_type": "markdown",
   "metadata": {},
   "source": [
    "## Пример обработки данных с помощью Dask Bag <a class=\"anchor\" id=\"bag_example\"></a> \n",
    "-\n",
    "* [к оглавлению](#разделы)"
   ]
  },
  {
   "cell_type": "markdown",
   "metadata": {},
   "source": [
    "### Пример: данные о счетах в формате JSON"
   ]
  },
  {
   "cell_type": "markdown",
   "metadata": {},
   "source": [
    "Автоматически генерируется фейковый набор данных JSON, сжатых с помощью gzip, в вашем каталоге данных. Он похож на данные, которые вы можете собирать из базы данных хранилища документов или веб-API.\n",
    "\n",
    "Каждая строка в файлах представляет собой словарь в формате JSON со следующими ключами.\n",
    "* id: Уникальный идентификатор клиента\n",
    "* имя: Имя клиента\n",
    "* транзакции: список пар «идентификатор транзакции», «сумма», по одной для каждой транзакции для клиента в этом файле."
   ]
  },
  {
   "cell_type": "code",
   "execution_count": null,
   "metadata": {},
   "outputs": [],
   "source": [
    "# Генерация данных (нужно создать папку ./data)\n",
    "# скрипты для генерации (в т.ч. prep.py лежат в текущей папке)\n",
    "%run prep.py -d accounts"
   ]
  },
  {
   "cell_type": "code",
   "execution_count": null,
   "metadata": {},
   "outputs": [],
   "source": [
    "import os"
   ]
  },
  {
   "cell_type": "code",
   "execution_count": 280,
   "metadata": {},
   "outputs": [
    {
     "data": {
      "text/plain": [
       "('{\"id\": 0, \"name\": \"Frank\", \"transactions\": [{\"transaction-id\": 1341, \"amount\": 289}, {\"transaction-id\": 3824, \"amount\": 240}, {\"transaction-id\": 5168, \"amount\": 235}, {\"transaction-id\": 7303, \"amount\": 250}, {\"transaction-id\": 7580, \"amount\": 283}, {\"transaction-id\": 9440, \"amount\": 169}, {\"transaction-id\": 9660, \"amount\": 127}, {\"transaction-id\": 10265, \"amount\": 247}, {\"transaction-id\": 10680, \"amount\": 171}, {\"transaction-id\": 10864, \"amount\": 142}, {\"transaction-id\": 11473, \"amount\": 183}, {\"transaction-id\": 12037, \"amount\": 203}, {\"transaction-id\": 12272, \"amount\": 206}, {\"transaction-id\": 12767, \"amount\": 156}, {\"transaction-id\": 13008, \"amount\": 195}, {\"transaction-id\": 13233, \"amount\": 162}, {\"transaction-id\": 13614, \"amount\": 197}, {\"transaction-id\": 14379, \"amount\": 240}, {\"transaction-id\": 15409, \"amount\": 313}, {\"transaction-id\": 16717, \"amount\": 162}, {\"transaction-id\": 16873, \"amount\": 221}, {\"transaction-id\": 19635, \"amount\": 162}, {\"transaction-id\": 21944, \"amount\": 180}, {\"transaction-id\": 23245, \"amount\": 231}, {\"transaction-id\": 23376, \"amount\": 192}, {\"transaction-id\": 24006, \"amount\": 120}, {\"transaction-id\": 25476, \"amount\": 207}, {\"transaction-id\": 26189, \"amount\": 287}, {\"transaction-id\": 29792, \"amount\": 106}, {\"transaction-id\": 31466, \"amount\": 93}, {\"transaction-id\": 32378, \"amount\": 189}, {\"transaction-id\": 34276, \"amount\": 175}, {\"transaction-id\": 34402, \"amount\": 130}, {\"transaction-id\": 34508, \"amount\": 167}, {\"transaction-id\": 34562, \"amount\": 130}, {\"transaction-id\": 34659, \"amount\": 267}, {\"transaction-id\": 34762, \"amount\": 158}, {\"transaction-id\": 35969, \"amount\": 242}, {\"transaction-id\": 36103, \"amount\": 244}, {\"transaction-id\": 36621, \"amount\": 171}, {\"transaction-id\": 37329, \"amount\": 196}, {\"transaction-id\": 38860, \"amount\": 182}, {\"transaction-id\": 39947, \"amount\": 204}, {\"transaction-id\": 40805, \"amount\": 153}, {\"transaction-id\": 41174, \"amount\": 235}, {\"transaction-id\": 41195, \"amount\": 196}, {\"transaction-id\": 42806, \"amount\": 200}, {\"transaction-id\": 43416, \"amount\": 171}, {\"transaction-id\": 43833, \"amount\": 190}, {\"transaction-id\": 44464, \"amount\": 151}, {\"transaction-id\": 45132, \"amount\": 106}, {\"transaction-id\": 46622, \"amount\": 298}, {\"transaction-id\": 47571, \"amount\": 199}, {\"transaction-id\": 48538, \"amount\": 172}, {\"transaction-id\": 49155, \"amount\": 170}, {\"transaction-id\": 49905, \"amount\": 274}, {\"transaction-id\": 50917, \"amount\": 185}, {\"transaction-id\": 52656, \"amount\": 238}, {\"transaction-id\": 53907, \"amount\": 163}, {\"transaction-id\": 55619, \"amount\": 207}, {\"transaction-id\": 56438, \"amount\": 142}, {\"transaction-id\": 56951, \"amount\": 197}, {\"transaction-id\": 57636, \"amount\": 206}, {\"transaction-id\": 59536, \"amount\": 220}, {\"transaction-id\": 60576, \"amount\": 220}, {\"transaction-id\": 60880, \"amount\": 189}, {\"transaction-id\": 61330, \"amount\": 190}, {\"transaction-id\": 61758, \"amount\": 240}, {\"transaction-id\": 61791, \"amount\": 188}, {\"transaction-id\": 62117, \"amount\": 193}, {\"transaction-id\": 63123, \"amount\": 195}, {\"transaction-id\": 63205, \"amount\": 184}, {\"transaction-id\": 63682, \"amount\": 263}, {\"transaction-id\": 64177, \"amount\": 262}, {\"transaction-id\": 67605, \"amount\": 183}, {\"transaction-id\": 67882, \"amount\": 165}, {\"transaction-id\": 70677, \"amount\": 85}, {\"transaction-id\": 71090, \"amount\": 184}, {\"transaction-id\": 71718, \"amount\": 208}, {\"transaction-id\": 72208, \"amount\": 251}, {\"transaction-id\": 72304, \"amount\": 185}, {\"transaction-id\": 74031, \"amount\": 233}, {\"transaction-id\": 74199, \"amount\": 216}, {\"transaction-id\": 74998, \"amount\": 202}, {\"transaction-id\": 75345, \"amount\": 131}, {\"transaction-id\": 75460, \"amount\": 149}, {\"transaction-id\": 76127, \"amount\": 235}, {\"transaction-id\": 76931, \"amount\": 297}, {\"transaction-id\": 78429, \"amount\": 232}, {\"transaction-id\": 78814, \"amount\": 249}, {\"transaction-id\": 79586, \"amount\": 197}, {\"transaction-id\": 80230, \"amount\": 152}, {\"transaction-id\": 80574, \"amount\": 224}, {\"transaction-id\": 80847, \"amount\": 240}, {\"transaction-id\": 82135, \"amount\": 137}, {\"transaction-id\": 82162, \"amount\": 188}, {\"transaction-id\": 84770, \"amount\": 193}, {\"transaction-id\": 85069, \"amount\": 192}, {\"transaction-id\": 86558, \"amount\": 97}, {\"transaction-id\": 89373, \"amount\": 261}, {\"transaction-id\": 89650, \"amount\": 209}, {\"transaction-id\": 89690, \"amount\": 212}, {\"transaction-id\": 91685, \"amount\": 246}, {\"transaction-id\": 94793, \"amount\": 312}, {\"transaction-id\": 95739, \"amount\": 180}, {\"transaction-id\": 95949, \"amount\": 133}, {\"transaction-id\": 96507, \"amount\": 209}, {\"transaction-id\": 97980, \"amount\": 173}, {\"transaction-id\": 99999, \"amount\": 293}]}\\n',\n",
       " '{\"id\": 1, \"name\": \"Frank\", \"transactions\": [{\"transaction-id\": 735, \"amount\": 2458}, {\"transaction-id\": 879, \"amount\": 2640}, {\"transaction-id\": 1641, \"amount\": 2831}, {\"transaction-id\": 4624, \"amount\": 2711}, {\"transaction-id\": 5298, \"amount\": 2666}, {\"transaction-id\": 7707, \"amount\": 2751}, {\"transaction-id\": 7957, \"amount\": 2534}, {\"transaction-id\": 8952, \"amount\": 2826}, {\"transaction-id\": 9352, \"amount\": 2620}, {\"transaction-id\": 10184, \"amount\": 2675}, {\"transaction-id\": 11458, \"amount\": 2338}, {\"transaction-id\": 13341, \"amount\": 2777}, {\"transaction-id\": 16002, \"amount\": 2611}, {\"transaction-id\": 18093, \"amount\": 2480}, {\"transaction-id\": 19448, \"amount\": 2671}, {\"transaction-id\": 20993, \"amount\": 2812}, {\"transaction-id\": 24570, \"amount\": 2710}, {\"transaction-id\": 26239, \"amount\": 2874}, {\"transaction-id\": 26306, \"amount\": 2653}, {\"transaction-id\": 26959, \"amount\": 2703}, {\"transaction-id\": 27665, \"amount\": 2588}, {\"transaction-id\": 28543, \"amount\": 2586}, {\"transaction-id\": 30532, \"amount\": 2394}, {\"transaction-id\": 30647, \"amount\": 2646}, {\"transaction-id\": 30806, \"amount\": 2507}, {\"transaction-id\": 30865, \"amount\": 2760}, {\"transaction-id\": 32301, \"amount\": 2636}, {\"transaction-id\": 34891, \"amount\": 2782}, {\"transaction-id\": 36349, \"amount\": 2656}, {\"transaction-id\": 41793, \"amount\": 2573}, {\"transaction-id\": 43120, \"amount\": 2869}, {\"transaction-id\": 44229, \"amount\": 2621}, {\"transaction-id\": 44845, \"amount\": 2535}, {\"transaction-id\": 45762, \"amount\": 2476}, {\"transaction-id\": 45964, \"amount\": 2774}, {\"transaction-id\": 50691, \"amount\": 2581}, {\"transaction-id\": 53299, \"amount\": 2952}, {\"transaction-id\": 53700, \"amount\": 2678}, {\"transaction-id\": 54510, \"amount\": 2552}, {\"transaction-id\": 58156, \"amount\": 2792}, {\"transaction-id\": 59968, \"amount\": 2540}, {\"transaction-id\": 61608, \"amount\": 2661}, {\"transaction-id\": 62686, \"amount\": 2528}, {\"transaction-id\": 62842, \"amount\": 2640}, {\"transaction-id\": 63570, \"amount\": 2772}, {\"transaction-id\": 67557, \"amount\": 2577}, {\"transaction-id\": 67807, \"amount\": 2660}, {\"transaction-id\": 68978, \"amount\": 2675}, {\"transaction-id\": 69306, \"amount\": 2607}, {\"transaction-id\": 69696, \"amount\": 2655}, {\"transaction-id\": 72440, \"amount\": 2726}, {\"transaction-id\": 76436, \"amount\": 2629}, {\"transaction-id\": 77098, \"amount\": 2607}, {\"transaction-id\": 77795, \"amount\": 2845}, {\"transaction-id\": 78525, \"amount\": 2667}, {\"transaction-id\": 80401, \"amount\": 2695}, {\"transaction-id\": 81320, \"amount\": 2501}, {\"transaction-id\": 81467, \"amount\": 2495}, {\"transaction-id\": 82641, \"amount\": 2528}, {\"transaction-id\": 83090, \"amount\": 2617}, {\"transaction-id\": 83876, \"amount\": 2731}, {\"transaction-id\": 83933, \"amount\": 2610}, {\"transaction-id\": 86490, \"amount\": 2872}, {\"transaction-id\": 87011, \"amount\": 2557}, {\"transaction-id\": 91359, \"amount\": 2690}, {\"transaction-id\": 91652, \"amount\": 2863}, {\"transaction-id\": 93014, \"amount\": 2645}, {\"transaction-id\": 93186, \"amount\": 2648}, {\"transaction-id\": 93344, \"amount\": 2795}, {\"transaction-id\": 93583, \"amount\": 2655}, {\"transaction-id\": 96181, \"amount\": 2826}, {\"transaction-id\": 97298, \"amount\": 2462}, {\"transaction-id\": 97468, \"amount\": 2658}, {\"transaction-id\": 98092, \"amount\": 2747}]}\\n',\n",
       " '{\"id\": 2, \"name\": \"Dan\", \"transactions\": [{\"transaction-id\": 192, \"amount\": 1783}, {\"transaction-id\": 700, \"amount\": 1538}, {\"transaction-id\": 894, \"amount\": 1704}, {\"transaction-id\": 1003, \"amount\": 1507}, {\"transaction-id\": 1320, \"amount\": 1864}, {\"transaction-id\": 1622, \"amount\": 1530}, {\"transaction-id\": 1768, \"amount\": 1871}, {\"transaction-id\": 1771, \"amount\": 1365}, {\"transaction-id\": 2343, \"amount\": 1492}, {\"transaction-id\": 2629, \"amount\": 1739}, {\"transaction-id\": 2957, \"amount\": 1315}, {\"transaction-id\": 3020, \"amount\": 1372}, {\"transaction-id\": 3082, \"amount\": 1186}, {\"transaction-id\": 3399, \"amount\": 1248}, {\"transaction-id\": 3554, \"amount\": 1515}, {\"transaction-id\": 3744, \"amount\": 1661}, {\"transaction-id\": 3960, \"amount\": 1429}, {\"transaction-id\": 4006, \"amount\": 1591}, {\"transaction-id\": 4053, \"amount\": 1335}, {\"transaction-id\": 4325, \"amount\": 1038}, {\"transaction-id\": 4742, \"amount\": 1614}, {\"transaction-id\": 4801, \"amount\": 1699}, {\"transaction-id\": 5488, \"amount\": 1567}, {\"transaction-id\": 5576, \"amount\": 1772}, {\"transaction-id\": 5963, \"amount\": 1537}, {\"transaction-id\": 6223, \"amount\": 1368}, {\"transaction-id\": 6263, \"amount\": 1620}, {\"transaction-id\": 7105, \"amount\": 1303}, {\"transaction-id\": 7136, \"amount\": 1684}, {\"transaction-id\": 7296, \"amount\": 1436}, {\"transaction-id\": 7373, \"amount\": 1376}, {\"transaction-id\": 7631, \"amount\": 1130}, {\"transaction-id\": 8004, \"amount\": 1573}, {\"transaction-id\": 8097, \"amount\": 1375}, {\"transaction-id\": 9232, \"amount\": 1296}, {\"transaction-id\": 9536, \"amount\": 1240}, {\"transaction-id\": 10033, \"amount\": 1553}, {\"transaction-id\": 10399, \"amount\": 1647}, {\"transaction-id\": 10659, \"amount\": 1901}, {\"transaction-id\": 10973, \"amount\": 1592}, {\"transaction-id\": 11194, \"amount\": 1664}, {\"transaction-id\": 11680, \"amount\": 1722}, {\"transaction-id\": 12086, \"amount\": 1869}, {\"transaction-id\": 12511, \"amount\": 1696}, {\"transaction-id\": 12873, \"amount\": 1328}, {\"transaction-id\": 13169, \"amount\": 1664}, {\"transaction-id\": 13231, \"amount\": 1465}, {\"transaction-id\": 13283, \"amount\": 1574}, {\"transaction-id\": 13392, \"amount\": 1548}, {\"transaction-id\": 13844, \"amount\": 1768}, {\"transaction-id\": 14253, \"amount\": 1396}, {\"transaction-id\": 14644, \"amount\": 1308}, {\"transaction-id\": 15321, \"amount\": 1554}, {\"transaction-id\": 15751, \"amount\": 1566}, {\"transaction-id\": 15856, \"amount\": 1618}, {\"transaction-id\": 15956, \"amount\": 1420}, {\"transaction-id\": 16141, \"amount\": 1543}, {\"transaction-id\": 16190, \"amount\": 1801}, {\"transaction-id\": 16322, \"amount\": 1372}, {\"transaction-id\": 16977, \"amount\": 1596}, {\"transaction-id\": 16990, \"amount\": 1653}, {\"transaction-id\": 17081, \"amount\": 1114}, {\"transaction-id\": 17569, \"amount\": 1587}, {\"transaction-id\": 18167, \"amount\": 1405}, {\"transaction-id\": 18208, \"amount\": 1649}, {\"transaction-id\": 18349, \"amount\": 1462}, {\"transaction-id\": 18439, \"amount\": 1412}, {\"transaction-id\": 18572, \"amount\": 1946}, {\"transaction-id\": 18591, \"amount\": 1667}, {\"transaction-id\": 18692, \"amount\": 1362}, {\"transaction-id\": 18748, \"amount\": 1525}, {\"transaction-id\": 19203, \"amount\": 1713}, {\"transaction-id\": 19251, \"amount\": 1328}, {\"transaction-id\": 19351, \"amount\": 1612}, {\"transaction-id\": 19552, \"amount\": 1278}, {\"transaction-id\": 19579, \"amount\": 1522}, {\"transaction-id\": 19633, \"amount\": 1368}, {\"transaction-id\": 20035, \"amount\": 1787}, {\"transaction-id\": 20198, \"amount\": 1156}, {\"transaction-id\": 20202, \"amount\": 1780}, {\"transaction-id\": 20250, \"amount\": 1450}, {\"transaction-id\": 20641, \"amount\": 1393}, {\"transaction-id\": 21168, \"amount\": 1741}, {\"transaction-id\": 21195, \"amount\": 1663}, {\"transaction-id\": 21398, \"amount\": 1696}, {\"transaction-id\": 21400, \"amount\": 1493}, {\"transaction-id\": 21819, \"amount\": 1783}, {\"transaction-id\": 21903, \"amount\": 1529}, {\"transaction-id\": 22247, \"amount\": 1473}, {\"transaction-id\": 22384, \"amount\": 1495}, {\"transaction-id\": 22812, \"amount\": 1212}, {\"transaction-id\": 23219, \"amount\": 1658}, {\"transaction-id\": 23582, \"amount\": 1307}, {\"transaction-id\": 23956, \"amount\": 1569}, {\"transaction-id\": 24100, \"amount\": 1550}, {\"transaction-id\": 24153, \"amount\": 1389}, {\"transaction-id\": 24287, \"amount\": 1266}, {\"transaction-id\": 24541, \"amount\": 1660}, {\"transaction-id\": 24847, \"amount\": 1524}, {\"transaction-id\": 24956, \"amount\": 1257}, {\"transaction-id\": 24989, \"amount\": 1629}, {\"transaction-id\": 25186, \"amount\": 1383}, {\"transaction-id\": 25461, \"amount\": 1581}, {\"transaction-id\": 25920, \"amount\": 1282}, {\"transaction-id\": 26032, \"amount\": 1446}, {\"transaction-id\": 26210, \"amount\": 1342}, {\"transaction-id\": 26983, \"amount\": 1410}, {\"transaction-id\": 27131, \"amount\": 1316}, {\"transaction-id\": 27673, \"amount\": 1389}, {\"transaction-id\": 27809, \"amount\": 1442}, {\"transaction-id\": 28179, \"amount\": 1608}, {\"transaction-id\": 28695, \"amount\": 1532}, {\"transaction-id\": 29377, \"amount\": 1490}, {\"transaction-id\": 29563, \"amount\": 1539}, {\"transaction-id\": 29662, \"amount\": 1522}, {\"transaction-id\": 29808, \"amount\": 1616}, {\"transaction-id\": 29839, \"amount\": 1740}, {\"transaction-id\": 30117, \"amount\": 1741}, {\"transaction-id\": 30764, \"amount\": 1304}, {\"transaction-id\": 31285, \"amount\": 1609}, {\"transaction-id\": 31570, \"amount\": 1299}, {\"transaction-id\": 31935, \"amount\": 1581}, {\"transaction-id\": 32256, \"amount\": 1461}, {\"transaction-id\": 32820, \"amount\": 1679}, {\"transaction-id\": 32852, \"amount\": 1622}, {\"transaction-id\": 32895, \"amount\": 1318}, {\"transaction-id\": 33324, \"amount\": 1464}, {\"transaction-id\": 33708, \"amount\": 1438}, {\"transaction-id\": 35020, \"amount\": 1841}, {\"transaction-id\": 35165, \"amount\": 1707}, {\"transaction-id\": 35670, \"amount\": 1606}, {\"transaction-id\": 36067, \"amount\": 1359}, {\"transaction-id\": 36327, \"amount\": 1644}, {\"transaction-id\": 36340, \"amount\": 1129}, {\"transaction-id\": 36441, \"amount\": 1204}, {\"transaction-id\": 37131, \"amount\": 1473}, {\"transaction-id\": 37412, \"amount\": 1618}, {\"transaction-id\": 37488, \"amount\": 1693}, {\"transaction-id\": 37716, \"amount\": 1866}, {\"transaction-id\": 37845, \"amount\": 1786}, {\"transaction-id\": 37969, \"amount\": 1519}, {\"transaction-id\": 38502, \"amount\": 1569}, {\"transaction-id\": 38680, \"amount\": 1403}, {\"transaction-id\": 38713, \"amount\": 1483}, {\"transaction-id\": 38859, \"amount\": 1472}, {\"transaction-id\": 39066, \"amount\": 1643}, {\"transaction-id\": 39070, \"amount\": 1395}, {\"transaction-id\": 39267, \"amount\": 1778}, {\"transaction-id\": 39295, \"amount\": 1627}, {\"transaction-id\": 39361, \"amount\": 1471}, {\"transaction-id\": 39976, \"amount\": 1509}, {\"transaction-id\": 40007, \"amount\": 1429}, {\"transaction-id\": 40093, \"amount\": 1627}, {\"transaction-id\": 40375, \"amount\": 1667}, {\"transaction-id\": 40814, \"amount\": 1294}, {\"transaction-id\": 41009, \"amount\": 1310}, {\"transaction-id\": 41036, \"amount\": 1315}, {\"transaction-id\": 41056, \"amount\": 2068}, {\"transaction-id\": 41313, \"amount\": 1437}, {\"transaction-id\": 41331, \"amount\": 1472}, {\"transaction-id\": 41476, \"amount\": 1477}, {\"transaction-id\": 41646, \"amount\": 1458}, {\"transaction-id\": 41925, \"amount\": 1876}, {\"transaction-id\": 41949, \"amount\": 1316}, {\"transaction-id\": 42003, \"amount\": 1393}, {\"transaction-id\": 42283, \"amount\": 1809}, {\"transaction-id\": 42607, \"amount\": 1760}, {\"transaction-id\": 43294, \"amount\": 1419}, {\"transaction-id\": 43520, \"amount\": 1205}, {\"transaction-id\": 43533, \"amount\": 1620}, {\"transaction-id\": 43754, \"amount\": 1634}, {\"transaction-id\": 43770, \"amount\": 1497}, {\"transaction-id\": 43858, \"amount\": 1436}, {\"transaction-id\": 44217, \"amount\": 1150}, {\"transaction-id\": 44807, \"amount\": 1559}, {\"transaction-id\": 44949, \"amount\": 1518}, {\"transaction-id\": 44997, \"amount\": 1653}, {\"transaction-id\": 45122, \"amount\": 1503}, {\"transaction-id\": 45126, \"amount\": 1545}, {\"transaction-id\": 45334, \"amount\": 1554}, {\"transaction-id\": 45505, \"amount\": 1672}, {\"transaction-id\": 45627, \"amount\": 1446}, {\"transaction-id\": 46039, \"amount\": 1229}, {\"transaction-id\": 46117, \"amount\": 1376}, {\"transaction-id\": 46274, \"amount\": 1431}, {\"transaction-id\": 46473, \"amount\": 1218}, {\"transaction-id\": 46491, \"amount\": 1638}, {\"transaction-id\": 47022, \"amount\": 1276}, {\"transaction-id\": 47661, \"amount\": 1739}, {\"transaction-id\": 47758, \"amount\": 1335}, {\"transaction-id\": 47924, \"amount\": 1605}, {\"transaction-id\": 48029, \"amount\": 1391}, {\"transaction-id\": 48076, \"amount\": 1554}, {\"transaction-id\": 48249, \"amount\": 1549}, {\"transaction-id\": 49143, \"amount\": 1511}, {\"transaction-id\": 49364, \"amount\": 1184}, {\"transaction-id\": 49699, \"amount\": 1560}, {\"transaction-id\": 49983, \"amount\": 1440}, {\"transaction-id\": 49987, \"amount\": 1501}, {\"transaction-id\": 49999, \"amount\": 1225}, {\"transaction-id\": 50135, \"amount\": 1236}, {\"transaction-id\": 50318, \"amount\": 1261}, {\"transaction-id\": 50639, \"amount\": 1464}, {\"transaction-id\": 50858, \"amount\": 1658}, {\"transaction-id\": 51285, \"amount\": 1483}, {\"transaction-id\": 51452, \"amount\": 1600}, {\"transaction-id\": 52044, \"amount\": 1682}, {\"transaction-id\": 52153, \"amount\": 1374}, {\"transaction-id\": 52180, \"amount\": 1384}, {\"transaction-id\": 52322, \"amount\": 1658}, {\"transaction-id\": 52609, \"amount\": 1364}, {\"transaction-id\": 53163, \"amount\": 1595}, {\"transaction-id\": 53271, \"amount\": 1931}, {\"transaction-id\": 53429, \"amount\": 1362}, {\"transaction-id\": 53594, \"amount\": 1466}, {\"transaction-id\": 53849, \"amount\": 1597}, {\"transaction-id\": 54036, \"amount\": 1451}, {\"transaction-id\": 54197, \"amount\": 1265}, {\"transaction-id\": 54246, \"amount\": 1111}, {\"transaction-id\": 54721, \"amount\": 1525}, {\"transaction-id\": 54876, \"amount\": 1715}, {\"transaction-id\": 54975, \"amount\": 1667}, {\"transaction-id\": 54984, \"amount\": 1439}, {\"transaction-id\": 55272, \"amount\": 1478}, {\"transaction-id\": 55707, \"amount\": 1689}, {\"transaction-id\": 56018, \"amount\": 1534}, {\"transaction-id\": 56573, \"amount\": 1896}, {\"transaction-id\": 56605, \"amount\": 1642}, {\"transaction-id\": 56784, \"amount\": 1568}, {\"transaction-id\": 56878, \"amount\": 1336}, {\"transaction-id\": 57126, \"amount\": 1205}, {\"transaction-id\": 57198, \"amount\": 1786}, {\"transaction-id\": 57366, \"amount\": 1385}, {\"transaction-id\": 57670, \"amount\": 1487}, {\"transaction-id\": 58689, \"amount\": 1231}, {\"transaction-id\": 58843, \"amount\": 1714}, {\"transaction-id\": 58887, \"amount\": 1675}, {\"transaction-id\": 58966, \"amount\": 2141}, {\"transaction-id\": 59036, \"amount\": 1500}, {\"transaction-id\": 59368, \"amount\": 1291}, {\"transaction-id\": 59460, \"amount\": 1588}, {\"transaction-id\": 59461, \"amount\": 1870}, {\"transaction-id\": 60079, \"amount\": 1543}, {\"transaction-id\": 60255, \"amount\": 1550}, {\"transaction-id\": 60648, \"amount\": 1678}, {\"transaction-id\": 60891, \"amount\": 1802}, {\"transaction-id\": 61052, \"amount\": 1493}, {\"transaction-id\": 61188, \"amount\": 1538}, {\"transaction-id\": 61417, \"amount\": 1423}, {\"transaction-id\": 61735, \"amount\": 1634}, {\"transaction-id\": 62272, \"amount\": 1595}, {\"transaction-id\": 62585, \"amount\": 1232}, {\"transaction-id\": 62687, \"amount\": 1958}, {\"transaction-id\": 62752, \"amount\": 1469}, {\"transaction-id\": 62895, \"amount\": 1339}, {\"transaction-id\": 62957, \"amount\": 1502}, {\"transaction-id\": 62992, \"amount\": 1423}, {\"transaction-id\": 63276, \"amount\": 1628}, {\"transaction-id\": 64855, \"amount\": 1569}, {\"transaction-id\": 64867, \"amount\": 1620}, {\"transaction-id\": 64916, \"amount\": 1628}, {\"transaction-id\": 64953, \"amount\": 1521}, {\"transaction-id\": 65125, \"amount\": 1679}, {\"transaction-id\": 65211, \"amount\": 1813}, {\"transaction-id\": 65627, \"amount\": 1591}, {\"transaction-id\": 65683, \"amount\": 1339}, {\"transaction-id\": 65884, \"amount\": 1766}, {\"transaction-id\": 66146, \"amount\": 1800}, {\"transaction-id\": 66674, \"amount\": 1383}, {\"transaction-id\": 66825, \"amount\": 1571}, {\"transaction-id\": 67013, \"amount\": 1544}, {\"transaction-id\": 67158, \"amount\": 1615}, {\"transaction-id\": 67304, \"amount\": 1303}, {\"transaction-id\": 67866, \"amount\": 1426}, {\"transaction-id\": 67868, \"amount\": 1551}, {\"transaction-id\": 68239, \"amount\": 1482}, {\"transaction-id\": 68702, \"amount\": 1476}, {\"transaction-id\": 68752, \"amount\": 1411}, {\"transaction-id\": 69476, \"amount\": 1794}, {\"transaction-id\": 69806, \"amount\": 984}, {\"transaction-id\": 70118, \"amount\": 1390}, {\"transaction-id\": 70406, \"amount\": 1501}, {\"transaction-id\": 70520, \"amount\": 1588}, {\"transaction-id\": 70533, \"amount\": 1385}, {\"transaction-id\": 71078, \"amount\": 1492}, {\"transaction-id\": 71601, \"amount\": 1532}, {\"transaction-id\": 71643, \"amount\": 1365}, {\"transaction-id\": 71894, \"amount\": 1716}, {\"transaction-id\": 72086, \"amount\": 1558}, {\"transaction-id\": 72450, \"amount\": 1441}, {\"transaction-id\": 72473, \"amount\": 1833}, {\"transaction-id\": 72660, \"amount\": 1512}, {\"transaction-id\": 72705, \"amount\": 1754}, {\"transaction-id\": 72833, \"amount\": 1652}, {\"transaction-id\": 73221, \"amount\": 1685}, {\"transaction-id\": 73393, \"amount\": 1635}, {\"transaction-id\": 73473, \"amount\": 1469}, {\"transaction-id\": 73676, \"amount\": 1741}, {\"transaction-id\": 73766, \"amount\": 1530}, {\"transaction-id\": 73777, \"amount\": 1346}, {\"transaction-id\": 73802, \"amount\": 1615}, {\"transaction-id\": 73881, \"amount\": 1630}, {\"transaction-id\": 74522, \"amount\": 1518}, {\"transaction-id\": 74816, \"amount\": 1493}, {\"transaction-id\": 75031, \"amount\": 1336}, {\"transaction-id\": 75233, \"amount\": 1577}, {\"transaction-id\": 75602, \"amount\": 1673}, {\"transaction-id\": 75730, \"amount\": 1557}, {\"transaction-id\": 76033, \"amount\": 1452}, {\"transaction-id\": 76640, \"amount\": 1404}, {\"transaction-id\": 76810, \"amount\": 1580}, {\"transaction-id\": 77343, \"amount\": 1662}, {\"transaction-id\": 77391, \"amount\": 1601}, {\"transaction-id\": 77562, \"amount\": 1571}, {\"transaction-id\": 78184, \"amount\": 1468}, {\"transaction-id\": 78253, \"amount\": 1689}, {\"transaction-id\": 79366, \"amount\": 1282}, {\"transaction-id\": 79561, \"amount\": 1572}, {\"transaction-id\": 79583, \"amount\": 1497}, {\"transaction-id\": 79712, \"amount\": 1721}, {\"transaction-id\": 80050, \"amount\": 1259}, {\"transaction-id\": 80099, \"amount\": 1338}, {\"transaction-id\": 80479, \"amount\": 1463}, {\"transaction-id\": 80985, \"amount\": 1367}, {\"transaction-id\": 81146, \"amount\": 1648}, {\"transaction-id\": 81212, \"amount\": 1506}, {\"transaction-id\": 81421, \"amount\": 1489}, {\"transaction-id\": 81498, \"amount\": 1767}, {\"transaction-id\": 81513, \"amount\": 1332}, {\"transaction-id\": 81664, \"amount\": 1522}, {\"transaction-id\": 81732, \"amount\": 1428}, {\"transaction-id\": 81994, \"amount\": 1510}, {\"transaction-id\": 82230, \"amount\": 1740}, {\"transaction-id\": 82426, \"amount\": 1663}, {\"transaction-id\": 82438, \"amount\": 1422}, {\"transaction-id\": 83071, \"amount\": 1407}, {\"transaction-id\": 83097, \"amount\": 1547}, {\"transaction-id\": 83914, \"amount\": 1496}, {\"transaction-id\": 84140, \"amount\": 1557}, {\"transaction-id\": 84546, \"amount\": 1452}, {\"transaction-id\": 84871, \"amount\": 1498}, {\"transaction-id\": 85269, \"amount\": 1408}, {\"transaction-id\": 85282, \"amount\": 1298}, {\"transaction-id\": 85393, \"amount\": 1535}, {\"transaction-id\": 85639, \"amount\": 1422}, {\"transaction-id\": 86494, \"amount\": 1430}, {\"transaction-id\": 86804, \"amount\": 1390}, {\"transaction-id\": 86813, \"amount\": 1567}, {\"transaction-id\": 86936, \"amount\": 1309}, {\"transaction-id\": 87256, \"amount\": 1584}, {\"transaction-id\": 87369, \"amount\": 1590}, {\"transaction-id\": 88050, \"amount\": 1572}, {\"transaction-id\": 88317, \"amount\": 1673}, {\"transaction-id\": 88596, \"amount\": 1448}, {\"transaction-id\": 89728, \"amount\": 1428}, {\"transaction-id\": 90374, \"amount\": 1746}, {\"transaction-id\": 90723, \"amount\": 1746}, {\"transaction-id\": 92554, \"amount\": 1451}, {\"transaction-id\": 92851, \"amount\": 1803}, {\"transaction-id\": 93382, \"amount\": 1572}, {\"transaction-id\": 93489, \"amount\": 1369}, {\"transaction-id\": 93558, \"amount\": 1516}, {\"transaction-id\": 93587, \"amount\": 1678}, {\"transaction-id\": 93630, \"amount\": 1601}, {\"transaction-id\": 94175, \"amount\": 1618}, {\"transaction-id\": 94309, \"amount\": 1237}, {\"transaction-id\": 94315, \"amount\": 1950}, {\"transaction-id\": 94318, \"amount\": 1410}, {\"transaction-id\": 94402, \"amount\": 1672}, {\"transaction-id\": 94809, \"amount\": 1822}, {\"transaction-id\": 95117, \"amount\": 1602}, {\"transaction-id\": 95693, \"amount\": 1693}, {\"transaction-id\": 95698, \"amount\": 1219}, {\"transaction-id\": 95909, \"amount\": 1839}, {\"transaction-id\": 96066, \"amount\": 1558}, {\"transaction-id\": 96550, \"amount\": 1479}, {\"transaction-id\": 96998, \"amount\": 1415}, {\"transaction-id\": 97174, \"amount\": 1287}, {\"transaction-id\": 97176, \"amount\": 1955}, {\"transaction-id\": 97199, \"amount\": 1690}, {\"transaction-id\": 98230, \"amount\": 1534}, {\"transaction-id\": 98329, \"amount\": 1179}, {\"transaction-id\": 98519, \"amount\": 1402}, {\"transaction-id\": 98799, \"amount\": 1719}]}\\n')"
      ]
     },
     "execution_count": 280,
     "metadata": {},
     "output_type": "execute_result"
    }
   ],
   "source": [
    "filename = os.path.join('data', 'accounts.*.json.gz')\n",
    "lines = db.read_text(filename)\n",
    "lines.take(3)"
   ]
  },
  {
   "cell_type": "markdown",
   "metadata": {},
   "source": [
    "Наши данные загружаются из файла в виде строк текста. Обратите внимание, что распаковка файла произошла автоматически. Мы можем сделать эти данные более удобными для обработки выполнив мэппинг функцию `json.loads` для нашей структуры Dask Bag."
   ]
  },
  {
   "cell_type": "code",
   "execution_count": 281,
   "metadata": {},
   "outputs": [
    {
     "data": {
      "text/plain": [
       "dask.bag<bag-from-delayed, npartitions=50>"
      ]
     },
     "execution_count": 281,
     "metadata": {},
     "output_type": "execute_result"
    }
   ],
   "source": [
    "lines"
   ]
  },
  {
   "cell_type": "code",
   "execution_count": 282,
   "metadata": {},
   "outputs": [
    {
     "data": {
      "text/plain": [
       "({'id': 0,\n",
       "  'name': 'Frank',\n",
       "  'transactions': [{'transaction-id': 1341, 'amount': 289},\n",
       "   {'transaction-id': 3824, 'amount': 240},\n",
       "   {'transaction-id': 5168, 'amount': 235},\n",
       "   {'transaction-id': 7303, 'amount': 250},\n",
       "   {'transaction-id': 7580, 'amount': 283},\n",
       "   {'transaction-id': 9440, 'amount': 169},\n",
       "   {'transaction-id': 9660, 'amount': 127},\n",
       "   {'transaction-id': 10265, 'amount': 247},\n",
       "   {'transaction-id': 10680, 'amount': 171},\n",
       "   {'transaction-id': 10864, 'amount': 142},\n",
       "   {'transaction-id': 11473, 'amount': 183},\n",
       "   {'transaction-id': 12037, 'amount': 203},\n",
       "   {'transaction-id': 12272, 'amount': 206},\n",
       "   {'transaction-id': 12767, 'amount': 156},\n",
       "   {'transaction-id': 13008, 'amount': 195},\n",
       "   {'transaction-id': 13233, 'amount': 162},\n",
       "   {'transaction-id': 13614, 'amount': 197},\n",
       "   {'transaction-id': 14379, 'amount': 240},\n",
       "   {'transaction-id': 15409, 'amount': 313},\n",
       "   {'transaction-id': 16717, 'amount': 162},\n",
       "   {'transaction-id': 16873, 'amount': 221},\n",
       "   {'transaction-id': 19635, 'amount': 162},\n",
       "   {'transaction-id': 21944, 'amount': 180},\n",
       "   {'transaction-id': 23245, 'amount': 231},\n",
       "   {'transaction-id': 23376, 'amount': 192},\n",
       "   {'transaction-id': 24006, 'amount': 120},\n",
       "   {'transaction-id': 25476, 'amount': 207},\n",
       "   {'transaction-id': 26189, 'amount': 287},\n",
       "   {'transaction-id': 29792, 'amount': 106},\n",
       "   {'transaction-id': 31466, 'amount': 93},\n",
       "   {'transaction-id': 32378, 'amount': 189},\n",
       "   {'transaction-id': 34276, 'amount': 175},\n",
       "   {'transaction-id': 34402, 'amount': 130},\n",
       "   {'transaction-id': 34508, 'amount': 167},\n",
       "   {'transaction-id': 34562, 'amount': 130},\n",
       "   {'transaction-id': 34659, 'amount': 267},\n",
       "   {'transaction-id': 34762, 'amount': 158},\n",
       "   {'transaction-id': 35969, 'amount': 242},\n",
       "   {'transaction-id': 36103, 'amount': 244},\n",
       "   {'transaction-id': 36621, 'amount': 171},\n",
       "   {'transaction-id': 37329, 'amount': 196},\n",
       "   {'transaction-id': 38860, 'amount': 182},\n",
       "   {'transaction-id': 39947, 'amount': 204},\n",
       "   {'transaction-id': 40805, 'amount': 153},\n",
       "   {'transaction-id': 41174, 'amount': 235},\n",
       "   {'transaction-id': 41195, 'amount': 196},\n",
       "   {'transaction-id': 42806, 'amount': 200},\n",
       "   {'transaction-id': 43416, 'amount': 171},\n",
       "   {'transaction-id': 43833, 'amount': 190},\n",
       "   {'transaction-id': 44464, 'amount': 151},\n",
       "   {'transaction-id': 45132, 'amount': 106},\n",
       "   {'transaction-id': 46622, 'amount': 298},\n",
       "   {'transaction-id': 47571, 'amount': 199},\n",
       "   {'transaction-id': 48538, 'amount': 172},\n",
       "   {'transaction-id': 49155, 'amount': 170},\n",
       "   {'transaction-id': 49905, 'amount': 274},\n",
       "   {'transaction-id': 50917, 'amount': 185},\n",
       "   {'transaction-id': 52656, 'amount': 238},\n",
       "   {'transaction-id': 53907, 'amount': 163},\n",
       "   {'transaction-id': 55619, 'amount': 207},\n",
       "   {'transaction-id': 56438, 'amount': 142},\n",
       "   {'transaction-id': 56951, 'amount': 197},\n",
       "   {'transaction-id': 57636, 'amount': 206},\n",
       "   {'transaction-id': 59536, 'amount': 220},\n",
       "   {'transaction-id': 60576, 'amount': 220},\n",
       "   {'transaction-id': 60880, 'amount': 189},\n",
       "   {'transaction-id': 61330, 'amount': 190},\n",
       "   {'transaction-id': 61758, 'amount': 240},\n",
       "   {'transaction-id': 61791, 'amount': 188},\n",
       "   {'transaction-id': 62117, 'amount': 193},\n",
       "   {'transaction-id': 63123, 'amount': 195},\n",
       "   {'transaction-id': 63205, 'amount': 184},\n",
       "   {'transaction-id': 63682, 'amount': 263},\n",
       "   {'transaction-id': 64177, 'amount': 262},\n",
       "   {'transaction-id': 67605, 'amount': 183},\n",
       "   {'transaction-id': 67882, 'amount': 165},\n",
       "   {'transaction-id': 70677, 'amount': 85},\n",
       "   {'transaction-id': 71090, 'amount': 184},\n",
       "   {'transaction-id': 71718, 'amount': 208},\n",
       "   {'transaction-id': 72208, 'amount': 251},\n",
       "   {'transaction-id': 72304, 'amount': 185},\n",
       "   {'transaction-id': 74031, 'amount': 233},\n",
       "   {'transaction-id': 74199, 'amount': 216},\n",
       "   {'transaction-id': 74998, 'amount': 202},\n",
       "   {'transaction-id': 75345, 'amount': 131},\n",
       "   {'transaction-id': 75460, 'amount': 149},\n",
       "   {'transaction-id': 76127, 'amount': 235},\n",
       "   {'transaction-id': 76931, 'amount': 297},\n",
       "   {'transaction-id': 78429, 'amount': 232},\n",
       "   {'transaction-id': 78814, 'amount': 249},\n",
       "   {'transaction-id': 79586, 'amount': 197},\n",
       "   {'transaction-id': 80230, 'amount': 152},\n",
       "   {'transaction-id': 80574, 'amount': 224},\n",
       "   {'transaction-id': 80847, 'amount': 240},\n",
       "   {'transaction-id': 82135, 'amount': 137},\n",
       "   {'transaction-id': 82162, 'amount': 188},\n",
       "   {'transaction-id': 84770, 'amount': 193},\n",
       "   {'transaction-id': 85069, 'amount': 192},\n",
       "   {'transaction-id': 86558, 'amount': 97},\n",
       "   {'transaction-id': 89373, 'amount': 261},\n",
       "   {'transaction-id': 89650, 'amount': 209},\n",
       "   {'transaction-id': 89690, 'amount': 212},\n",
       "   {'transaction-id': 91685, 'amount': 246},\n",
       "   {'transaction-id': 94793, 'amount': 312},\n",
       "   {'transaction-id': 95739, 'amount': 180},\n",
       "   {'transaction-id': 95949, 'amount': 133},\n",
       "   {'transaction-id': 96507, 'amount': 209},\n",
       "   {'transaction-id': 97980, 'amount': 173},\n",
       "   {'transaction-id': 99999, 'amount': 293}]},\n",
       " {'id': 1,\n",
       "  'name': 'Frank',\n",
       "  'transactions': [{'transaction-id': 735, 'amount': 2458},\n",
       "   {'transaction-id': 879, 'amount': 2640},\n",
       "   {'transaction-id': 1641, 'amount': 2831},\n",
       "   {'transaction-id': 4624, 'amount': 2711},\n",
       "   {'transaction-id': 5298, 'amount': 2666},\n",
       "   {'transaction-id': 7707, 'amount': 2751},\n",
       "   {'transaction-id': 7957, 'amount': 2534},\n",
       "   {'transaction-id': 8952, 'amount': 2826},\n",
       "   {'transaction-id': 9352, 'amount': 2620},\n",
       "   {'transaction-id': 10184, 'amount': 2675},\n",
       "   {'transaction-id': 11458, 'amount': 2338},\n",
       "   {'transaction-id': 13341, 'amount': 2777},\n",
       "   {'transaction-id': 16002, 'amount': 2611},\n",
       "   {'transaction-id': 18093, 'amount': 2480},\n",
       "   {'transaction-id': 19448, 'amount': 2671},\n",
       "   {'transaction-id': 20993, 'amount': 2812},\n",
       "   {'transaction-id': 24570, 'amount': 2710},\n",
       "   {'transaction-id': 26239, 'amount': 2874},\n",
       "   {'transaction-id': 26306, 'amount': 2653},\n",
       "   {'transaction-id': 26959, 'amount': 2703},\n",
       "   {'transaction-id': 27665, 'amount': 2588},\n",
       "   {'transaction-id': 28543, 'amount': 2586},\n",
       "   {'transaction-id': 30532, 'amount': 2394},\n",
       "   {'transaction-id': 30647, 'amount': 2646},\n",
       "   {'transaction-id': 30806, 'amount': 2507},\n",
       "   {'transaction-id': 30865, 'amount': 2760},\n",
       "   {'transaction-id': 32301, 'amount': 2636},\n",
       "   {'transaction-id': 34891, 'amount': 2782},\n",
       "   {'transaction-id': 36349, 'amount': 2656},\n",
       "   {'transaction-id': 41793, 'amount': 2573},\n",
       "   {'transaction-id': 43120, 'amount': 2869},\n",
       "   {'transaction-id': 44229, 'amount': 2621},\n",
       "   {'transaction-id': 44845, 'amount': 2535},\n",
       "   {'transaction-id': 45762, 'amount': 2476},\n",
       "   {'transaction-id': 45964, 'amount': 2774},\n",
       "   {'transaction-id': 50691, 'amount': 2581},\n",
       "   {'transaction-id': 53299, 'amount': 2952},\n",
       "   {'transaction-id': 53700, 'amount': 2678},\n",
       "   {'transaction-id': 54510, 'amount': 2552},\n",
       "   {'transaction-id': 58156, 'amount': 2792},\n",
       "   {'transaction-id': 59968, 'amount': 2540},\n",
       "   {'transaction-id': 61608, 'amount': 2661},\n",
       "   {'transaction-id': 62686, 'amount': 2528},\n",
       "   {'transaction-id': 62842, 'amount': 2640},\n",
       "   {'transaction-id': 63570, 'amount': 2772},\n",
       "   {'transaction-id': 67557, 'amount': 2577},\n",
       "   {'transaction-id': 67807, 'amount': 2660},\n",
       "   {'transaction-id': 68978, 'amount': 2675},\n",
       "   {'transaction-id': 69306, 'amount': 2607},\n",
       "   {'transaction-id': 69696, 'amount': 2655},\n",
       "   {'transaction-id': 72440, 'amount': 2726},\n",
       "   {'transaction-id': 76436, 'amount': 2629},\n",
       "   {'transaction-id': 77098, 'amount': 2607},\n",
       "   {'transaction-id': 77795, 'amount': 2845},\n",
       "   {'transaction-id': 78525, 'amount': 2667},\n",
       "   {'transaction-id': 80401, 'amount': 2695},\n",
       "   {'transaction-id': 81320, 'amount': 2501},\n",
       "   {'transaction-id': 81467, 'amount': 2495},\n",
       "   {'transaction-id': 82641, 'amount': 2528},\n",
       "   {'transaction-id': 83090, 'amount': 2617},\n",
       "   {'transaction-id': 83876, 'amount': 2731},\n",
       "   {'transaction-id': 83933, 'amount': 2610},\n",
       "   {'transaction-id': 86490, 'amount': 2872},\n",
       "   {'transaction-id': 87011, 'amount': 2557},\n",
       "   {'transaction-id': 91359, 'amount': 2690},\n",
       "   {'transaction-id': 91652, 'amount': 2863},\n",
       "   {'transaction-id': 93014, 'amount': 2645},\n",
       "   {'transaction-id': 93186, 'amount': 2648},\n",
       "   {'transaction-id': 93344, 'amount': 2795},\n",
       "   {'transaction-id': 93583, 'amount': 2655},\n",
       "   {'transaction-id': 96181, 'amount': 2826},\n",
       "   {'transaction-id': 97298, 'amount': 2462},\n",
       "   {'transaction-id': 97468, 'amount': 2658},\n",
       "   {'transaction-id': 98092, 'amount': 2747}]},\n",
       " {'id': 2,\n",
       "  'name': 'Dan',\n",
       "  'transactions': [{'transaction-id': 192, 'amount': 1783},\n",
       "   {'transaction-id': 700, 'amount': 1538},\n",
       "   {'transaction-id': 894, 'amount': 1704},\n",
       "   {'transaction-id': 1003, 'amount': 1507},\n",
       "   {'transaction-id': 1320, 'amount': 1864},\n",
       "   {'transaction-id': 1622, 'amount': 1530},\n",
       "   {'transaction-id': 1768, 'amount': 1871},\n",
       "   {'transaction-id': 1771, 'amount': 1365},\n",
       "   {'transaction-id': 2343, 'amount': 1492},\n",
       "   {'transaction-id': 2629, 'amount': 1739},\n",
       "   {'transaction-id': 2957, 'amount': 1315},\n",
       "   {'transaction-id': 3020, 'amount': 1372},\n",
       "   {'transaction-id': 3082, 'amount': 1186},\n",
       "   {'transaction-id': 3399, 'amount': 1248},\n",
       "   {'transaction-id': 3554, 'amount': 1515},\n",
       "   {'transaction-id': 3744, 'amount': 1661},\n",
       "   {'transaction-id': 3960, 'amount': 1429},\n",
       "   {'transaction-id': 4006, 'amount': 1591},\n",
       "   {'transaction-id': 4053, 'amount': 1335},\n",
       "   {'transaction-id': 4325, 'amount': 1038},\n",
       "   {'transaction-id': 4742, 'amount': 1614},\n",
       "   {'transaction-id': 4801, 'amount': 1699},\n",
       "   {'transaction-id': 5488, 'amount': 1567},\n",
       "   {'transaction-id': 5576, 'amount': 1772},\n",
       "   {'transaction-id': 5963, 'amount': 1537},\n",
       "   {'transaction-id': 6223, 'amount': 1368},\n",
       "   {'transaction-id': 6263, 'amount': 1620},\n",
       "   {'transaction-id': 7105, 'amount': 1303},\n",
       "   {'transaction-id': 7136, 'amount': 1684},\n",
       "   {'transaction-id': 7296, 'amount': 1436},\n",
       "   {'transaction-id': 7373, 'amount': 1376},\n",
       "   {'transaction-id': 7631, 'amount': 1130},\n",
       "   {'transaction-id': 8004, 'amount': 1573},\n",
       "   {'transaction-id': 8097, 'amount': 1375},\n",
       "   {'transaction-id': 9232, 'amount': 1296},\n",
       "   {'transaction-id': 9536, 'amount': 1240},\n",
       "   {'transaction-id': 10033, 'amount': 1553},\n",
       "   {'transaction-id': 10399, 'amount': 1647},\n",
       "   {'transaction-id': 10659, 'amount': 1901},\n",
       "   {'transaction-id': 10973, 'amount': 1592},\n",
       "   {'transaction-id': 11194, 'amount': 1664},\n",
       "   {'transaction-id': 11680, 'amount': 1722},\n",
       "   {'transaction-id': 12086, 'amount': 1869},\n",
       "   {'transaction-id': 12511, 'amount': 1696},\n",
       "   {'transaction-id': 12873, 'amount': 1328},\n",
       "   {'transaction-id': 13169, 'amount': 1664},\n",
       "   {'transaction-id': 13231, 'amount': 1465},\n",
       "   {'transaction-id': 13283, 'amount': 1574},\n",
       "   {'transaction-id': 13392, 'amount': 1548},\n",
       "   {'transaction-id': 13844, 'amount': 1768},\n",
       "   {'transaction-id': 14253, 'amount': 1396},\n",
       "   {'transaction-id': 14644, 'amount': 1308},\n",
       "   {'transaction-id': 15321, 'amount': 1554},\n",
       "   {'transaction-id': 15751, 'amount': 1566},\n",
       "   {'transaction-id': 15856, 'amount': 1618},\n",
       "   {'transaction-id': 15956, 'amount': 1420},\n",
       "   {'transaction-id': 16141, 'amount': 1543},\n",
       "   {'transaction-id': 16190, 'amount': 1801},\n",
       "   {'transaction-id': 16322, 'amount': 1372},\n",
       "   {'transaction-id': 16977, 'amount': 1596},\n",
       "   {'transaction-id': 16990, 'amount': 1653},\n",
       "   {'transaction-id': 17081, 'amount': 1114},\n",
       "   {'transaction-id': 17569, 'amount': 1587},\n",
       "   {'transaction-id': 18167, 'amount': 1405},\n",
       "   {'transaction-id': 18208, 'amount': 1649},\n",
       "   {'transaction-id': 18349, 'amount': 1462},\n",
       "   {'transaction-id': 18439, 'amount': 1412},\n",
       "   {'transaction-id': 18572, 'amount': 1946},\n",
       "   {'transaction-id': 18591, 'amount': 1667},\n",
       "   {'transaction-id': 18692, 'amount': 1362},\n",
       "   {'transaction-id': 18748, 'amount': 1525},\n",
       "   {'transaction-id': 19203, 'amount': 1713},\n",
       "   {'transaction-id': 19251, 'amount': 1328},\n",
       "   {'transaction-id': 19351, 'amount': 1612},\n",
       "   {'transaction-id': 19552, 'amount': 1278},\n",
       "   {'transaction-id': 19579, 'amount': 1522},\n",
       "   {'transaction-id': 19633, 'amount': 1368},\n",
       "   {'transaction-id': 20035, 'amount': 1787},\n",
       "   {'transaction-id': 20198, 'amount': 1156},\n",
       "   {'transaction-id': 20202, 'amount': 1780},\n",
       "   {'transaction-id': 20250, 'amount': 1450},\n",
       "   {'transaction-id': 20641, 'amount': 1393},\n",
       "   {'transaction-id': 21168, 'amount': 1741},\n",
       "   {'transaction-id': 21195, 'amount': 1663},\n",
       "   {'transaction-id': 21398, 'amount': 1696},\n",
       "   {'transaction-id': 21400, 'amount': 1493},\n",
       "   {'transaction-id': 21819, 'amount': 1783},\n",
       "   {'transaction-id': 21903, 'amount': 1529},\n",
       "   {'transaction-id': 22247, 'amount': 1473},\n",
       "   {'transaction-id': 22384, 'amount': 1495},\n",
       "   {'transaction-id': 22812, 'amount': 1212},\n",
       "   {'transaction-id': 23219, 'amount': 1658},\n",
       "   {'transaction-id': 23582, 'amount': 1307},\n",
       "   {'transaction-id': 23956, 'amount': 1569},\n",
       "   {'transaction-id': 24100, 'amount': 1550},\n",
       "   {'transaction-id': 24153, 'amount': 1389},\n",
       "   {'transaction-id': 24287, 'amount': 1266},\n",
       "   {'transaction-id': 24541, 'amount': 1660},\n",
       "   {'transaction-id': 24847, 'amount': 1524},\n",
       "   {'transaction-id': 24956, 'amount': 1257},\n",
       "   {'transaction-id': 24989, 'amount': 1629},\n",
       "   {'transaction-id': 25186, 'amount': 1383},\n",
       "   {'transaction-id': 25461, 'amount': 1581},\n",
       "   {'transaction-id': 25920, 'amount': 1282},\n",
       "   {'transaction-id': 26032, 'amount': 1446},\n",
       "   {'transaction-id': 26210, 'amount': 1342},\n",
       "   {'transaction-id': 26983, 'amount': 1410},\n",
       "   {'transaction-id': 27131, 'amount': 1316},\n",
       "   {'transaction-id': 27673, 'amount': 1389},\n",
       "   {'transaction-id': 27809, 'amount': 1442},\n",
       "   {'transaction-id': 28179, 'amount': 1608},\n",
       "   {'transaction-id': 28695, 'amount': 1532},\n",
       "   {'transaction-id': 29377, 'amount': 1490},\n",
       "   {'transaction-id': 29563, 'amount': 1539},\n",
       "   {'transaction-id': 29662, 'amount': 1522},\n",
       "   {'transaction-id': 29808, 'amount': 1616},\n",
       "   {'transaction-id': 29839, 'amount': 1740},\n",
       "   {'transaction-id': 30117, 'amount': 1741},\n",
       "   {'transaction-id': 30764, 'amount': 1304},\n",
       "   {'transaction-id': 31285, 'amount': 1609},\n",
       "   {'transaction-id': 31570, 'amount': 1299},\n",
       "   {'transaction-id': 31935, 'amount': 1581},\n",
       "   {'transaction-id': 32256, 'amount': 1461},\n",
       "   {'transaction-id': 32820, 'amount': 1679},\n",
       "   {'transaction-id': 32852, 'amount': 1622},\n",
       "   {'transaction-id': 32895, 'amount': 1318},\n",
       "   {'transaction-id': 33324, 'amount': 1464},\n",
       "   {'transaction-id': 33708, 'amount': 1438},\n",
       "   {'transaction-id': 35020, 'amount': 1841},\n",
       "   {'transaction-id': 35165, 'amount': 1707},\n",
       "   {'transaction-id': 35670, 'amount': 1606},\n",
       "   {'transaction-id': 36067, 'amount': 1359},\n",
       "   {'transaction-id': 36327, 'amount': 1644},\n",
       "   {'transaction-id': 36340, 'amount': 1129},\n",
       "   {'transaction-id': 36441, 'amount': 1204},\n",
       "   {'transaction-id': 37131, 'amount': 1473},\n",
       "   {'transaction-id': 37412, 'amount': 1618},\n",
       "   {'transaction-id': 37488, 'amount': 1693},\n",
       "   {'transaction-id': 37716, 'amount': 1866},\n",
       "   {'transaction-id': 37845, 'amount': 1786},\n",
       "   {'transaction-id': 37969, 'amount': 1519},\n",
       "   {'transaction-id': 38502, 'amount': 1569},\n",
       "   {'transaction-id': 38680, 'amount': 1403},\n",
       "   {'transaction-id': 38713, 'amount': 1483},\n",
       "   {'transaction-id': 38859, 'amount': 1472},\n",
       "   {'transaction-id': 39066, 'amount': 1643},\n",
       "   {'transaction-id': 39070, 'amount': 1395},\n",
       "   {'transaction-id': 39267, 'amount': 1778},\n",
       "   {'transaction-id': 39295, 'amount': 1627},\n",
       "   {'transaction-id': 39361, 'amount': 1471},\n",
       "   {'transaction-id': 39976, 'amount': 1509},\n",
       "   {'transaction-id': 40007, 'amount': 1429},\n",
       "   {'transaction-id': 40093, 'amount': 1627},\n",
       "   {'transaction-id': 40375, 'amount': 1667},\n",
       "   {'transaction-id': 40814, 'amount': 1294},\n",
       "   {'transaction-id': 41009, 'amount': 1310},\n",
       "   {'transaction-id': 41036, 'amount': 1315},\n",
       "   {'transaction-id': 41056, 'amount': 2068},\n",
       "   {'transaction-id': 41313, 'amount': 1437},\n",
       "   {'transaction-id': 41331, 'amount': 1472},\n",
       "   {'transaction-id': 41476, 'amount': 1477},\n",
       "   {'transaction-id': 41646, 'amount': 1458},\n",
       "   {'transaction-id': 41925, 'amount': 1876},\n",
       "   {'transaction-id': 41949, 'amount': 1316},\n",
       "   {'transaction-id': 42003, 'amount': 1393},\n",
       "   {'transaction-id': 42283, 'amount': 1809},\n",
       "   {'transaction-id': 42607, 'amount': 1760},\n",
       "   {'transaction-id': 43294, 'amount': 1419},\n",
       "   {'transaction-id': 43520, 'amount': 1205},\n",
       "   {'transaction-id': 43533, 'amount': 1620},\n",
       "   {'transaction-id': 43754, 'amount': 1634},\n",
       "   {'transaction-id': 43770, 'amount': 1497},\n",
       "   {'transaction-id': 43858, 'amount': 1436},\n",
       "   {'transaction-id': 44217, 'amount': 1150},\n",
       "   {'transaction-id': 44807, 'amount': 1559},\n",
       "   {'transaction-id': 44949, 'amount': 1518},\n",
       "   {'transaction-id': 44997, 'amount': 1653},\n",
       "   {'transaction-id': 45122, 'amount': 1503},\n",
       "   {'transaction-id': 45126, 'amount': 1545},\n",
       "   {'transaction-id': 45334, 'amount': 1554},\n",
       "   {'transaction-id': 45505, 'amount': 1672},\n",
       "   {'transaction-id': 45627, 'amount': 1446},\n",
       "   {'transaction-id': 46039, 'amount': 1229},\n",
       "   {'transaction-id': 46117, 'amount': 1376},\n",
       "   {'transaction-id': 46274, 'amount': 1431},\n",
       "   {'transaction-id': 46473, 'amount': 1218},\n",
       "   {'transaction-id': 46491, 'amount': 1638},\n",
       "   {'transaction-id': 47022, 'amount': 1276},\n",
       "   {'transaction-id': 47661, 'amount': 1739},\n",
       "   {'transaction-id': 47758, 'amount': 1335},\n",
       "   {'transaction-id': 47924, 'amount': 1605},\n",
       "   {'transaction-id': 48029, 'amount': 1391},\n",
       "   {'transaction-id': 48076, 'amount': 1554},\n",
       "   {'transaction-id': 48249, 'amount': 1549},\n",
       "   {'transaction-id': 49143, 'amount': 1511},\n",
       "   {'transaction-id': 49364, 'amount': 1184},\n",
       "   {'transaction-id': 49699, 'amount': 1560},\n",
       "   {'transaction-id': 49983, 'amount': 1440},\n",
       "   {'transaction-id': 49987, 'amount': 1501},\n",
       "   {'transaction-id': 49999, 'amount': 1225},\n",
       "   {'transaction-id': 50135, 'amount': 1236},\n",
       "   {'transaction-id': 50318, 'amount': 1261},\n",
       "   {'transaction-id': 50639, 'amount': 1464},\n",
       "   {'transaction-id': 50858, 'amount': 1658},\n",
       "   {'transaction-id': 51285, 'amount': 1483},\n",
       "   {'transaction-id': 51452, 'amount': 1600},\n",
       "   {'transaction-id': 52044, 'amount': 1682},\n",
       "   {'transaction-id': 52153, 'amount': 1374},\n",
       "   {'transaction-id': 52180, 'amount': 1384},\n",
       "   {'transaction-id': 52322, 'amount': 1658},\n",
       "   {'transaction-id': 52609, 'amount': 1364},\n",
       "   {'transaction-id': 53163, 'amount': 1595},\n",
       "   {'transaction-id': 53271, 'amount': 1931},\n",
       "   {'transaction-id': 53429, 'amount': 1362},\n",
       "   {'transaction-id': 53594, 'amount': 1466},\n",
       "   {'transaction-id': 53849, 'amount': 1597},\n",
       "   {'transaction-id': 54036, 'amount': 1451},\n",
       "   {'transaction-id': 54197, 'amount': 1265},\n",
       "   {'transaction-id': 54246, 'amount': 1111},\n",
       "   {'transaction-id': 54721, 'amount': 1525},\n",
       "   {'transaction-id': 54876, 'amount': 1715},\n",
       "   {'transaction-id': 54975, 'amount': 1667},\n",
       "   {'transaction-id': 54984, 'amount': 1439},\n",
       "   {'transaction-id': 55272, 'amount': 1478},\n",
       "   {'transaction-id': 55707, 'amount': 1689},\n",
       "   {'transaction-id': 56018, 'amount': 1534},\n",
       "   {'transaction-id': 56573, 'amount': 1896},\n",
       "   {'transaction-id': 56605, 'amount': 1642},\n",
       "   {'transaction-id': 56784, 'amount': 1568},\n",
       "   {'transaction-id': 56878, 'amount': 1336},\n",
       "   {'transaction-id': 57126, 'amount': 1205},\n",
       "   {'transaction-id': 57198, 'amount': 1786},\n",
       "   {'transaction-id': 57366, 'amount': 1385},\n",
       "   {'transaction-id': 57670, 'amount': 1487},\n",
       "   {'transaction-id': 58689, 'amount': 1231},\n",
       "   {'transaction-id': 58843, 'amount': 1714},\n",
       "   {'transaction-id': 58887, 'amount': 1675},\n",
       "   {'transaction-id': 58966, 'amount': 2141},\n",
       "   {'transaction-id': 59036, 'amount': 1500},\n",
       "   {'transaction-id': 59368, 'amount': 1291},\n",
       "   {'transaction-id': 59460, 'amount': 1588},\n",
       "   {'transaction-id': 59461, 'amount': 1870},\n",
       "   {'transaction-id': 60079, 'amount': 1543},\n",
       "   {'transaction-id': 60255, 'amount': 1550},\n",
       "   {'transaction-id': 60648, 'amount': 1678},\n",
       "   {'transaction-id': 60891, 'amount': 1802},\n",
       "   {'transaction-id': 61052, 'amount': 1493},\n",
       "   {'transaction-id': 61188, 'amount': 1538},\n",
       "   {'transaction-id': 61417, 'amount': 1423},\n",
       "   {'transaction-id': 61735, 'amount': 1634},\n",
       "   {'transaction-id': 62272, 'amount': 1595},\n",
       "   {'transaction-id': 62585, 'amount': 1232},\n",
       "   {'transaction-id': 62687, 'amount': 1958},\n",
       "   {'transaction-id': 62752, 'amount': 1469},\n",
       "   {'transaction-id': 62895, 'amount': 1339},\n",
       "   {'transaction-id': 62957, 'amount': 1502},\n",
       "   {'transaction-id': 62992, 'amount': 1423},\n",
       "   {'transaction-id': 63276, 'amount': 1628},\n",
       "   {'transaction-id': 64855, 'amount': 1569},\n",
       "   {'transaction-id': 64867, 'amount': 1620},\n",
       "   {'transaction-id': 64916, 'amount': 1628},\n",
       "   {'transaction-id': 64953, 'amount': 1521},\n",
       "   {'transaction-id': 65125, 'amount': 1679},\n",
       "   {'transaction-id': 65211, 'amount': 1813},\n",
       "   {'transaction-id': 65627, 'amount': 1591},\n",
       "   {'transaction-id': 65683, 'amount': 1339},\n",
       "   {'transaction-id': 65884, 'amount': 1766},\n",
       "   {'transaction-id': 66146, 'amount': 1800},\n",
       "   {'transaction-id': 66674, 'amount': 1383},\n",
       "   {'transaction-id': 66825, 'amount': 1571},\n",
       "   {'transaction-id': 67013, 'amount': 1544},\n",
       "   {'transaction-id': 67158, 'amount': 1615},\n",
       "   {'transaction-id': 67304, 'amount': 1303},\n",
       "   {'transaction-id': 67866, 'amount': 1426},\n",
       "   {'transaction-id': 67868, 'amount': 1551},\n",
       "   {'transaction-id': 68239, 'amount': 1482},\n",
       "   {'transaction-id': 68702, 'amount': 1476},\n",
       "   {'transaction-id': 68752, 'amount': 1411},\n",
       "   {'transaction-id': 69476, 'amount': 1794},\n",
       "   {'transaction-id': 69806, 'amount': 984},\n",
       "   {'transaction-id': 70118, 'amount': 1390},\n",
       "   {'transaction-id': 70406, 'amount': 1501},\n",
       "   {'transaction-id': 70520, 'amount': 1588},\n",
       "   {'transaction-id': 70533, 'amount': 1385},\n",
       "   {'transaction-id': 71078, 'amount': 1492},\n",
       "   {'transaction-id': 71601, 'amount': 1532},\n",
       "   {'transaction-id': 71643, 'amount': 1365},\n",
       "   {'transaction-id': 71894, 'amount': 1716},\n",
       "   {'transaction-id': 72086, 'amount': 1558},\n",
       "   {'transaction-id': 72450, 'amount': 1441},\n",
       "   {'transaction-id': 72473, 'amount': 1833},\n",
       "   {'transaction-id': 72660, 'amount': 1512},\n",
       "   {'transaction-id': 72705, 'amount': 1754},\n",
       "   {'transaction-id': 72833, 'amount': 1652},\n",
       "   {'transaction-id': 73221, 'amount': 1685},\n",
       "   {'transaction-id': 73393, 'amount': 1635},\n",
       "   {'transaction-id': 73473, 'amount': 1469},\n",
       "   {'transaction-id': 73676, 'amount': 1741},\n",
       "   {'transaction-id': 73766, 'amount': 1530},\n",
       "   {'transaction-id': 73777, 'amount': 1346},\n",
       "   {'transaction-id': 73802, 'amount': 1615},\n",
       "   {'transaction-id': 73881, 'amount': 1630},\n",
       "   {'transaction-id': 74522, 'amount': 1518},\n",
       "   {'transaction-id': 74816, 'amount': 1493},\n",
       "   {'transaction-id': 75031, 'amount': 1336},\n",
       "   {'transaction-id': 75233, 'amount': 1577},\n",
       "   {'transaction-id': 75602, 'amount': 1673},\n",
       "   {'transaction-id': 75730, 'amount': 1557},\n",
       "   {'transaction-id': 76033, 'amount': 1452},\n",
       "   {'transaction-id': 76640, 'amount': 1404},\n",
       "   {'transaction-id': 76810, 'amount': 1580},\n",
       "   {'transaction-id': 77343, 'amount': 1662},\n",
       "   {'transaction-id': 77391, 'amount': 1601},\n",
       "   {'transaction-id': 77562, 'amount': 1571},\n",
       "   {'transaction-id': 78184, 'amount': 1468},\n",
       "   {'transaction-id': 78253, 'amount': 1689},\n",
       "   {'transaction-id': 79366, 'amount': 1282},\n",
       "   {'transaction-id': 79561, 'amount': 1572},\n",
       "   {'transaction-id': 79583, 'amount': 1497},\n",
       "   {'transaction-id': 79712, 'amount': 1721},\n",
       "   {'transaction-id': 80050, 'amount': 1259},\n",
       "   {'transaction-id': 80099, 'amount': 1338},\n",
       "   {'transaction-id': 80479, 'amount': 1463},\n",
       "   {'transaction-id': 80985, 'amount': 1367},\n",
       "   {'transaction-id': 81146, 'amount': 1648},\n",
       "   {'transaction-id': 81212, 'amount': 1506},\n",
       "   {'transaction-id': 81421, 'amount': 1489},\n",
       "   {'transaction-id': 81498, 'amount': 1767},\n",
       "   {'transaction-id': 81513, 'amount': 1332},\n",
       "   {'transaction-id': 81664, 'amount': 1522},\n",
       "   {'transaction-id': 81732, 'amount': 1428},\n",
       "   {'transaction-id': 81994, 'amount': 1510},\n",
       "   {'transaction-id': 82230, 'amount': 1740},\n",
       "   {'transaction-id': 82426, 'amount': 1663},\n",
       "   {'transaction-id': 82438, 'amount': 1422},\n",
       "   {'transaction-id': 83071, 'amount': 1407},\n",
       "   {'transaction-id': 83097, 'amount': 1547},\n",
       "   {'transaction-id': 83914, 'amount': 1496},\n",
       "   {'transaction-id': 84140, 'amount': 1557},\n",
       "   {'transaction-id': 84546, 'amount': 1452},\n",
       "   {'transaction-id': 84871, 'amount': 1498},\n",
       "   {'transaction-id': 85269, 'amount': 1408},\n",
       "   {'transaction-id': 85282, 'amount': 1298},\n",
       "   {'transaction-id': 85393, 'amount': 1535},\n",
       "   {'transaction-id': 85639, 'amount': 1422},\n",
       "   {'transaction-id': 86494, 'amount': 1430},\n",
       "   {'transaction-id': 86804, 'amount': 1390},\n",
       "   {'transaction-id': 86813, 'amount': 1567},\n",
       "   {'transaction-id': 86936, 'amount': 1309},\n",
       "   {'transaction-id': 87256, 'amount': 1584},\n",
       "   {'transaction-id': 87369, 'amount': 1590},\n",
       "   {'transaction-id': 88050, 'amount': 1572},\n",
       "   {'transaction-id': 88317, 'amount': 1673},\n",
       "   {'transaction-id': 88596, 'amount': 1448},\n",
       "   {'transaction-id': 89728, 'amount': 1428},\n",
       "   {'transaction-id': 90374, 'amount': 1746},\n",
       "   {'transaction-id': 90723, 'amount': 1746},\n",
       "   {'transaction-id': 92554, 'amount': 1451},\n",
       "   {'transaction-id': 92851, 'amount': 1803},\n",
       "   {'transaction-id': 93382, 'amount': 1572},\n",
       "   {'transaction-id': 93489, 'amount': 1369},\n",
       "   {'transaction-id': 93558, 'amount': 1516},\n",
       "   {'transaction-id': 93587, 'amount': 1678},\n",
       "   {'transaction-id': 93630, 'amount': 1601},\n",
       "   {'transaction-id': 94175, 'amount': 1618},\n",
       "   {'transaction-id': 94309, 'amount': 1237},\n",
       "   {'transaction-id': 94315, 'amount': 1950},\n",
       "   {'transaction-id': 94318, 'amount': 1410},\n",
       "   {'transaction-id': 94402, 'amount': 1672},\n",
       "   {'transaction-id': 94809, 'amount': 1822},\n",
       "   {'transaction-id': 95117, 'amount': 1602},\n",
       "   {'transaction-id': 95693, 'amount': 1693},\n",
       "   {'transaction-id': 95698, 'amount': 1219},\n",
       "   {'transaction-id': 95909, 'amount': 1839},\n",
       "   {'transaction-id': 96066, 'amount': 1558},\n",
       "   {'transaction-id': 96550, 'amount': 1479},\n",
       "   {'transaction-id': 96998, 'amount': 1415},\n",
       "   {'transaction-id': 97174, 'amount': 1287},\n",
       "   {'transaction-id': 97176, 'amount': 1955},\n",
       "   {'transaction-id': 97199, 'amount': 1690},\n",
       "   {'transaction-id': 98230, 'amount': 1534},\n",
       "   {'transaction-id': 98329, 'amount': 1179},\n",
       "   {'transaction-id': 98519, 'amount': 1402},\n",
       "   {'transaction-id': 98799, 'amount': 1719}]})"
      ]
     },
     "execution_count": 282,
     "metadata": {},
     "output_type": "execute_result"
    }
   ],
   "source": [
    "import json\n",
    "js = lines.map(json.loads)\n",
    "# take: inspect first few elements\n",
    "js.take(3)"
   ]
  },
  {
   "cell_type": "markdown",
   "metadata": {},
   "source": [
    "### Базовые запросы"
   ]
  },
  {
   "cell_type": "markdown",
   "metadata": {},
   "source": [
    "Как только мы разберем наши данные JSON в соответствующие объекты Python (`dict`, `list` и т. д.), мы можем выполнять более интересные запросы, создавая небольшие функции Python для обработки данных."
   ]
  },
  {
   "cell_type": "code",
   "execution_count": 283,
   "metadata": {},
   "outputs": [
    {
     "data": {
      "text/plain": [
       "({'id': 12,\n",
       "  'name': 'Alice',\n",
       "  'transactions': [{'transaction-id': 1284, 'amount': 28},\n",
       "   {'transaction-id': 2262, 'amount': 24},\n",
       "   {'transaction-id': 4392, 'amount': 25},\n",
       "   {'transaction-id': 4633, 'amount': 25},\n",
       "   {'transaction-id': 9418, 'amount': 25},\n",
       "   {'transaction-id': 9795, 'amount': 21},\n",
       "   {'transaction-id': 11345, 'amount': 22},\n",
       "   {'transaction-id': 11406, 'amount': 24},\n",
       "   {'transaction-id': 11480, 'amount': 25},\n",
       "   {'transaction-id': 12164, 'amount': 22},\n",
       "   {'transaction-id': 12738, 'amount': 27},\n",
       "   {'transaction-id': 13076, 'amount': 21},\n",
       "   {'transaction-id': 13182, 'amount': 24},\n",
       "   {'transaction-id': 14485, 'amount': 23},\n",
       "   {'transaction-id': 15001, 'amount': 24},\n",
       "   {'transaction-id': 17278, 'amount': 23},\n",
       "   {'transaction-id': 17666, 'amount': 26},\n",
       "   {'transaction-id': 18117, 'amount': 22},\n",
       "   {'transaction-id': 20855, 'amount': 23},\n",
       "   {'transaction-id': 21198, 'amount': 24},\n",
       "   {'transaction-id': 25098, 'amount': 24},\n",
       "   {'transaction-id': 27115, 'amount': 25},\n",
       "   {'transaction-id': 29519, 'amount': 22},\n",
       "   {'transaction-id': 29680, 'amount': 25},\n",
       "   {'transaction-id': 29972, 'amount': 22},\n",
       "   {'transaction-id': 30219, 'amount': 25},\n",
       "   {'transaction-id': 31149, 'amount': 21},\n",
       "   {'transaction-id': 32108, 'amount': 26},\n",
       "   {'transaction-id': 34154, 'amount': 25},\n",
       "   {'transaction-id': 36503, 'amount': 28},\n",
       "   {'transaction-id': 39491, 'amount': 26},\n",
       "   {'transaction-id': 42407, 'amount': 25},\n",
       "   {'transaction-id': 44614, 'amount': 23},\n",
       "   {'transaction-id': 46999, 'amount': 23},\n",
       "   {'transaction-id': 49119, 'amount': 24},\n",
       "   {'transaction-id': 49313, 'amount': 20},\n",
       "   {'transaction-id': 51891, 'amount': 24},\n",
       "   {'transaction-id': 54019, 'amount': 21},\n",
       "   {'transaction-id': 54845, 'amount': 22},\n",
       "   {'transaction-id': 55015, 'amount': 24},\n",
       "   {'transaction-id': 55405, 'amount': 26},\n",
       "   {'transaction-id': 59806, 'amount': 21},\n",
       "   {'transaction-id': 61898, 'amount': 23},\n",
       "   {'transaction-id': 63677, 'amount': 24},\n",
       "   {'transaction-id': 64674, 'amount': 23},\n",
       "   {'transaction-id': 65225, 'amount': 25},\n",
       "   {'transaction-id': 66331, 'amount': 23},\n",
       "   {'transaction-id': 68641, 'amount': 21},\n",
       "   {'transaction-id': 69181, 'amount': 25},\n",
       "   {'transaction-id': 72701, 'amount': 23},\n",
       "   {'transaction-id': 73823, 'amount': 28},\n",
       "   {'transaction-id': 77775, 'amount': 26},\n",
       "   {'transaction-id': 78362, 'amount': 25},\n",
       "   {'transaction-id': 80039, 'amount': 22},\n",
       "   {'transaction-id': 80480, 'amount': 25},\n",
       "   {'transaction-id': 81143, 'amount': 26},\n",
       "   {'transaction-id': 82768, 'amount': 24},\n",
       "   {'transaction-id': 85082, 'amount': 24},\n",
       "   {'transaction-id': 85815, 'amount': 25},\n",
       "   {'transaction-id': 88175, 'amount': 26},\n",
       "   {'transaction-id': 88193, 'amount': 22},\n",
       "   {'transaction-id': 88555, 'amount': 23},\n",
       "   {'transaction-id': 90266, 'amount': 25},\n",
       "   {'transaction-id': 90486, 'amount': 24},\n",
       "   {'transaction-id': 93025, 'amount': 26},\n",
       "   {'transaction-id': 97470, 'amount': 26}]},\n",
       " {'id': 14,\n",
       "  'name': 'Alice',\n",
       "  'transactions': [{'transaction-id': 419, 'amount': -14},\n",
       "   {'transaction-id': 1987, 'amount': -108},\n",
       "   {'transaction-id': 2722, 'amount': -66},\n",
       "   {'transaction-id': 2777, 'amount': -37},\n",
       "   {'transaction-id': 3018, 'amount': -15},\n",
       "   {'transaction-id': 3059, 'amount': -142},\n",
       "   {'transaction-id': 3201, 'amount': -71},\n",
       "   {'transaction-id': 3292, 'amount': -127},\n",
       "   {'transaction-id': 3295, 'amount': -67},\n",
       "   {'transaction-id': 3701, 'amount': -141},\n",
       "   {'transaction-id': 4026, 'amount': -63},\n",
       "   {'transaction-id': 5608, 'amount': -97},\n",
       "   {'transaction-id': 5985, 'amount': -108},\n",
       "   {'transaction-id': 6277, 'amount': -70},\n",
       "   {'transaction-id': 7006, 'amount': -46},\n",
       "   {'transaction-id': 7142, 'amount': 28},\n",
       "   {'transaction-id': 7185, 'amount': 20},\n",
       "   {'transaction-id': 8389, 'amount': -83},\n",
       "   {'transaction-id': 11756, 'amount': -87},\n",
       "   {'transaction-id': 12979, 'amount': 0},\n",
       "   {'transaction-id': 13508, 'amount': -59},\n",
       "   {'transaction-id': 13671, 'amount': -159},\n",
       "   {'transaction-id': 15466, 'amount': -79},\n",
       "   {'transaction-id': 15688, 'amount': -58},\n",
       "   {'transaction-id': 15692, 'amount': -19},\n",
       "   {'transaction-id': 17809, 'amount': -82},\n",
       "   {'transaction-id': 18764, 'amount': -54},\n",
       "   {'transaction-id': 19050, 'amount': -15},\n",
       "   {'transaction-id': 21135, 'amount': -69},\n",
       "   {'transaction-id': 21366, 'amount': -93},\n",
       "   {'transaction-id': 22741, 'amount': -96},\n",
       "   {'transaction-id': 23748, 'amount': -30},\n",
       "   {'transaction-id': 23889, 'amount': 0},\n",
       "   {'transaction-id': 24929, 'amount': -19},\n",
       "   {'transaction-id': 25717, 'amount': -29},\n",
       "   {'transaction-id': 25817, 'amount': -54},\n",
       "   {'transaction-id': 26224, 'amount': -36},\n",
       "   {'transaction-id': 28396, 'amount': -35},\n",
       "   {'transaction-id': 30668, 'amount': -38},\n",
       "   {'transaction-id': 30810, 'amount': -65},\n",
       "   {'transaction-id': 31085, 'amount': 0},\n",
       "   {'transaction-id': 34322, 'amount': -16},\n",
       "   {'transaction-id': 34991, 'amount': -34},\n",
       "   {'transaction-id': 35923, 'amount': -61},\n",
       "   {'transaction-id': 36283, 'amount': -32},\n",
       "   {'transaction-id': 38005, 'amount': -145},\n",
       "   {'transaction-id': 38582, 'amount': -129},\n",
       "   {'transaction-id': 42443, 'amount': -76},\n",
       "   {'transaction-id': 43325, 'amount': -25},\n",
       "   {'transaction-id': 43504, 'amount': -36},\n",
       "   {'transaction-id': 43566, 'amount': -42},\n",
       "   {'transaction-id': 43679, 'amount': -20},\n",
       "   {'transaction-id': 46764, 'amount': -95},\n",
       "   {'transaction-id': 49383, 'amount': -32},\n",
       "   {'transaction-id': 51001, 'amount': 75},\n",
       "   {'transaction-id': 51159, 'amount': -30},\n",
       "   {'transaction-id': 52234, 'amount': -91},\n",
       "   {'transaction-id': 52344, 'amount': -19},\n",
       "   {'transaction-id': 52520, 'amount': -62},\n",
       "   {'transaction-id': 53022, 'amount': -42},\n",
       "   {'transaction-id': 54813, 'amount': -34},\n",
       "   {'transaction-id': 57537, 'amount': -70},\n",
       "   {'transaction-id': 59162, 'amount': -46},\n",
       "   {'transaction-id': 59484, 'amount': -58},\n",
       "   {'transaction-id': 60019, 'amount': -63},\n",
       "   {'transaction-id': 61244, 'amount': -50},\n",
       "   {'transaction-id': 61345, 'amount': -41},\n",
       "   {'transaction-id': 63316, 'amount': -46},\n",
       "   {'transaction-id': 63828, 'amount': -149},\n",
       "   {'transaction-id': 64630, 'amount': -103},\n",
       "   {'transaction-id': 64765, 'amount': -38},\n",
       "   {'transaction-id': 64820, 'amount': -129},\n",
       "   {'transaction-id': 65151, 'amount': -13},\n",
       "   {'transaction-id': 65170, 'amount': 9},\n",
       "   {'transaction-id': 66257, 'amount': -53},\n",
       "   {'transaction-id': 69640, 'amount': -40},\n",
       "   {'transaction-id': 70613, 'amount': -10},\n",
       "   {'transaction-id': 72380, 'amount': -45},\n",
       "   {'transaction-id': 72864, 'amount': -72},\n",
       "   {'transaction-id': 73301, 'amount': -71},\n",
       "   {'transaction-id': 75228, 'amount': -105},\n",
       "   {'transaction-id': 78045, 'amount': -26},\n",
       "   {'transaction-id': 80725, 'amount': -92},\n",
       "   {'transaction-id': 82244, 'amount': -39},\n",
       "   {'transaction-id': 83763, 'amount': -97},\n",
       "   {'transaction-id': 84803, 'amount': -133},\n",
       "   {'transaction-id': 85778, 'amount': -64},\n",
       "   {'transaction-id': 85881, 'amount': -13},\n",
       "   {'transaction-id': 85953, 'amount': -92},\n",
       "   {'transaction-id': 86285, 'amount': -19},\n",
       "   {'transaction-id': 86390, 'amount': -53},\n",
       "   {'transaction-id': 86606, 'amount': -64},\n",
       "   {'transaction-id': 86832, 'amount': 37},\n",
       "   {'transaction-id': 87182, 'amount': -9},\n",
       "   {'transaction-id': 87264, 'amount': -134},\n",
       "   {'transaction-id': 87385, 'amount': -40},\n",
       "   {'transaction-id': 87571, 'amount': -81},\n",
       "   {'transaction-id': 87690, 'amount': -62},\n",
       "   {'transaction-id': 87852, 'amount': -82},\n",
       "   {'transaction-id': 89530, 'amount': -116},\n",
       "   {'transaction-id': 90263, 'amount': -136},\n",
       "   {'transaction-id': 90363, 'amount': -33},\n",
       "   {'transaction-id': 91947, 'amount': -6},\n",
       "   {'transaction-id': 92006, 'amount': -65},\n",
       "   {'transaction-id': 94393, 'amount': -77},\n",
       "   {'transaction-id': 94503, 'amount': -61},\n",
       "   {'transaction-id': 94632, 'amount': 31},\n",
       "   {'transaction-id': 94752, 'amount': -4},\n",
       "   {'transaction-id': 97788, 'amount': -152},\n",
       "   {'transaction-id': 99338, 'amount': -33},\n",
       "   {'transaction-id': 99822, 'amount': -99}]},\n",
       " {'id': 38,\n",
       "  'name': 'Alice',\n",
       "  'transactions': [{'transaction-id': 1881, 'amount': 328},\n",
       "   {'transaction-id': 2372, 'amount': 538},\n",
       "   {'transaction-id': 4586, 'amount': 484},\n",
       "   {'transaction-id': 9750, 'amount': 397},\n",
       "   {'transaction-id': 9850, 'amount': 521},\n",
       "   {'transaction-id': 13136, 'amount': 643},\n",
       "   {'transaction-id': 14874, 'amount': 506},\n",
       "   {'transaction-id': 16011, 'amount': 75},\n",
       "   {'transaction-id': 17254, 'amount': 374},\n",
       "   {'transaction-id': 18242, 'amount': 505},\n",
       "   {'transaction-id': 19524, 'amount': 383},\n",
       "   {'transaction-id': 20610, 'amount': 582},\n",
       "   {'transaction-id': 23682, 'amount': 571},\n",
       "   {'transaction-id': 28064, 'amount': 290},\n",
       "   {'transaction-id': 28298, 'amount': 670},\n",
       "   {'transaction-id': 30964, 'amount': 638},\n",
       "   {'transaction-id': 31346, 'amount': 547},\n",
       "   {'transaction-id': 36823, 'amount': 668},\n",
       "   {'transaction-id': 40366, 'amount': 475},\n",
       "   {'transaction-id': 41962, 'amount': 450},\n",
       "   {'transaction-id': 43974, 'amount': 728},\n",
       "   {'transaction-id': 44147, 'amount': 484},\n",
       "   {'transaction-id': 45784, 'amount': 646},\n",
       "   {'transaction-id': 45808, 'amount': 385},\n",
       "   {'transaction-id': 51309, 'amount': 526},\n",
       "   {'transaction-id': 51394, 'amount': 109},\n",
       "   {'transaction-id': 51504, 'amount': 628},\n",
       "   {'transaction-id': 55481, 'amount': 518},\n",
       "   {'transaction-id': 58884, 'amount': 303},\n",
       "   {'transaction-id': 59223, 'amount': 369},\n",
       "   {'transaction-id': 61235, 'amount': 446},\n",
       "   {'transaction-id': 61488, 'amount': 317},\n",
       "   {'transaction-id': 62966, 'amount': 225},\n",
       "   {'transaction-id': 64127, 'amount': 632},\n",
       "   {'transaction-id': 64404, 'amount': 368},\n",
       "   {'transaction-id': 65243, 'amount': 490},\n",
       "   {'transaction-id': 66247, 'amount': 662},\n",
       "   {'transaction-id': 70525, 'amount': 325},\n",
       "   {'transaction-id': 70826, 'amount': 405},\n",
       "   {'transaction-id': 74624, 'amount': 240},\n",
       "   {'transaction-id': 77226, 'amount': 475},\n",
       "   {'transaction-id': 77325, 'amount': 507},\n",
       "   {'transaction-id': 78552, 'amount': 343},\n",
       "   {'transaction-id': 81527, 'amount': 467},\n",
       "   {'transaction-id': 82665, 'amount': 379},\n",
       "   {'transaction-id': 88339, 'amount': 546},\n",
       "   {'transaction-id': 92568, 'amount': 480},\n",
       "   {'transaction-id': 92709, 'amount': 348},\n",
       "   {'transaction-id': 94849, 'amount': 178},\n",
       "   {'transaction-id': 94893, 'amount': 632},\n",
       "   {'transaction-id': 94987, 'amount': 76},\n",
       "   {'transaction-id': 95091, 'amount': 359},\n",
       "   {'transaction-id': 98858, 'amount': 519}]},\n",
       " {'id': 60,\n",
       "  'name': 'Alice',\n",
       "  'transactions': [{'transaction-id': 765, 'amount': 2076},\n",
       "   {'transaction-id': 1104, 'amount': 2567},\n",
       "   {'transaction-id': 1131, 'amount': 2126},\n",
       "   {'transaction-id': 2295, 'amount': 2281},\n",
       "   {'transaction-id': 2620, 'amount': 2296},\n",
       "   {'transaction-id': 3418, 'amount': 2133},\n",
       "   {'transaction-id': 4019, 'amount': 2248},\n",
       "   {'transaction-id': 4385, 'amount': 2008},\n",
       "   {'transaction-id': 5555, 'amount': 2715},\n",
       "   {'transaction-id': 6344, 'amount': 2356},\n",
       "   {'transaction-id': 7533, 'amount': 1986},\n",
       "   {'transaction-id': 8574, 'amount': 1933},\n",
       "   {'transaction-id': 10710, 'amount': 2013},\n",
       "   {'transaction-id': 13792, 'amount': 1848},\n",
       "   {'transaction-id': 14391, 'amount': 2287},\n",
       "   {'transaction-id': 15536, 'amount': 2490},\n",
       "   {'transaction-id': 16266, 'amount': 2425},\n",
       "   {'transaction-id': 18244, 'amount': 1883},\n",
       "   {'transaction-id': 19465, 'amount': 2215},\n",
       "   {'transaction-id': 20177, 'amount': 1952},\n",
       "   {'transaction-id': 20687, 'amount': 1782},\n",
       "   {'transaction-id': 21844, 'amount': 2342},\n",
       "   {'transaction-id': 21994, 'amount': 2424},\n",
       "   {'transaction-id': 23107, 'amount': 2241},\n",
       "   {'transaction-id': 23876, 'amount': 2318},\n",
       "   {'transaction-id': 24729, 'amount': 2345},\n",
       "   {'transaction-id': 25471, 'amount': 2075},\n",
       "   {'transaction-id': 25542, 'amount': 2131},\n",
       "   {'transaction-id': 25989, 'amount': 2240},\n",
       "   {'transaction-id': 26003, 'amount': 2396},\n",
       "   {'transaction-id': 27139, 'amount': 2224},\n",
       "   {'transaction-id': 27333, 'amount': 2259},\n",
       "   {'transaction-id': 27694, 'amount': 2272},\n",
       "   {'transaction-id': 28860, 'amount': 2180},\n",
       "   {'transaction-id': 29107, 'amount': 2377},\n",
       "   {'transaction-id': 30938, 'amount': 2274},\n",
       "   {'transaction-id': 31190, 'amount': 2367},\n",
       "   {'transaction-id': 32242, 'amount': 2219},\n",
       "   {'transaction-id': 32250, 'amount': 1949},\n",
       "   {'transaction-id': 32297, 'amount': 2235},\n",
       "   {'transaction-id': 34950, 'amount': 2303},\n",
       "   {'transaction-id': 35297, 'amount': 2246},\n",
       "   {'transaction-id': 36316, 'amount': 2099},\n",
       "   {'transaction-id': 37130, 'amount': 2171},\n",
       "   {'transaction-id': 37242, 'amount': 2079},\n",
       "   {'transaction-id': 37541, 'amount': 2382},\n",
       "   {'transaction-id': 37638, 'amount': 2489},\n",
       "   {'transaction-id': 38782, 'amount': 2267},\n",
       "   {'transaction-id': 39986, 'amount': 2330},\n",
       "   {'transaction-id': 40655, 'amount': 2524},\n",
       "   {'transaction-id': 40719, 'amount': 2382},\n",
       "   {'transaction-id': 41083, 'amount': 2433},\n",
       "   {'transaction-id': 41563, 'amount': 2022},\n",
       "   {'transaction-id': 41835, 'amount': 2224},\n",
       "   {'transaction-id': 43252, 'amount': 2160},\n",
       "   {'transaction-id': 43342, 'amount': 2218},\n",
       "   {'transaction-id': 43890, 'amount': 1896},\n",
       "   {'transaction-id': 45927, 'amount': 2154},\n",
       "   {'transaction-id': 45985, 'amount': 1966},\n",
       "   {'transaction-id': 46997, 'amount': 2096},\n",
       "   {'transaction-id': 47997, 'amount': 2300},\n",
       "   {'transaction-id': 48014, 'amount': 2280},\n",
       "   {'transaction-id': 50749, 'amount': 1916},\n",
       "   {'transaction-id': 51382, 'amount': 2173},\n",
       "   {'transaction-id': 51848, 'amount': 2610},\n",
       "   {'transaction-id': 54635, 'amount': 2203},\n",
       "   {'transaction-id': 54745, 'amount': 2251},\n",
       "   {'transaction-id': 54999, 'amount': 1937},\n",
       "   {'transaction-id': 55553, 'amount': 2221},\n",
       "   {'transaction-id': 56844, 'amount': 2084},\n",
       "   {'transaction-id': 57165, 'amount': 2208},\n",
       "   {'transaction-id': 58565, 'amount': 2370},\n",
       "   {'transaction-id': 60660, 'amount': 2383},\n",
       "   {'transaction-id': 61556, 'amount': 2241},\n",
       "   {'transaction-id': 61714, 'amount': 2283},\n",
       "   {'transaction-id': 63325, 'amount': 2206},\n",
       "   {'transaction-id': 64126, 'amount': 2137},\n",
       "   {'transaction-id': 65200, 'amount': 2489},\n",
       "   {'transaction-id': 65645, 'amount': 1875},\n",
       "   {'transaction-id': 66397, 'amount': 2008},\n",
       "   {'transaction-id': 67005, 'amount': 2018},\n",
       "   {'transaction-id': 68573, 'amount': 2625},\n",
       "   {'transaction-id': 68910, 'amount': 2144},\n",
       "   {'transaction-id': 71429, 'amount': 1969},\n",
       "   {'transaction-id': 71577, 'amount': 1873},\n",
       "   {'transaction-id': 72059, 'amount': 2420},\n",
       "   {'transaction-id': 72675, 'amount': 2627},\n",
       "   {'transaction-id': 73062, 'amount': 2325},\n",
       "   {'transaction-id': 73167, 'amount': 2306},\n",
       "   {'transaction-id': 73883, 'amount': 2585},\n",
       "   {'transaction-id': 73939, 'amount': 2340},\n",
       "   {'transaction-id': 75167, 'amount': 2186},\n",
       "   {'transaction-id': 76040, 'amount': 2608},\n",
       "   {'transaction-id': 76213, 'amount': 2015},\n",
       "   {'transaction-id': 77296, 'amount': 1774},\n",
       "   {'transaction-id': 78044, 'amount': 2184},\n",
       "   {'transaction-id': 78315, 'amount': 2262},\n",
       "   {'transaction-id': 79744, 'amount': 2415},\n",
       "   {'transaction-id': 80765, 'amount': 2124},\n",
       "   {'transaction-id': 81049, 'amount': 2413},\n",
       "   {'transaction-id': 82218, 'amount': 2148},\n",
       "   {'transaction-id': 82232, 'amount': 2422},\n",
       "   {'transaction-id': 82877, 'amount': 2292},\n",
       "   {'transaction-id': 84551, 'amount': 2326},\n",
       "   {'transaction-id': 87117, 'amount': 2127},\n",
       "   {'transaction-id': 87126, 'amount': 2067},\n",
       "   {'transaction-id': 87283, 'amount': 2022},\n",
       "   {'transaction-id': 87549, 'amount': 2036},\n",
       "   {'transaction-id': 89224, 'amount': 2134},\n",
       "   {'transaction-id': 89587, 'amount': 2238},\n",
       "   {'transaction-id': 90940, 'amount': 2417},\n",
       "   {'transaction-id': 92716, 'amount': 2112},\n",
       "   {'transaction-id': 94114, 'amount': 2118},\n",
       "   {'transaction-id': 95967, 'amount': 2333},\n",
       "   {'transaction-id': 96316, 'amount': 2549},\n",
       "   {'transaction-id': 96791, 'amount': 2298},\n",
       "   {'transaction-id': 97512, 'amount': 2704},\n",
       "   {'transaction-id': 98500, 'amount': 2173},\n",
       "   {'transaction-id': 98570, 'amount': 2173},\n",
       "   {'transaction-id': 99258, 'amount': 2131},\n",
       "   {'transaction-id': 99423, 'amount': 1965},\n",
       "   {'transaction-id': 99801, 'amount': 2087},\n",
       "   {'transaction-id': 99868, 'amount': 2479}]},\n",
       " {'id': 69,\n",
       "  'name': 'Alice',\n",
       "  'transactions': [{'transaction-id': 1210, 'amount': 692},\n",
       "   {'transaction-id': 3527, 'amount': 622},\n",
       "   {'transaction-id': 3917, 'amount': 717},\n",
       "   {'transaction-id': 5142, 'amount': 693},\n",
       "   {'transaction-id': 5295, 'amount': 622},\n",
       "   {'transaction-id': 5385, 'amount': 702},\n",
       "   {'transaction-id': 8318, 'amount': 660},\n",
       "   {'transaction-id': 9214, 'amount': 692},\n",
       "   {'transaction-id': 9359, 'amount': 728},\n",
       "   {'transaction-id': 14620, 'amount': 679},\n",
       "   {'transaction-id': 16616, 'amount': 736},\n",
       "   {'transaction-id': 17497, 'amount': 612},\n",
       "   {'transaction-id': 18328, 'amount': 751},\n",
       "   {'transaction-id': 18732, 'amount': 702},\n",
       "   {'transaction-id': 19909, 'amount': 676},\n",
       "   {'transaction-id': 20013, 'amount': 755},\n",
       "   {'transaction-id': 21013, 'amount': 635},\n",
       "   {'transaction-id': 21043, 'amount': 629},\n",
       "   {'transaction-id': 21123, 'amount': 737},\n",
       "   {'transaction-id': 22990, 'amount': 619},\n",
       "   {'transaction-id': 24495, 'amount': 680},\n",
       "   {'transaction-id': 25434, 'amount': 730},\n",
       "   {'transaction-id': 33660, 'amount': 677},\n",
       "   {'transaction-id': 35170, 'amount': 597},\n",
       "   {'transaction-id': 37741, 'amount': 815},\n",
       "   {'transaction-id': 38088, 'amount': 751},\n",
       "   {'transaction-id': 40433, 'amount': 704},\n",
       "   {'transaction-id': 41832, 'amount': 642},\n",
       "   {'transaction-id': 42164, 'amount': 660},\n",
       "   {'transaction-id': 44342, 'amount': 567},\n",
       "   {'transaction-id': 45506, 'amount': 696},\n",
       "   {'transaction-id': 47549, 'amount': 653},\n",
       "   {'transaction-id': 50958, 'amount': 728},\n",
       "   {'transaction-id': 52750, 'amount': 698},\n",
       "   {'transaction-id': 56213, 'amount': 629},\n",
       "   {'transaction-id': 56708, 'amount': 651},\n",
       "   {'transaction-id': 66322, 'amount': 785},\n",
       "   {'transaction-id': 68776, 'amount': 688},\n",
       "   {'transaction-id': 69005, 'amount': 713},\n",
       "   {'transaction-id': 73222, 'amount': 734},\n",
       "   {'transaction-id': 74632, 'amount': 812},\n",
       "   {'transaction-id': 75486, 'amount': 686},\n",
       "   {'transaction-id': 77192, 'amount': 684},\n",
       "   {'transaction-id': 77501, 'amount': 648},\n",
       "   {'transaction-id': 78405, 'amount': 726},\n",
       "   {'transaction-id': 83059, 'amount': 595},\n",
       "   {'transaction-id': 83983, 'amount': 657},\n",
       "   {'transaction-id': 87137, 'amount': 743},\n",
       "   {'transaction-id': 88183, 'amount': 763},\n",
       "   {'transaction-id': 90549, 'amount': 657},\n",
       "   {'transaction-id': 92064, 'amount': 707},\n",
       "   {'transaction-id': 92648, 'amount': 679},\n",
       "   {'transaction-id': 92979, 'amount': 655},\n",
       "   {'transaction-id': 94426, 'amount': 585},\n",
       "   {'transaction-id': 95749, 'amount': 677},\n",
       "   {'transaction-id': 96082, 'amount': 746},\n",
       "   {'transaction-id': 96412, 'amount': 730},\n",
       "   {'transaction-id': 96962, 'amount': 572},\n",
       "   {'transaction-id': 98150, 'amount': 804},\n",
       "   {'transaction-id': 98843, 'amount': 757},\n",
       "   {'transaction-id': 98958, 'amount': 652},\n",
       "   {'transaction-id': 99429, 'amount': 755},\n",
       "   {'transaction-id': 99773, 'amount': 684}]})"
      ]
     },
     "execution_count": 283,
     "metadata": {},
     "output_type": "execute_result"
    }
   ],
   "source": [
    "# filter: keep only some elements of the sequence\n",
    "js.filter(lambda record: record['name'] == 'Alice').take(5)"
   ]
  },
  {
   "cell_type": "code",
   "execution_count": 284,
   "metadata": {},
   "outputs": [
    {
     "data": {
      "text/plain": [
       "({'name': 'Alice', 'count': 66},\n",
       " {'name': 'Alice', 'count': 111},\n",
       " {'name': 'Alice', 'count': 53},\n",
       " {'name': 'Alice', 'count': 123},\n",
       " {'name': 'Alice', 'count': 63})"
      ]
     },
     "execution_count": 284,
     "metadata": {},
     "output_type": "execute_result"
    }
   ],
   "source": [
    "def count_transactions(d):\n",
    "    return {'name': d['name'], 'count': len(d['transactions'])}\n",
    "\n",
    "# применение count_transactions для всех записей Alice:\n",
    "(js.filter(lambda record: record['name'] == 'Alice')\n",
    "   .map(count_transactions)\n",
    "   .take(5))"
   ]
  },
  {
   "cell_type": "code",
   "execution_count": 285,
   "metadata": {},
   "outputs": [
    {
     "data": {
      "text/plain": [
       "(66, 111, 53, 123, 63)"
      ]
     },
     "execution_count": 285,
     "metadata": {},
     "output_type": "execute_result"
    }
   ],
   "source": [
    "# pluck: выбрать значение по соответствующему ключу:\n",
    "(js.filter(lambda record: record['name'] == 'Alice')\n",
    "   .map(count_transactions)\n",
    "   .pluck('count')\n",
    "   .take(5))"
   ]
  },
  {
   "cell_type": "code",
   "execution_count": 286,
   "metadata": {},
   "outputs": [
    {
     "data": {
      "text/plain": [
       "120.71933333333334"
      ]
     },
     "execution_count": 286,
     "metadata": {},
     "output_type": "execute_result"
    }
   ],
   "source": [
    "# Срднее количество транзакций для всех записей для Alice:\n",
    "(js.filter(lambda record: record['name'] == 'Alice')\n",
    "   .map(count_transactions)\n",
    "   .pluck('count')\n",
    "   .mean()\n",
    "   .compute())"
   ]
  },
  {
   "cell_type": "markdown",
   "metadata": {},
   "source": [
    "### Использование `flatten` для обработки вложенных блоков данных"
   ]
  },
  {
   "cell_type": "markdown",
   "metadata": {},
   "source": [
    "В приведенном ниже примере мы видим использование `.flatten()` для приведения вложенных данных к плоскому виду. В итогде мы вычисляем среднюю сумму по всем транзакциям для всех Alice."
   ]
  },
  {
   "cell_type": "code",
   "execution_count": 287,
   "metadata": {},
   "outputs": [
    {
     "data": {
      "text/plain": [
       "([{'transaction-id': 1284, 'amount': 28},\n",
       "  {'transaction-id': 2262, 'amount': 24},\n",
       "  {'transaction-id': 4392, 'amount': 25},\n",
       "  {'transaction-id': 4633, 'amount': 25},\n",
       "  {'transaction-id': 9418, 'amount': 25},\n",
       "  {'transaction-id': 9795, 'amount': 21},\n",
       "  {'transaction-id': 11345, 'amount': 22},\n",
       "  {'transaction-id': 11406, 'amount': 24},\n",
       "  {'transaction-id': 11480, 'amount': 25},\n",
       "  {'transaction-id': 12164, 'amount': 22},\n",
       "  {'transaction-id': 12738, 'amount': 27},\n",
       "  {'transaction-id': 13076, 'amount': 21},\n",
       "  {'transaction-id': 13182, 'amount': 24},\n",
       "  {'transaction-id': 14485, 'amount': 23},\n",
       "  {'transaction-id': 15001, 'amount': 24},\n",
       "  {'transaction-id': 17278, 'amount': 23},\n",
       "  {'transaction-id': 17666, 'amount': 26},\n",
       "  {'transaction-id': 18117, 'amount': 22},\n",
       "  {'transaction-id': 20855, 'amount': 23},\n",
       "  {'transaction-id': 21198, 'amount': 24},\n",
       "  {'transaction-id': 25098, 'amount': 24},\n",
       "  {'transaction-id': 27115, 'amount': 25},\n",
       "  {'transaction-id': 29519, 'amount': 22},\n",
       "  {'transaction-id': 29680, 'amount': 25},\n",
       "  {'transaction-id': 29972, 'amount': 22},\n",
       "  {'transaction-id': 30219, 'amount': 25},\n",
       "  {'transaction-id': 31149, 'amount': 21},\n",
       "  {'transaction-id': 32108, 'amount': 26},\n",
       "  {'transaction-id': 34154, 'amount': 25},\n",
       "  {'transaction-id': 36503, 'amount': 28},\n",
       "  {'transaction-id': 39491, 'amount': 26},\n",
       "  {'transaction-id': 42407, 'amount': 25},\n",
       "  {'transaction-id': 44614, 'amount': 23},\n",
       "  {'transaction-id': 46999, 'amount': 23},\n",
       "  {'transaction-id': 49119, 'amount': 24},\n",
       "  {'transaction-id': 49313, 'amount': 20},\n",
       "  {'transaction-id': 51891, 'amount': 24},\n",
       "  {'transaction-id': 54019, 'amount': 21},\n",
       "  {'transaction-id': 54845, 'amount': 22},\n",
       "  {'transaction-id': 55015, 'amount': 24},\n",
       "  {'transaction-id': 55405, 'amount': 26},\n",
       "  {'transaction-id': 59806, 'amount': 21},\n",
       "  {'transaction-id': 61898, 'amount': 23},\n",
       "  {'transaction-id': 63677, 'amount': 24},\n",
       "  {'transaction-id': 64674, 'amount': 23},\n",
       "  {'transaction-id': 65225, 'amount': 25},\n",
       "  {'transaction-id': 66331, 'amount': 23},\n",
       "  {'transaction-id': 68641, 'amount': 21},\n",
       "  {'transaction-id': 69181, 'amount': 25},\n",
       "  {'transaction-id': 72701, 'amount': 23},\n",
       "  {'transaction-id': 73823, 'amount': 28},\n",
       "  {'transaction-id': 77775, 'amount': 26},\n",
       "  {'transaction-id': 78362, 'amount': 25},\n",
       "  {'transaction-id': 80039, 'amount': 22},\n",
       "  {'transaction-id': 80480, 'amount': 25},\n",
       "  {'transaction-id': 81143, 'amount': 26},\n",
       "  {'transaction-id': 82768, 'amount': 24},\n",
       "  {'transaction-id': 85082, 'amount': 24},\n",
       "  {'transaction-id': 85815, 'amount': 25},\n",
       "  {'transaction-id': 88175, 'amount': 26},\n",
       "  {'transaction-id': 88193, 'amount': 22},\n",
       "  {'transaction-id': 88555, 'amount': 23},\n",
       "  {'transaction-id': 90266, 'amount': 25},\n",
       "  {'transaction-id': 90486, 'amount': 24},\n",
       "  {'transaction-id': 93025, 'amount': 26},\n",
       "  {'transaction-id': 97470, 'amount': 26}],\n",
       " [{'transaction-id': 419, 'amount': -14},\n",
       "  {'transaction-id': 1987, 'amount': -108},\n",
       "  {'transaction-id': 2722, 'amount': -66},\n",
       "  {'transaction-id': 2777, 'amount': -37},\n",
       "  {'transaction-id': 3018, 'amount': -15},\n",
       "  {'transaction-id': 3059, 'amount': -142},\n",
       "  {'transaction-id': 3201, 'amount': -71},\n",
       "  {'transaction-id': 3292, 'amount': -127},\n",
       "  {'transaction-id': 3295, 'amount': -67},\n",
       "  {'transaction-id': 3701, 'amount': -141},\n",
       "  {'transaction-id': 4026, 'amount': -63},\n",
       "  {'transaction-id': 5608, 'amount': -97},\n",
       "  {'transaction-id': 5985, 'amount': -108},\n",
       "  {'transaction-id': 6277, 'amount': -70},\n",
       "  {'transaction-id': 7006, 'amount': -46},\n",
       "  {'transaction-id': 7142, 'amount': 28},\n",
       "  {'transaction-id': 7185, 'amount': 20},\n",
       "  {'transaction-id': 8389, 'amount': -83},\n",
       "  {'transaction-id': 11756, 'amount': -87},\n",
       "  {'transaction-id': 12979, 'amount': 0},\n",
       "  {'transaction-id': 13508, 'amount': -59},\n",
       "  {'transaction-id': 13671, 'amount': -159},\n",
       "  {'transaction-id': 15466, 'amount': -79},\n",
       "  {'transaction-id': 15688, 'amount': -58},\n",
       "  {'transaction-id': 15692, 'amount': -19},\n",
       "  {'transaction-id': 17809, 'amount': -82},\n",
       "  {'transaction-id': 18764, 'amount': -54},\n",
       "  {'transaction-id': 19050, 'amount': -15},\n",
       "  {'transaction-id': 21135, 'amount': -69},\n",
       "  {'transaction-id': 21366, 'amount': -93},\n",
       "  {'transaction-id': 22741, 'amount': -96},\n",
       "  {'transaction-id': 23748, 'amount': -30},\n",
       "  {'transaction-id': 23889, 'amount': 0},\n",
       "  {'transaction-id': 24929, 'amount': -19},\n",
       "  {'transaction-id': 25717, 'amount': -29},\n",
       "  {'transaction-id': 25817, 'amount': -54},\n",
       "  {'transaction-id': 26224, 'amount': -36},\n",
       "  {'transaction-id': 28396, 'amount': -35},\n",
       "  {'transaction-id': 30668, 'amount': -38},\n",
       "  {'transaction-id': 30810, 'amount': -65},\n",
       "  {'transaction-id': 31085, 'amount': 0},\n",
       "  {'transaction-id': 34322, 'amount': -16},\n",
       "  {'transaction-id': 34991, 'amount': -34},\n",
       "  {'transaction-id': 35923, 'amount': -61},\n",
       "  {'transaction-id': 36283, 'amount': -32},\n",
       "  {'transaction-id': 38005, 'amount': -145},\n",
       "  {'transaction-id': 38582, 'amount': -129},\n",
       "  {'transaction-id': 42443, 'amount': -76},\n",
       "  {'transaction-id': 43325, 'amount': -25},\n",
       "  {'transaction-id': 43504, 'amount': -36},\n",
       "  {'transaction-id': 43566, 'amount': -42},\n",
       "  {'transaction-id': 43679, 'amount': -20},\n",
       "  {'transaction-id': 46764, 'amount': -95},\n",
       "  {'transaction-id': 49383, 'amount': -32},\n",
       "  {'transaction-id': 51001, 'amount': 75},\n",
       "  {'transaction-id': 51159, 'amount': -30},\n",
       "  {'transaction-id': 52234, 'amount': -91},\n",
       "  {'transaction-id': 52344, 'amount': -19},\n",
       "  {'transaction-id': 52520, 'amount': -62},\n",
       "  {'transaction-id': 53022, 'amount': -42},\n",
       "  {'transaction-id': 54813, 'amount': -34},\n",
       "  {'transaction-id': 57537, 'amount': -70},\n",
       "  {'transaction-id': 59162, 'amount': -46},\n",
       "  {'transaction-id': 59484, 'amount': -58},\n",
       "  {'transaction-id': 60019, 'amount': -63},\n",
       "  {'transaction-id': 61244, 'amount': -50},\n",
       "  {'transaction-id': 61345, 'amount': -41},\n",
       "  {'transaction-id': 63316, 'amount': -46},\n",
       "  {'transaction-id': 63828, 'amount': -149},\n",
       "  {'transaction-id': 64630, 'amount': -103},\n",
       "  {'transaction-id': 64765, 'amount': -38},\n",
       "  {'transaction-id': 64820, 'amount': -129},\n",
       "  {'transaction-id': 65151, 'amount': -13},\n",
       "  {'transaction-id': 65170, 'amount': 9},\n",
       "  {'transaction-id': 66257, 'amount': -53},\n",
       "  {'transaction-id': 69640, 'amount': -40},\n",
       "  {'transaction-id': 70613, 'amount': -10},\n",
       "  {'transaction-id': 72380, 'amount': -45},\n",
       "  {'transaction-id': 72864, 'amount': -72},\n",
       "  {'transaction-id': 73301, 'amount': -71},\n",
       "  {'transaction-id': 75228, 'amount': -105},\n",
       "  {'transaction-id': 78045, 'amount': -26},\n",
       "  {'transaction-id': 80725, 'amount': -92},\n",
       "  {'transaction-id': 82244, 'amount': -39},\n",
       "  {'transaction-id': 83763, 'amount': -97},\n",
       "  {'transaction-id': 84803, 'amount': -133},\n",
       "  {'transaction-id': 85778, 'amount': -64},\n",
       "  {'transaction-id': 85881, 'amount': -13},\n",
       "  {'transaction-id': 85953, 'amount': -92},\n",
       "  {'transaction-id': 86285, 'amount': -19},\n",
       "  {'transaction-id': 86390, 'amount': -53},\n",
       "  {'transaction-id': 86606, 'amount': -64},\n",
       "  {'transaction-id': 86832, 'amount': 37},\n",
       "  {'transaction-id': 87182, 'amount': -9},\n",
       "  {'transaction-id': 87264, 'amount': -134},\n",
       "  {'transaction-id': 87385, 'amount': -40},\n",
       "  {'transaction-id': 87571, 'amount': -81},\n",
       "  {'transaction-id': 87690, 'amount': -62},\n",
       "  {'transaction-id': 87852, 'amount': -82},\n",
       "  {'transaction-id': 89530, 'amount': -116},\n",
       "  {'transaction-id': 90263, 'amount': -136},\n",
       "  {'transaction-id': 90363, 'amount': -33},\n",
       "  {'transaction-id': 91947, 'amount': -6},\n",
       "  {'transaction-id': 92006, 'amount': -65},\n",
       "  {'transaction-id': 94393, 'amount': -77},\n",
       "  {'transaction-id': 94503, 'amount': -61},\n",
       "  {'transaction-id': 94632, 'amount': 31},\n",
       "  {'transaction-id': 94752, 'amount': -4},\n",
       "  {'transaction-id': 97788, 'amount': -152},\n",
       "  {'transaction-id': 99338, 'amount': -33},\n",
       "  {'transaction-id': 99822, 'amount': -99}],\n",
       " [{'transaction-id': 1881, 'amount': 328},\n",
       "  {'transaction-id': 2372, 'amount': 538},\n",
       "  {'transaction-id': 4586, 'amount': 484},\n",
       "  {'transaction-id': 9750, 'amount': 397},\n",
       "  {'transaction-id': 9850, 'amount': 521},\n",
       "  {'transaction-id': 13136, 'amount': 643},\n",
       "  {'transaction-id': 14874, 'amount': 506},\n",
       "  {'transaction-id': 16011, 'amount': 75},\n",
       "  {'transaction-id': 17254, 'amount': 374},\n",
       "  {'transaction-id': 18242, 'amount': 505},\n",
       "  {'transaction-id': 19524, 'amount': 383},\n",
       "  {'transaction-id': 20610, 'amount': 582},\n",
       "  {'transaction-id': 23682, 'amount': 571},\n",
       "  {'transaction-id': 28064, 'amount': 290},\n",
       "  {'transaction-id': 28298, 'amount': 670},\n",
       "  {'transaction-id': 30964, 'amount': 638},\n",
       "  {'transaction-id': 31346, 'amount': 547},\n",
       "  {'transaction-id': 36823, 'amount': 668},\n",
       "  {'transaction-id': 40366, 'amount': 475},\n",
       "  {'transaction-id': 41962, 'amount': 450},\n",
       "  {'transaction-id': 43974, 'amount': 728},\n",
       "  {'transaction-id': 44147, 'amount': 484},\n",
       "  {'transaction-id': 45784, 'amount': 646},\n",
       "  {'transaction-id': 45808, 'amount': 385},\n",
       "  {'transaction-id': 51309, 'amount': 526},\n",
       "  {'transaction-id': 51394, 'amount': 109},\n",
       "  {'transaction-id': 51504, 'amount': 628},\n",
       "  {'transaction-id': 55481, 'amount': 518},\n",
       "  {'transaction-id': 58884, 'amount': 303},\n",
       "  {'transaction-id': 59223, 'amount': 369},\n",
       "  {'transaction-id': 61235, 'amount': 446},\n",
       "  {'transaction-id': 61488, 'amount': 317},\n",
       "  {'transaction-id': 62966, 'amount': 225},\n",
       "  {'transaction-id': 64127, 'amount': 632},\n",
       "  {'transaction-id': 64404, 'amount': 368},\n",
       "  {'transaction-id': 65243, 'amount': 490},\n",
       "  {'transaction-id': 66247, 'amount': 662},\n",
       "  {'transaction-id': 70525, 'amount': 325},\n",
       "  {'transaction-id': 70826, 'amount': 405},\n",
       "  {'transaction-id': 74624, 'amount': 240},\n",
       "  {'transaction-id': 77226, 'amount': 475},\n",
       "  {'transaction-id': 77325, 'amount': 507},\n",
       "  {'transaction-id': 78552, 'amount': 343},\n",
       "  {'transaction-id': 81527, 'amount': 467},\n",
       "  {'transaction-id': 82665, 'amount': 379},\n",
       "  {'transaction-id': 88339, 'amount': 546},\n",
       "  {'transaction-id': 92568, 'amount': 480},\n",
       "  {'transaction-id': 92709, 'amount': 348},\n",
       "  {'transaction-id': 94849, 'amount': 178},\n",
       "  {'transaction-id': 94893, 'amount': 632},\n",
       "  {'transaction-id': 94987, 'amount': 76},\n",
       "  {'transaction-id': 95091, 'amount': 359},\n",
       "  {'transaction-id': 98858, 'amount': 519}])"
      ]
     },
     "execution_count": 287,
     "metadata": {},
     "output_type": "execute_result"
    }
   ],
   "source": [
    "js.filter(lambda record: record['name'] == 'Alice').pluck('transactions').take(3)"
   ]
  },
  {
   "cell_type": "code",
   "execution_count": 288,
   "metadata": {},
   "outputs": [
    {
     "data": {
      "text/plain": [
       "({'transaction-id': 1284, 'amount': 28},\n",
       " {'transaction-id': 2262, 'amount': 24},\n",
       " {'transaction-id': 4392, 'amount': 25})"
      ]
     },
     "execution_count": 288,
     "metadata": {},
     "output_type": "execute_result"
    }
   ],
   "source": [
    "(js.filter(lambda record: record['name'] == 'Alice')\n",
    "   .pluck('transactions')\n",
    "   .flatten()\n",
    "   .take(3))"
   ]
  },
  {
   "cell_type": "code",
   "execution_count": 289,
   "metadata": {},
   "outputs": [
    {
     "data": {
      "text/plain": [
       "(28, 24, 25)"
      ]
     },
     "execution_count": 289,
     "metadata": {},
     "output_type": "execute_result"
    }
   ],
   "source": [
    "(js.filter(lambda record: record['name'] == 'Alice')\n",
    "   .pluck('transactions')\n",
    "   .flatten()\n",
    "   .pluck('amount')\n",
    "   .take(3))"
   ]
  },
  {
   "cell_type": "code",
   "execution_count": 290,
   "metadata": {},
   "outputs": [
    {
     "data": {
      "text/plain": [
       "1392.7141634314305"
      ]
     },
     "execution_count": 290,
     "metadata": {},
     "output_type": "execute_result"
    }
   ],
   "source": [
    "(js.filter(lambda record: record['name'] == 'Alice')\n",
    "   .pluck('transactions')\n",
    "   .flatten()\n",
    "   .pluck('amount')\n",
    "   .mean()\n",
    "   .compute())"
   ]
  },
  {
   "cell_type": "markdown",
   "metadata": {},
   "source": [
    "### Функции Groupby и Foldby"
   ]
  },
  {
   "cell_type": "markdown",
   "metadata": {},
   "source": [
    "Часто мы хотим сгруппировать данные по какой-то функции или ключу. Мы можем сделать это либо с помощью метода `.groupby`, который является простым, но требует полного перемешивания данных (дорогой операции), либо с помощью более сложного в использовании, но более быстрого метода `.foldby`, который эффективно совмещает группировку и свертку.\n",
    "* `groupby`: перемешивает данные так, чтобы все элементы с одним и тем же ключом находились в одной и той же паре ключ-значение.\n",
    "* `foldby`: просматривает данные, накапливая результат для каждого ключа в отдельном разделе, и агрегирует уже накопленные результы."
   ]
  },
  {
   "cell_type": "markdown",
   "metadata": {},
   "source": [
    "We find the number of people with the same name."
   ]
  },
  {
   "cell_type": "code",
   "execution_count": 291,
   "metadata": {
    "scrolled": true
   },
   "outputs": [
    {
     "name": "stdout",
     "output_type": "stream",
     "text": [
      "[('Alice', 1500), ('Bob', 836), ('Charlie', 1100), ('Dan', 700), ('Edith', 847), ('Frank', 953), ('George', 1094), ('Hannah', 1150), ('Ingrid', 700), ('Jerry', 898), ('Kevin', 1191), ('Laura', 1200), ('Michael', 745), ('Norbert', 950), ('Oliver', 500), ('Patricia', 841), ('Quinn', 900), ('Ray', 750), ('Sarah', 1100), ('Tim', 950), ('Ursula', 850), ('Victor', 848), ('Wendy', 1250), ('Xavier', 1108), ('Yvonne', 850), ('Zelda', 998)]\n",
      "CPU times: total: 59.5 s\n",
      "Wall time: 1min 56s\n"
     ]
    }
   ],
   "source": [
    "%%time\n",
    "# Имейте в виду данная ячейка будет выполняться достаточно долго...\n",
    "result = js.groupby(lambda item: item['name']).starmap(lambda k, v: (k, len(v))).compute()\n",
    "print(sorted(result))"
   ]
  },
  {
   "cell_type": "code",
   "execution_count": 292,
   "metadata": {},
   "outputs": [
    {
     "name": "stdout",
     "output_type": "stream",
     "text": [
      "[('Alice', 1500), ('Bob', 836), ('Charlie', 1100), ('Dan', 700), ('Edith', 847), ('Frank', 953), ('George', 1094), ('Hannah', 1150), ('Ingrid', 700), ('Jerry', 898), ('Kevin', 1191), ('Laura', 1200), ('Michael', 745), ('Norbert', 950), ('Oliver', 500), ('Patricia', 841), ('Quinn', 900), ('Ray', 750), ('Sarah', 1100), ('Tim', 950), ('Ursula', 850), ('Victor', 848), ('Wendy', 1250), ('Xavier', 1108), ('Yvonne', 850), ('Zelda', 998)]\n",
      "CPU times: total: 391 ms\n",
      "Wall time: 23.2 s\n"
     ]
    }
   ],
   "source": [
    "%%time\n",
    "# Выполнение этой ячейки относительно быстро и дает тот же результат.\n",
    "from operator import add\n",
    "def incr(tot, _):\n",
    "    return tot + 1\n",
    "\n",
    "result = js.foldby(key='name', \n",
    "                   binop=incr, \n",
    "                   initial=0, \n",
    "                   combine=add, \n",
    "                   combine_initial=0).compute()\n",
    "print(sorted(result))"
   ]
  },
  {
   "cell_type": "code",
   "execution_count": null,
   "metadata": {},
   "outputs": [],
   "source": []
  }
 ],
 "metadata": {
  "kernelspec": {
   "display_name": "Python 3 (ipykernel)",
   "language": "python",
   "name": "python3"
  },
  "language_info": {
   "codemirror_mode": {
    "name": "ipython",
    "version": 3
   },
   "file_extension": ".py",
   "mimetype": "text/x-python",
   "name": "python",
   "nbconvert_exporter": "python",
   "pygments_lexer": "ipython3",
   "version": "3.9.12"
  }
 },
 "nbformat": 4,
 "nbformat_minor": 2
}
